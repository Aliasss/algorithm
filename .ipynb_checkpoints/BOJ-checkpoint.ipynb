{
 "cells": [
  {
   "cell_type": "markdown",
   "metadata": {},
   "source": [
    "## 참고: 주피터에선 stdin 환경설정이 잘 되어있지 않으므로 항상 빈 문자열을 반환함<br> 따라서, input()을 활용해야 함"
   ]
  },
  {
   "cell_type": "markdown",
   "metadata": {},
   "source": [
    "# 입출력 2557"
   ]
  },
  {
   "cell_type": "code",
   "execution_count": 2,
   "metadata": {},
   "outputs": [
    {
     "name": "stdout",
     "output_type": "stream",
     "text": [
      "Hello World!\n"
     ]
    }
   ],
   "source": [
    "print(\"Hello World!\")"
   ]
  },
  {
   "cell_type": "markdown",
   "metadata": {},
   "source": [
    "# 입출력 1000"
   ]
  },
  {
   "cell_type": "code",
   "execution_count": 6,
   "metadata": {},
   "outputs": [
    {
     "name": "stdout",
     "output_type": "stream",
     "text": [
      "1 2\n",
      "3\n"
     ]
    }
   ],
   "source": [
    "A, B = list(map(int, input().split()))\n",
    "C = A + B\n",
    "print(C)"
   ]
  },
  {
   "cell_type": "code",
   "execution_count": 14,
   "metadata": {},
   "outputs": [],
   "source": [
    "# import sys\n",
    "# A, B = list(map(int, sys.stdin.readline().split()))\n",
    "# print(A + B)"
   ]
  },
  {
   "cell_type": "code",
   "execution_count": 16,
   "metadata": {},
   "outputs": [
    {
     "name": "stdout",
     "output_type": "stream",
     "text": [
      "1 2\n",
      "3\n"
     ]
    }
   ],
   "source": [
    "print(sum(map(int, input().split())))"
   ]
  },
  {
   "cell_type": "markdown",
   "metadata": {},
   "source": [
    "# 3 입출력 2558"
   ]
  },
  {
   "cell_type": "code",
   "execution_count": 1,
   "metadata": {},
   "outputs": [
    {
     "name": "stdout",
     "output_type": "stream",
     "text": [
      "1\n",
      "2\n",
      "3\n"
     ]
    }
   ],
   "source": [
    "A = int(input())\n",
    "B = int(input())\n",
    "print(A + B)"
   ]
  },
  {
   "cell_type": "markdown",
   "metadata": {},
   "source": [
    "# 입출력 10950"
   ]
  },
  {
   "cell_type": "code",
   "execution_count": 4,
   "metadata": {},
   "outputs": [
    {
     "name": "stdout",
     "output_type": "stream",
     "text": [
      "5\n",
      "1 1\n",
      "2\n",
      "2 2\n",
      "4\n",
      "3 3\n",
      "6\n",
      "4 4\n",
      "8\n",
      "5 5\n",
      "10\n"
     ]
    }
   ],
   "source": [
    "T = int(input())\n",
    "for i in range(T):\n",
    "    A, B = map(int, input().split())\n",
    "    print(A + B)"
   ]
  },
  {
   "cell_type": "markdown",
   "metadata": {},
   "source": [
    "# 입출력 10951"
   ]
  },
  {
   "cell_type": "markdown",
   "metadata": {},
   "source": [
    "문제<br>\n",
    "두 정수 A와 B를 입력받은 다음, A+B를 출력하는 프로그램을 작성하시오.<br><br>\n",
    "\n",
    "입력<br>\n",
    "입력은 여러 개의 테스트 케이스로 이루어져 있다.<br>\n",
    "\n",
    "각 테스트 케이스는 한 줄로 이루어져 있으며, 각 줄에 A와 B가 주어진다. (0 < A, B < 10)<br><br>\n",
    "\n",
    "출력<br>\n",
    "각 테스트 케이스마다 A+B를 출력한다."
   ]
  },
  {
   "cell_type": "markdown",
   "metadata": {},
   "source": [
    "테스트케이스의 개수와 종료조건이 명시돼있지 않다. <br>\n",
    "따라서, 정상적인 프로그램 종료를 위해 데이터 소스로부터 더 이상 읽을 수 있는 데이터가 없음을 나타내야 한다.<br>\n",
    "**예외처리 활용!**"
   ]
  },
  {
   "cell_type": "code",
   "execution_count": 1,
   "metadata": {},
   "outputs": [
    {
     "name": "stdout",
     "output_type": "stream",
     "text": [
      "1 2\n",
      "3\n",
      "3 4\n",
      "7\n",
      "ㄱ\n"
     ]
    }
   ],
   "source": [
    "while 1:\n",
    "    try: \n",
    "        A, B = map(int, input().split())\n",
    "        print(A + B)\n",
    "    except:\n",
    "        break"
   ]
  },
  {
   "cell_type": "code",
   "execution_count": 4,
   "metadata": {},
   "outputs": [
    {
     "name": "stdout",
     "output_type": "stream",
     "text": [
      "1 2\n",
      "3\n",
      "3 4\n",
      "7\n",
      "r\n",
      "error\n"
     ]
    }
   ],
   "source": [
    "try:\n",
    "    while 1:\n",
    "        A, B = map(int, input().split())\n",
    "        print(A + B)\n",
    "except:\n",
    "    print('error')"
   ]
  },
  {
   "cell_type": "markdown",
   "metadata": {},
   "source": [
    "# 입출력 10952"
   ]
  },
  {
   "cell_type": "code",
   "execution_count": 6,
   "metadata": {},
   "outputs": [],
   "source": [
    "# 주피터 외 환경에서 실행\n",
    "import sys\n",
    "while True:\n",
    "    A, B = map(int, sys.stdin.readline().split())\n",
    "    if A == 0 and B == 0:\n",
    "        break\n",
    "    else:\n",
    "        print(A+B)"
   ]
  },
  {
   "cell_type": "markdown",
   "metadata": {},
   "source": [
    "변수 A와 B가 모두 0이 되면 반복 중단한다."
   ]
  },
  {
   "cell_type": "code",
   "execution_count": 7,
   "metadata": {},
   "outputs": [
    {
     "name": "stdout",
     "output_type": "stream",
     "text": [
      "1 2\n",
      "3\n",
      "2 3\n",
      "5\n",
      "0 0\n"
     ]
    }
   ],
   "source": [
    "while 1:\n",
    "    A, B = map(int, input().split())\n",
    "    if A == 0 and B == 0:\n",
    "        break  # 반복문 빠져나가기\n",
    "    else:\n",
    "        print(A + B)"
   ]
  },
  {
   "cell_type": "markdown",
   "metadata": {},
   "source": [
    "# 입출력 10953"
   ]
  },
  {
   "cell_type": "code",
   "execution_count": 9,
   "metadata": {},
   "outputs": [
    {
     "name": "stdout",
     "output_type": "stream",
     "text": [
      "2\n",
      "1, 2\n",
      "3\n",
      "3, 4\n",
      "7\n"
     ]
    }
   ],
   "source": [
    "T = int(input())\n",
    "for i in range(T):\n",
    "    A, B = map(int, input().split(','))\n",
    "    print(A + B)"
   ]
  },
  {
   "cell_type": "markdown",
   "metadata": {},
   "source": [
    "# 입출력 11021"
   ]
  },
  {
   "cell_type": "code",
   "execution_count": 10,
   "metadata": {},
   "outputs": [
    {
     "name": "stdout",
     "output_type": "stream",
     "text": [
      "3\n",
      "1 2\n",
      "Case #1: 3\n",
      "2 3\n",
      "Case #2: 5\n",
      "3 4\n",
      "Case #3: 7\n"
     ]
    }
   ],
   "source": [
    "T = int(input())\n",
    "for i in range(1, T+1):\n",
    "    A, B = map(int, input().split())\n",
    "    print(f'Case #{i}: {A+B}')"
   ]
  },
  {
   "cell_type": "markdown",
   "metadata": {},
   "source": [
    "# 입출력 11022"
   ]
  },
  {
   "cell_type": "markdown",
   "metadata": {},
   "source": [
    "https://www.acmicpc.net/problem/11022"
   ]
  },
  {
   "cell_type": "code",
   "execution_count": 11,
   "metadata": {},
   "outputs": [
    {
     "name": "stdout",
     "output_type": "stream",
     "text": [
      "2\n",
      "1 2\n",
      "Case #1: 1 + 2 = 3\n",
      "3 4\n",
      "Case #2: 3 + 4 = 7\n"
     ]
    }
   ],
   "source": [
    "T = int(input())\n",
    "for i in range(1, T+1):\n",
    "    A, B = map(int, input().split())\n",
    "    print(f'Case #{i}: {A} + {B} = {A+B}')"
   ]
  },
  {
   "cell_type": "markdown",
   "metadata": {},
   "source": [
    "# 입출력 11718"
   ]
  },
  {
   "cell_type": "markdown",
   "metadata": {},
   "source": [
    "https://www.acmicpc.net/problem/11718"
   ]
  },
  {
   "cell_type": "code",
   "execution_count": null,
   "metadata": {},
   "outputs": [
    {
     "name": "stdout",
     "output_type": "stream",
     "text": [
      "abcadfaef\n",
      "abcadfaef\n",
      "dfdafefa\n",
      "dfdafefa\n",
      "dafef\n",
      "dafef\n",
      "adfe\n",
      "adfe\n",
      "fadfad\n",
      "fadfad\n",
      "fef\n",
      "fef\n",
      "adfad\n",
      "adfad\n",
      "faef\n",
      "faef\n",
      "adfadf\n",
      "adfadf\n",
      "\n",
      "\n",
      "z\n",
      "z\n",
      "exit\n",
      "exit\n",
      "종료\n",
      "종료\n"
     ]
    }
   ],
   "source": [
    "while 1:\n",
    "    try:\n",
    "        print(input())\n",
    "    except EOFError:\n",
    "        break"
   ]
  },
  {
   "cell_type": "markdown",
   "metadata": {},
   "source": [
    "**EOFError란?**<br>\n",
    "파이썬은 EOFError 라고 불리우는 오류를 발생시키는데 이때 EOF란 파일의 끝(end of file) 을 의미하며(파일의 끝은 ctrl-d 에 의해 표현된다), 갑자기 파일의 끝이 올 것을 예상하지 못했기 때문에 위와 같은 오류가 발생하는 것이다."
   ]
  },
  {
   "cell_type": "code",
   "execution_count": null,
   "metadata": {},
   "outputs": [],
   "source": [
    "# 주피터 외 환경에서 실행\n",
    "import sys\n",
    "print(sys.stdin.read())"
   ]
  },
  {
   "cell_type": "markdown",
   "metadata": {},
   "source": [
    "입출력 input(), sys.stdin 참고 링크<br>\n",
    "**https://velog.io/@tbnsok40/%ED%8C%8C%EC%9D%B4%EC%8D%AC-%EB%8B%A4%EC%96%91%ED%95%9C-%EC%9E%85%EB%A0%A5%EB%B0%A9%EB%B2%95-input-read-readline**"
   ]
  },
  {
   "cell_type": "markdown",
   "metadata": {},
   "source": [
    "# 입출력 11719"
   ]
  },
  {
   "cell_type": "markdown",
   "metadata": {},
   "source": [
    "https://www.acmicpc.net/problem/11719"
   ]
  },
  {
   "cell_type": "code",
   "execution_count": null,
   "metadata": {},
   "outputs": [],
   "source": [
    "while 1:\n",
    "    try:\n",
    "        print(input())\n",
    "    except EOFError:\n",
    "        break"
   ]
  },
  {
   "cell_type": "markdown",
   "metadata": {},
   "source": [
    "# 입출력 11720"
   ]
  },
  {
   "cell_type": "markdown",
   "metadata": {},
   "source": [
    "https://www.acmicpc.net/problem/11720"
   ]
  },
  {
   "cell_type": "code",
   "execution_count": 12,
   "metadata": {},
   "outputs": [
    {
     "name": "stdout",
     "output_type": "stream",
     "text": [
      "5\n",
      "1234\n",
      "10\n",
      "1234\n"
     ]
    }
   ],
   "source": [
    "sum = 0\n",
    "N = int(input())\n",
    "num = input()\n",
    "for i in num:\n",
    "    sum += int(i)\n",
    "print(sum)"
   ]
  },
  {
   "cell_type": "markdown",
   "metadata": {},
   "source": [
    "# 입출력 11721"
   ]
  },
  {
   "cell_type": "markdown",
   "metadata": {},
   "source": [
    "https://www.acmicpc.net/problem/11721"
   ]
  },
  {
   "cell_type": "code",
   "execution_count": 14,
   "metadata": {},
   "outputs": [
    {
     "name": "stdout",
     "output_type": "stream",
     "text": [
      "abcdefghijklmnopqrstuvwxyz\n",
      "abcdefghij\n",
      "klmnopqrst\n",
      "uvwxyz"
     ]
    }
   ],
   "source": [
    "string = input()\n",
    "cnt = 0\n",
    "for each in string:\n",
    "    print(each, end='')   # 개행이 되지 않도록 end=''\n",
    "    cnt += 1\n",
    "    if cnt % 10 == 0:\n",
    "        print('')"
   ]
  },
  {
   "cell_type": "markdown",
   "metadata": {},
   "source": [
    "# 입출력 2741"
   ]
  },
  {
   "cell_type": "markdown",
   "metadata": {},
   "source": [
    "https://www.acmicpc.net/problem/2741"
   ]
  },
  {
   "cell_type": "code",
   "execution_count": 16,
   "metadata": {},
   "outputs": [
    {
     "name": "stdout",
     "output_type": "stream",
     "text": [
      "5\n",
      "1\n",
      "2\n",
      "3\n",
      "4\n",
      "5\n"
     ]
    }
   ],
   "source": [
    "a = int(input())\n",
    "for i in range(1, a+1):\n",
    "    print(i)"
   ]
  },
  {
   "cell_type": "markdown",
   "metadata": {},
   "source": [
    "# 입출력 2742"
   ]
  },
  {
   "cell_type": "markdown",
   "metadata": {},
   "source": [
    "https://www.acmicpc.net/problem/2742"
   ]
  },
  {
   "cell_type": "code",
   "execution_count": 21,
   "metadata": {},
   "outputs": [
    {
     "name": "stdout",
     "output_type": "stream",
     "text": [
      "3\n",
      "3\n",
      "2\n",
      "1\n"
     ]
    }
   ],
   "source": [
    "a = int(input())\n",
    "for i in range(a, 0, -1):\n",
    "    print(i)"
   ]
  },
  {
   "cell_type": "markdown",
   "metadata": {},
   "source": [
    "# 입출력 2743"
   ]
  },
  {
   "cell_type": "markdown",
   "metadata": {},
   "source": [
    "https://www.acmicpc.net/problem/2739"
   ]
  },
  {
   "cell_type": "code",
   "execution_count": 25,
   "metadata": {},
   "outputs": [
    {
     "name": "stdout",
     "output_type": "stream",
     "text": [
      "2\n",
      "2 * 1 = 2\n",
      "2 * 2 = 4\n",
      "2 * 3 = 6\n",
      "2 * 4 = 8\n",
      "2 * 5 = 10\n",
      "2 * 6 = 12\n",
      "2 * 7 = 14\n",
      "2 * 8 = 16\n",
      "2 * 9 = 18\n"
     ]
    }
   ],
   "source": [
    "N = int(input())\n",
    "for i in range(1, 10):\n",
    "    print(f\"{N} * {i} = {N*i}\")"
   ]
  },
  {
   "cell_type": "markdown",
   "metadata": {},
   "source": [
    "# 입출력 1924"
   ]
  },
  {
   "cell_type": "markdown",
   "metadata": {},
   "source": [
    "https://www.acmicpc.net/problem/1924"
   ]
  },
  {
   "cell_type": "code",
   "execution_count": 31,
   "metadata": {},
   "outputs": [
    {
     "name": "stdout",
     "output_type": "stream",
     "text": [
      "2 1\n",
      "TUE\n"
     ]
    }
   ],
   "source": [
    "day = 0\n",
    "# 1~12월의 마지막 일\n",
    "date = [31, 28, 31, 30, 31, 30, 31, 31, 30, 31, 30, 31]\n",
    "weekday = ['SUN', 'MON', 'TUE', 'WED', 'THU', 'FRI', 'SAT']\n",
    "\n",
    "x, y = map(int, input().split())\n",
    "for i in range(x-1):    # x에 입력되는 달의 직전 달까지의 일수를 계산\n",
    "    day = day + date[i]\n",
    "day = (day + y) % 7\n",
    "print(weekday[day])"
   ]
  },
  {
   "cell_type": "markdown",
   "metadata": {},
   "source": [
    "# 입출력 8393"
   ]
  },
  {
   "cell_type": "markdown",
   "metadata": {},
   "source": [
    "https://www.acmicpc.net/problem/8393"
   ]
  },
  {
   "cell_type": "code",
   "execution_count": 32,
   "metadata": {},
   "outputs": [
    {
     "name": "stdout",
     "output_type": "stream",
     "text": [
      "3\n",
      "6\n"
     ]
    }
   ],
   "source": [
    "n = 0\n",
    "a = int(input())\n",
    "for i in range(1, a+1):\n",
    "    n += i\n",
    "print(n)"
   ]
  },
  {
   "cell_type": "markdown",
   "metadata": {},
   "source": [
    "# 입출력 10818"
   ]
  },
  {
   "cell_type": "markdown",
   "metadata": {},
   "source": [
    "https://www.acmicpc.net/problem/10818"
   ]
  },
  {
   "cell_type": "code",
   "execution_count": 41,
   "metadata": {},
   "outputs": [
    {
     "name": "stdout",
     "output_type": "stream",
     "text": [
      "5\n",
      "20 10 35 30 7\n",
      "7 35\n"
     ]
    }
   ],
   "source": [
    "n = int(input())\n",
    "a = list(map(int, input().split()))\n",
    "print(min(a), max(a))"
   ]
  },
  {
   "cell_type": "markdown",
   "metadata": {},
   "source": [
    "# 입출력 2438"
   ]
  },
  {
   "cell_type": "markdown",
   "metadata": {},
   "source": [
    "https://www.acmicpc.net/problem/2438"
   ]
  },
  {
   "cell_type": "code",
   "execution_count": 44,
   "metadata": {},
   "outputs": [
    {
     "name": "stdout",
     "output_type": "stream",
     "text": [
      "5\n",
      "*\n",
      "**\n",
      "***\n",
      "****\n",
      "*****\n"
     ]
    }
   ],
   "source": [
    "n = int(input())\n",
    "for i in range(1, n+1):\n",
    "    print('*'*i)"
   ]
  },
  {
   "cell_type": "markdown",
   "metadata": {},
   "source": [
    "# 입출력 2439"
   ]
  },
  {
   "cell_type": "markdown",
   "metadata": {},
   "source": [
    "https://www.acmicpc.net/problem/2439"
   ]
  },
  {
   "cell_type": "code",
   "execution_count": 48,
   "metadata": {},
   "outputs": [
    {
     "name": "stdout",
     "output_type": "stream",
     "text": [
      "5\n",
      "    *\n",
      "   **\n",
      "  ***\n",
      " ****\n",
      "*****\n"
     ]
    }
   ],
   "source": [
    "n = int(input())\n",
    "for i in range(1, n+1):\n",
    "    print(' ' * (n-i), end='')  # 공백 띄어주기\n",
    "    print('*' * i)"
   ]
  },
  {
   "cell_type": "markdown",
   "metadata": {},
   "source": [
    "# 입출력 2440"
   ]
  },
  {
   "cell_type": "markdown",
   "metadata": {},
   "source": [
    "https://www.acmicpc.net/problem/2440"
   ]
  },
  {
   "cell_type": "code",
   "execution_count": 49,
   "metadata": {},
   "outputs": [
    {
     "name": "stdout",
     "output_type": "stream",
     "text": [
      "5\n",
      "*****\n",
      "****\n",
      "***\n",
      "**\n",
      "*\n"
     ]
    }
   ],
   "source": [
    "n = int(input())\n",
    "for i in range(n, 0, -1):\n",
    "    print('*' * i)"
   ]
  },
  {
   "cell_type": "markdown",
   "metadata": {},
   "source": [
    "# 입출력 2441"
   ]
  },
  {
   "cell_type": "markdown",
   "metadata": {},
   "source": [
    "https://www.acmicpc.net/problem/2441"
   ]
  },
  {
   "cell_type": "code",
   "execution_count": 52,
   "metadata": {},
   "outputs": [
    {
     "name": "stdout",
     "output_type": "stream",
     "text": [
      "5\n",
      "*****\n",
      " ****\n",
      "  ***\n",
      "   **\n",
      "    *\n"
     ]
    }
   ],
   "source": [
    "n = int(input())\n",
    "for i in range(n, 0, -1):\n",
    "    print(' ' * (n-i), end='')\n",
    "    print('*' * i)"
   ]
  },
  {
   "cell_type": "markdown",
   "metadata": {},
   "source": [
    "# 입출력 2442"
   ]
  },
  {
   "cell_type": "markdown",
   "metadata": {},
   "source": [
    "https://www.acmicpc.net/problem/2442"
   ]
  },
  {
   "cell_type": "code",
   "execution_count": 56,
   "metadata": {},
   "outputs": [
    {
     "name": "stdout",
     "output_type": "stream",
     "text": [
      "10\n",
      "         *\n",
      "        ***\n",
      "       *****\n",
      "      *******\n",
      "     *********\n",
      "    ***********\n",
      "   *************\n",
      "  ***************\n",
      " *****************\n",
      "*******************\n"
     ]
    }
   ],
   "source": [
    "n = int(input())\n",
    "for i in range(1, n+1):\n",
    "    print(' ' * (n-i), end='')\n",
    "    print('*' * (2*i-1))"
   ]
  },
  {
   "cell_type": "markdown",
   "metadata": {},
   "source": [
    "# 입출력 2445"
   ]
  },
  {
   "cell_type": "markdown",
   "metadata": {},
   "source": [
    "https://www.acmicpc.net/problem/2445"
   ]
  },
  {
   "cell_type": "code",
   "execution_count": 67,
   "metadata": {},
   "outputs": [
    {
     "name": "stdout",
     "output_type": "stream",
     "text": [
      "5\n",
      "*        *\n",
      "**      **\n",
      "***    ***\n",
      "****  ****\n",
      "**********\n",
      "****  ****\n",
      "***    ***\n",
      "**      **\n",
      "*        *\n"
     ]
    }
   ],
   "source": [
    "n = int(input()) \n",
    "for i in range(1, n+1):\n",
    "    print('*' * i, end='')\n",
    "    print(' ' * ((n*2)-(i*2)), end='')\n",
    "    print('*' * i)\n",
    "    \n",
    "for i in range(1,n):\n",
    "    print('*'*(n-i), end='')\n",
    "    print(' ' * (i*2), end='')\n",
    "    print('*' *(n-i))"
   ]
  },
  {
   "cell_type": "markdown",
   "metadata": {},
   "source": [
    "# 입출력 2522"
   ]
  },
  {
   "cell_type": "markdown",
   "metadata": {},
   "source": [
    "https://www.acmicpc.net/problem/2522"
   ]
  },
  {
   "cell_type": "code",
   "execution_count": 74,
   "metadata": {},
   "outputs": [
    {
     "name": "stdout",
     "output_type": "stream",
     "text": [
      "5\n",
      "    *\n",
      "   **\n",
      "  ***\n",
      " ****\n",
      "*****\n",
      " ****\n",
      "  ***\n",
      "   **\n",
      "    *\n"
     ]
    }
   ],
   "source": [
    "n = int(input())\n",
    "\n",
    "for a in range(1, n+1):\n",
    "    print(('*' * a).rjust(n))\n",
    "for b in range(n-1, 0, -1):\n",
    "    print(('*' * b).rjust(n))"
   ]
  },
  {
   "cell_type": "markdown",
   "metadata": {},
   "source": [
    "# 입출력 2446"
   ]
  },
  {
   "cell_type": "markdown",
   "metadata": {},
   "source": [
    "https://www.acmicpc.net/problem/2446"
   ]
  },
  {
   "cell_type": "code",
   "execution_count": 82,
   "metadata": {},
   "outputs": [
    {
     "name": "stdout",
     "output_type": "stream",
     "text": [
      "5\n",
      "*********\n",
      " *******\n",
      "  *****\n",
      "   ***\n",
      "    *\n",
      "   ***\n",
      "  *****\n",
      " *******\n",
      "*********\n"
     ]
    }
   ],
   "source": [
    "n = int(input())\n",
    "\n",
    "for a in range(n, 0, -1):\n",
    "    print(' ' * (n-a), '*' * (a*2-1), sep='')  \n",
    "for b in range(2, n+1):\n",
    "    print(' ' * (n-b), '*' * (b*2-1), sep='')"
   ]
  },
  {
   "cell_type": "markdown",
   "metadata": {},
   "source": [
    "# 입출력 10991"
   ]
  },
  {
   "cell_type": "markdown",
   "metadata": {},
   "source": [
    "https://www.acmicpc.net/problem/10991"
   ]
  },
  {
   "cell_type": "code",
   "execution_count": 87,
   "metadata": {},
   "outputs": [
    {
     "name": "stdout",
     "output_type": "stream",
     "text": [
      "3\n",
      "  *\n",
      " * *\n",
      "* * *\n"
     ]
    }
   ],
   "source": [
    "n = int(input())\n",
    "for a in range(1, n+1):\n",
    "    print(' ' * (n-a), end='')\n",
    "    for b in range(1, a):\n",
    "        print('* ', sep='', end='')\n",
    "    print('*')"
   ]
  },
  {
   "cell_type": "markdown",
   "metadata": {},
   "source": [
    "# 입출력 10992"
   ]
  },
  {
   "cell_type": "markdown",
   "metadata": {},
   "source": [
    "https://www.acmicpc.net/problem/10992"
   ]
  },
  {
   "cell_type": "code",
   "execution_count": 91,
   "metadata": {},
   "outputs": [
    {
     "name": "stdout",
     "output_type": "stream",
     "text": [
      "3\n",
      "  *\n",
      " * *\n",
      "*****\n"
     ]
    }
   ],
   "source": [
    "n = int(input())\n",
    "for a in range(1, n+1):\n",
    "    if a == 1 or a == n:\n",
    "        print(' ' * (n-a), '*' * (2*a-1), sep='')\n",
    "    else:\n",
    "        print(' ' * (n-a), '*', ' ' * ((a-1) * 2 -1), '*', sep='')"
   ]
  },
  {
   "cell_type": "markdown",
   "metadata": {},
   "source": [
    "# Stack 10828"
   ]
  },
  {
   "cell_type": "markdown",
   "metadata": {},
   "source": [
    "https://www.acmicpc.net/problem/10828"
   ]
  },
  {
   "cell_type": "markdown",
   "metadata": {},
   "source": [
    "push X: 정수 X를 스택에 넣는 연산이다.<br>\n",
    "pop: 스택에서 가장 위에 있는 정수를 빼고, 그 수를 출력한다. 만약 스택에 들어있는 정수가 없는 경우에는 -1을 출력한다.<br>\n",
    "size: 스택에 들어있는 정수의 개수를 출력한다.<br>\n",
    "empty: 스택이 비어있으면 1, 아니면 0을 출력한다.<br>\n",
    "top: 스택의 가장 위에 있는 정수를 출력한다. 만약 스택에 들어있는 정수가 없는 경우에는 -1을 출력한다.<br><br>\n",
    "입력<br>\n",
    "첫째 줄에 주어지는 명령의 수 N (1 ≤ N ≤ 10,000)이 주어진다. 둘째 줄부터 N개의 줄에는 명령이 하나씩 주어진다. 주어지는 정수는 1보다 크거나 같고, 100,000보다 작거나 같다. 문제에 나와있지 않은 명령이 주어지는 경우는 없다."
   ]
  },
  {
   "cell_type": "code",
   "execution_count": null,
   "metadata": {},
   "outputs": [],
   "source": [
    "ip = input()\n",
    "def command(stack, cmd):\n",
    "    cmd = "
   ]
  },
  {
   "cell_type": "code",
   "execution_count": null,
   "metadata": {},
   "outputs": [],
   "source": []
  },
  {
   "cell_type": "code",
   "execution_count": null,
   "metadata": {},
   "outputs": [],
   "source": []
  },
  {
   "cell_type": "markdown",
   "metadata": {},
   "source": [
    "# 요세푸스 11866"
   ]
  },
  {
   "cell_type": "markdown",
   "metadata": {},
   "source": [
    "https://www.acmicpc.net/problem/11866"
   ]
  },
  {
   "cell_type": "code",
   "execution_count": 92,
   "metadata": {},
   "outputs": [
    {
     "data": {
      "text/plain": [
       "'N = 7\\nK = 3\\n1 2 3 4 5 6 7  \\n2 3 4 5 6 7 1\\n4 5 6 7 1 2   - 맨 앞 제거 (3)\\n5 6 7 1 2 4\\n7 1 2 4 5   - 6 제거'"
      ]
     },
     "execution_count": 92,
     "metadata": {},
     "output_type": "execute_result"
    }
   ],
   "source": [
    "'''N = 7\n",
    "K = 3\n",
    "1 2 3 4 5 6 7  \n",
    "2 3 4 5 6 7 1\n",
    "4 5 6 7 1 2   - 맨 앞 제거 (3)\n",
    "5 6 7 1 2 4\n",
    "7 1 2 4 5   - 6 제거'''"
   ]
  },
  {
   "cell_type": "code",
   "execution_count": 108,
   "metadata": {},
   "outputs": [
    {
     "name": "stdout",
     "output_type": "stream",
     "text": [
      "7 3\n",
      "<3, 6, 2, 7, 5, 1, 4>\n"
     ]
    }
   ],
   "source": [
    "def queue_push(q, value):\n",
    "    q.append(value)\n",
    "def queue_pop(q):\n",
    "    front = q.pop(0)\n",
    "    return front\n",
    "\n",
    "N, k = map(int, input().split())\n",
    "queue = []\n",
    "ans = []\n",
    "\n",
    "for i in range(1, N+1):\n",
    "    queue_push(queue, i)\n",
    "\n",
    "while len(queue) != 0:   \n",
    "    for i in range(k-1):  \n",
    "        front = queue_pop(queue)\n",
    "        queue_push(queue, front)    # for문 반복하고 그 다음 문장인 ans.append 실행, 그 이후 남은 queue로 다시 for문 시작\n",
    "    ans.append(queue_pop(queue))\n",
    "\n",
    "print('<' + ', '.join(map(str, ans)) + '>', sep='')"
   ]
  },
  {
   "cell_type": "code",
   "execution_count": null,
   "metadata": {},
   "outputs": [],
   "source": []
  },
  {
   "cell_type": "markdown",
   "metadata": {},
   "source": [
    "# Bronze 4 - 10039"
   ]
  },
  {
   "cell_type": "code",
   "execution_count": 7,
   "metadata": {},
   "outputs": [],
   "source": [
    "from tqdm import tqdm"
   ]
  },
  {
   "cell_type": "code",
   "execution_count": 17,
   "metadata": {},
   "outputs": [
    {
     "name": "stdout",
     "output_type": "stream",
     "text": [
      "10\n",
      "65\n",
      "40\n",
      "90\n",
      "100\n",
      "67\n"
     ]
    }
   ],
   "source": [
    "def mean(value : list):\n",
    "    j = 0\n",
    "    for i in value:\n",
    "        j += i\n",
    "    result = j // len(value)\n",
    "    return result\n",
    "\n",
    "grade = []\n",
    "for i in range(5):\n",
    "    a = int(input())\n",
    "    if a < 40:\n",
    "        grade.append(40)\n",
    "    else:\n",
    "        grade.append(a)\n",
    "        \n",
    "print(mean(grade))  "
   ]
  },
  {
   "cell_type": "markdown",
   "metadata": {},
   "source": [
    "# Bronze 3 - 2965"
   ]
  },
  {
   "cell_type": "markdown",
   "metadata": {},
   "source": [
    "좌표 간 차이가 적은 쪽이 차이가 큰 쪽으로 이동하는 게 이동횟수를 늘릴 수 있는 방법"
   ]
  },
  {
   "cell_type": "markdown",
   "metadata": {},
   "source": [
    "### 1번째 코드"
   ]
  },
  {
   "cell_type": "code",
   "execution_count": 21,
   "metadata": {
    "scrolled": true
   },
   "outputs": [
    {
     "name": "stdout",
     "output_type": "stream",
     "text": [
      "3 5 9\n",
      "[5, 6, 9]\n",
      "[6, 7, 9]\n",
      "[7, 8, 9]\n",
      "3\n"
     ]
    }
   ],
   "source": [
    "# (1) 만약 B-A가 C-B보다 작으면, A가 B와 C사이로 이동 | 만약 C-B가 B-A보다 작으면, C가 A와 B사이로 이동\n",
    "# (2) B와 C의 외곽으로 이동해야 하므로, B+1 혹은 C-1로 이동\n",
    "# (3) B, B+1, C 중 차이가 작은 쪽의 외곽 좌표에 있는 캥거루가 차이 큰 좌표 쪽으로 이동\n",
    "# 이 과정을 계속 반복하다가 좌표 끼리의 차이가 같아지면 while문 종료\n",
    "\n",
    "'''고려사항: 두 간격이 같으면 둘 중 하나 선택해서 진행\n",
    "(1) 두 간격 다른 경우\n",
    "(2) 두 간격 같은 경우\n",
    "(3) 반복문 중지 조건 : 두 간격이 모두 1이면 종료\n",
    "(4) 세 숫자 모두 같아서는 안됨\n",
    "'''\n",
    "A, B, C = map(int, input().split())\n",
    "stack = [A, B, C]\n",
    "cnt = 0\n",
    "\n",
    "'''\n",
    "3 5 9\n",
    "5 6 9\n",
    "6 7 9\n",
    "7 8 9\n",
    "'''\n",
    "while 1:\n",
    "    left = stack[1]-stack[0]\n",
    "    right = stack[2]-stack[1]\n",
    "    if left != right:\n",
    "        if (left == 1) and (right == 1):\n",
    "                break\n",
    "        else:\n",
    "            cnt += 1\n",
    "            if left < right:\n",
    "                stack[0] = stack[1] + 1\n",
    "                stack.sort()\n",
    "                print(stack)\n",
    "            elif right < left:\n",
    "                stack[2] = stack[0] + 1\n",
    "                stack.sort()\n",
    "                print(stack)\n",
    "    else:   # 7 8 9\n",
    "        if (left == 1) and (right == 1):\n",
    "                break\n",
    "        else:\n",
    "            cnt += 1\n",
    "            stack[0] = stack[1] + 1\n",
    "            stack.sort()\n",
    "            print(stack)\n",
    "        \n",
    "print(cnt)"
   ]
  },
  {
   "cell_type": "code",
   "execution_count": 7,
   "metadata": {},
   "outputs": [],
   "source": [
    "# A, B, C = map(int, input().split())\n",
    "# stack = [A, B, C]\n",
    "# cnt = 0\n",
    "# left = stack[1]-stack[0]\n",
    "# right = stack[2]-stack[1]\n",
    "\n",
    "# while 1:\n",
    "#     if left and right == 1:\n",
    "#         print('break')\n",
    "#         break\n",
    "#     else:\n",
    "#         print('keep going')"
   ]
  },
  {
   "cell_type": "markdown",
   "metadata": {},
   "source": [
    "### 2번째 코드"
   ]
  },
  {
   "cell_type": "code",
   "execution_count": 20,
   "metadata": {},
   "outputs": [
    {
     "name": "stdout",
     "output_type": "stream",
     "text": [
      "3 5 9\n",
      "[5, 6, 9]\n",
      "[6, 7, 9]\n",
      "[7, 8, 9]\n",
      "3\n"
     ]
    }
   ],
   "source": [
    "A, B, C = map(int, input().split())\n",
    "stack = [A, B, C]\n",
    "cnt = 0\n",
    "\n",
    "while 1:\n",
    "    left = stack[1]-stack[0]\n",
    "    right = stack[2]-stack[1]\n",
    "    if left == 1 and right == 1:\n",
    "        break\n",
    "    if left < right:\n",
    "        cnt += 1\n",
    "        stack[0] = stack[1] + 1\n",
    "        stack.sort()\n",
    "        print(stack)\n",
    "    else:\n",
    "        cnt += 1\n",
    "        stack[2] = stack[0] + 1\n",
    "        stack.sort()\n",
    "        print(stack)\n",
    "        \n",
    "print(cnt)"
   ]
  },
  {
   "cell_type": "markdown",
   "metadata": {},
   "source": [
    "### 구글링해서 찾은 코드"
   ]
  },
  {
   "cell_type": "code",
   "execution_count": 6,
   "metadata": {},
   "outputs": [
    {
     "name": "stdout",
     "output_type": "stream",
     "text": [
      "3 5 9\n",
      "3\n"
     ]
    }
   ],
   "source": [
    "'''A와 B 사이와 B와 C 사이의 길이를 비교한 후 큰 쪽 길이를 반환\n",
    "즉, 한칸씩 뛰기만 하면 된다.'''\n",
    "A, B, C = map(int, input().split())\n",
    "print(max(B-A, C-B) - 1)"
   ]
  },
  {
   "cell_type": "code",
   "execution_count": null,
   "metadata": {},
   "outputs": [],
   "source": []
  },
  {
   "cell_type": "code",
   "execution_count": null,
   "metadata": {},
   "outputs": [],
   "source": []
  },
  {
   "cell_type": "code",
   "execution_count": null,
   "metadata": {},
   "outputs": [],
   "source": []
  },
  {
   "cell_type": "code",
   "execution_count": null,
   "metadata": {},
   "outputs": [],
   "source": []
  },
  {
   "cell_type": "code",
   "execution_count": null,
   "metadata": {},
   "outputs": [],
   "source": []
  },
  {
   "cell_type": "code",
   "execution_count": null,
   "metadata": {},
   "outputs": [],
   "source": []
  },
  {
   "cell_type": "code",
   "execution_count": null,
   "metadata": {},
   "outputs": [],
   "source": []
  },
  {
   "cell_type": "code",
   "execution_count": null,
   "metadata": {},
   "outputs": [],
   "source": []
  },
  {
   "cell_type": "code",
   "execution_count": null,
   "metadata": {},
   "outputs": [],
   "source": []
  },
  {
   "cell_type": "code",
   "execution_count": null,
   "metadata": {},
   "outputs": [],
   "source": []
  },
  {
   "cell_type": "code",
   "execution_count": null,
   "metadata": {},
   "outputs": [],
   "source": []
  },
  {
   "cell_type": "code",
   "execution_count": null,
   "metadata": {},
   "outputs": [],
   "source": []
  },
  {
   "cell_type": "code",
   "execution_count": null,
   "metadata": {},
   "outputs": [],
   "source": []
  },
  {
   "cell_type": "code",
   "execution_count": null,
   "metadata": {},
   "outputs": [],
   "source": []
  },
  {
   "cell_type": "code",
   "execution_count": null,
   "metadata": {},
   "outputs": [],
   "source": []
  }
 ],
 "metadata": {
  "kernelspec": {
   "display_name": "Python 3",
   "language": "python",
   "name": "python3"
  },
  "language_info": {
   "codemirror_mode": {
    "name": "ipython",
    "version": 3
   },
   "file_extension": ".py",
   "mimetype": "text/x-python",
   "name": "python",
   "nbconvert_exporter": "python",
   "pygments_lexer": "ipython3",
   "version": "3.7.3"
  },
  "toc": {
   "base_numbering": 1,
   "nav_menu": {},
   "number_sections": true,
   "sideBar": true,
   "skip_h1_title": false,
   "title_cell": "Table of Contents",
   "title_sidebar": "Contents",
   "toc_cell": false,
   "toc_position": {},
   "toc_section_display": true,
   "toc_window_display": false
  }
 },
 "nbformat": 4,
 "nbformat_minor": 2
}
