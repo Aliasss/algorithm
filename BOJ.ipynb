{
 "cells": [
  {
   "cell_type": "markdown",
   "source": [
    "## 참고: 주피터에선 stdin 환경설정이 잘 되어있지 않으므로 항상 빈 문자열을 반환함<br> 따라서, input()을 활용해야 함"
   ],
   "metadata": {}
  },
  {
   "cell_type": "markdown",
   "source": [
    "# 입출력 2557"
   ],
   "metadata": {}
  },
  {
   "cell_type": "code",
   "execution_count": 2,
   "source": [
    "print(\"Hello World!\")"
   ],
   "outputs": [
    {
     "output_type": "stream",
     "name": "stdout",
     "text": [
      "Hello World!\n"
     ]
    }
   ],
   "metadata": {}
  },
  {
   "cell_type": "markdown",
   "source": [
    "# 입출력 1000"
   ],
   "metadata": {}
  },
  {
   "cell_type": "code",
   "execution_count": 6,
   "source": [
    "A, B = list(map(int, input().split()))\r\n",
    "C = A + B\r\n",
    "print(C)"
   ],
   "outputs": [
    {
     "output_type": "stream",
     "name": "stdout",
     "text": [
      "1 2\n",
      "3\n"
     ]
    }
   ],
   "metadata": {}
  },
  {
   "cell_type": "code",
   "execution_count": 23,
   "source": [
    "# import sys\r\n",
    "# A, B = list(map(int, sys.stdin.readline().split()))\r\n",
    "# print(A + B)"
   ],
   "outputs": [],
   "metadata": {}
  },
  {
   "cell_type": "code",
   "execution_count": 16,
   "source": [
    "print(sum(map(int, input().split())))"
   ],
   "outputs": [
    {
     "output_type": "stream",
     "name": "stdout",
     "text": [
      "1 2\n",
      "3\n"
     ]
    }
   ],
   "metadata": {}
  },
  {
   "cell_type": "markdown",
   "source": [
    "# 3 입출력 2558"
   ],
   "metadata": {}
  },
  {
   "cell_type": "code",
   "execution_count": 1,
   "source": [
    "A = int(input())\r\n",
    "B = int(input())\r\n",
    "print(A + B)"
   ],
   "outputs": [
    {
     "output_type": "stream",
     "name": "stdout",
     "text": [
      "1\n",
      "2\n",
      "3\n"
     ]
    }
   ],
   "metadata": {}
  },
  {
   "cell_type": "markdown",
   "source": [
    "# 입출력 10950"
   ],
   "metadata": {}
  },
  {
   "cell_type": "code",
   "execution_count": 4,
   "source": [
    "T = int(input())\r\n",
    "for i in range(T):\r\n",
    "    A, B = map(int, input().split())\r\n",
    "    print(A + B)"
   ],
   "outputs": [
    {
     "output_type": "stream",
     "name": "stdout",
     "text": [
      "5\n",
      "1 1\n",
      "2\n",
      "2 2\n",
      "4\n",
      "3 3\n",
      "6\n",
      "4 4\n",
      "8\n",
      "5 5\n",
      "10\n"
     ]
    }
   ],
   "metadata": {}
  },
  {
   "cell_type": "markdown",
   "source": [
    "# 입출력 10951"
   ],
   "metadata": {}
  },
  {
   "cell_type": "markdown",
   "source": [
    "문제<br>\n",
    "두 정수 A와 B를 입력받은 다음, A+B를 출력하는 프로그램을 작성하시오.<br><br>\n",
    "\n",
    "입력<br>\n",
    "입력은 여러 개의 테스트 케이스로 이루어져 있다.<br>\n",
    "\n",
    "각 테스트 케이스는 한 줄로 이루어져 있으며, 각 줄에 A와 B가 주어진다. (0 < A, B < 10)<br><br>\n",
    "\n",
    "출력<br>\n",
    "각 테스트 케이스마다 A+B를 출력한다."
   ],
   "metadata": {}
  },
  {
   "cell_type": "markdown",
   "source": [
    "테스트케이스의 개수와 종료조건이 명시돼있지 않다. <br>\n",
    "따라서, 정상적인 프로그램 종료를 위해 데이터 소스로부터 더 이상 읽을 수 있는 데이터가 없음을 나타내야 한다.<br>\n",
    "**예외처리 활용!**"
   ],
   "metadata": {}
  },
  {
   "cell_type": "code",
   "execution_count": 1,
   "source": [
    "while 1:\r\n",
    "    try: \r\n",
    "        A, B = map(int, input().split())\r\n",
    "        print(A + B)\r\n",
    "    except:\r\n",
    "        break"
   ],
   "outputs": [
    {
     "output_type": "stream",
     "name": "stdout",
     "text": [
      "1 2\n",
      "3\n",
      "3 4\n",
      "7\n",
      "ㄱ\n"
     ]
    }
   ],
   "metadata": {}
  },
  {
   "cell_type": "code",
   "execution_count": 4,
   "source": [
    "try:\r\n",
    "    while 1:\r\n",
    "        A, B = map(int, input().split())\r\n",
    "        print(A + B)\r\n",
    "except:\r\n",
    "    print('error')"
   ],
   "outputs": [
    {
     "output_type": "stream",
     "name": "stdout",
     "text": [
      "1 2\n",
      "3\n",
      "3 4\n",
      "7\n",
      "r\n",
      "error\n"
     ]
    }
   ],
   "metadata": {}
  },
  {
   "cell_type": "markdown",
   "source": [
    "# 입출력 10952"
   ],
   "metadata": {}
  },
  {
   "cell_type": "code",
   "execution_count": 6,
   "source": [
    "# 주피터 외 환경에서 실행\r\n",
    "import sys\r\n",
    "while True:\r\n",
    "    A, B = map(int, sys.stdin.readline().split())\r\n",
    "    if A == 0 and B == 0:\r\n",
    "        break\r\n",
    "    else:\r\n",
    "        print(A+B)"
   ],
   "outputs": [],
   "metadata": {}
  },
  {
   "cell_type": "markdown",
   "source": [
    "변수 A와 B가 모두 0이 되면 반복 중단한다."
   ],
   "metadata": {}
  },
  {
   "cell_type": "code",
   "execution_count": 7,
   "source": [
    "while 1:\r\n",
    "    A, B = map(int, input().split())\r\n",
    "    if A == 0 and B == 0:\r\n",
    "        break  # 반복문 빠져나가기\r\n",
    "    else:\r\n",
    "        print(A + B)"
   ],
   "outputs": [
    {
     "output_type": "stream",
     "name": "stdout",
     "text": [
      "1 2\n",
      "3\n",
      "2 3\n",
      "5\n",
      "0 0\n"
     ]
    }
   ],
   "metadata": {}
  },
  {
   "cell_type": "markdown",
   "source": [
    "# 입출력 10953"
   ],
   "metadata": {}
  },
  {
   "cell_type": "code",
   "execution_count": 9,
   "source": [
    "T = int(input())\n",
    "for i in range(T):\n",
    "    A, B = map(int, input().split(','))\n",
    "    print(A + B)"
   ],
   "outputs": [
    {
     "output_type": "stream",
     "name": "stdout",
     "text": [
      "2\n",
      "1, 2\n",
      "3\n",
      "3, 4\n",
      "7\n"
     ]
    }
   ],
   "metadata": {}
  },
  {
   "cell_type": "markdown",
   "source": [
    "# 입출력 11021"
   ],
   "metadata": {}
  },
  {
   "cell_type": "code",
   "execution_count": 10,
   "source": [
    "T = int(input())\n",
    "for i in range(1, T+1):\n",
    "    A, B = map(int, input().split())\n",
    "    print(f'Case #{i}: {A+B}')"
   ],
   "outputs": [
    {
     "output_type": "stream",
     "name": "stdout",
     "text": [
      "3\n",
      "1 2\n",
      "Case #1: 3\n",
      "2 3\n",
      "Case #2: 5\n",
      "3 4\n",
      "Case #3: 7\n"
     ]
    }
   ],
   "metadata": {}
  },
  {
   "cell_type": "markdown",
   "source": [
    "# 입출력 11022"
   ],
   "metadata": {}
  },
  {
   "cell_type": "markdown",
   "source": [
    "https://www.acmicpc.net/problem/11022"
   ],
   "metadata": {}
  },
  {
   "cell_type": "code",
   "execution_count": 11,
   "source": [
    "T = int(input())\r\n",
    "for i in range(1, T+1):\r\n",
    "    A, B = map(int, input().split())\r\n",
    "    print(f'Case #{i}: {A} + {B} = {A+B}')"
   ],
   "outputs": [
    {
     "output_type": "stream",
     "name": "stdout",
     "text": [
      "2\n",
      "1 2\n",
      "Case #1: 1 + 2 = 3\n",
      "3 4\n",
      "Case #2: 3 + 4 = 7\n"
     ]
    }
   ],
   "metadata": {}
  },
  {
   "cell_type": "markdown",
   "source": [
    "# 입출력 11718"
   ],
   "metadata": {}
  },
  {
   "cell_type": "markdown",
   "source": [
    "https://www.acmicpc.net/problem/11718"
   ],
   "metadata": {}
  },
  {
   "cell_type": "code",
   "execution_count": null,
   "source": [
    "while 1:\r\n",
    "    try:\r\n",
    "        print(input())\r\n",
    "    except EOFError:\r\n",
    "        break"
   ],
   "outputs": [
    {
     "output_type": "stream",
     "name": "stdout",
     "text": [
      "abcadfaef\n",
      "abcadfaef\n",
      "dfdafefa\n",
      "dfdafefa\n",
      "dafef\n",
      "dafef\n",
      "adfe\n",
      "adfe\n",
      "fadfad\n",
      "fadfad\n",
      "fef\n",
      "fef\n",
      "adfad\n",
      "adfad\n",
      "faef\n",
      "faef\n",
      "adfadf\n",
      "adfadf\n",
      "\n",
      "\n",
      "z\n",
      "z\n",
      "exit\n",
      "exit\n",
      "종료\n",
      "종료\n"
     ]
    }
   ],
   "metadata": {}
  },
  {
   "cell_type": "markdown",
   "source": [
    "**EOFError란?**<br>\n",
    "파이썬은 EOFError 라고 불리우는 오류를 발생시키는데 이때 EOF란 파일의 끝(end of file) 을 의미하며(파일의 끝은 ctrl-d 에 의해 표현된다), 갑자기 파일의 끝이 올 것을 예상하지 못했기 때문에 위와 같은 오류가 발생하는 것이다."
   ],
   "metadata": {}
  },
  {
   "cell_type": "code",
   "execution_count": null,
   "source": [
    "# 주피터 외 환경에서 실행\r\n",
    "import sys\r\n",
    "print(sys.stdin.read())"
   ],
   "outputs": [],
   "metadata": {}
  },
  {
   "cell_type": "markdown",
   "source": [
    "입출력 input(), sys.stdin 참고 링크<br>\n",
    "**https://velog.io/@tbnsok40/%ED%8C%8C%EC%9D%B4%EC%8D%AC-%EB%8B%A4%EC%96%91%ED%95%9C-%EC%9E%85%EB%A0%A5%EB%B0%A9%EB%B2%95-input-read-readline**"
   ],
   "metadata": {}
  },
  {
   "cell_type": "markdown",
   "source": [
    "# 입출력 11719"
   ],
   "metadata": {}
  },
  {
   "cell_type": "markdown",
   "source": [
    "https://www.acmicpc.net/problem/11719"
   ],
   "metadata": {}
  },
  {
   "cell_type": "code",
   "execution_count": null,
   "source": [
    "while 1:\r\n",
    "    try:\r\n",
    "        print(input())\r\n",
    "    except EOFError:\r\n",
    "        break"
   ],
   "outputs": [],
   "metadata": {}
  },
  {
   "cell_type": "markdown",
   "source": [
    "# 입출력 11720"
   ],
   "metadata": {}
  },
  {
   "cell_type": "markdown",
   "source": [
    "https://www.acmicpc.net/problem/11720"
   ],
   "metadata": {}
  },
  {
   "cell_type": "code",
   "execution_count": 12,
   "source": [
    "sum = 0\r\n",
    "N = int(input())\r\n",
    "num = input()\r\n",
    "for i in num:\r\n",
    "    sum += int(i)\r\n",
    "print(sum)"
   ],
   "outputs": [
    {
     "output_type": "stream",
     "name": "stdout",
     "text": [
      "5\n",
      "1234\n",
      "10\n",
      "1234\n"
     ]
    }
   ],
   "metadata": {}
  },
  {
   "cell_type": "markdown",
   "source": [
    "# 입출력 11721"
   ],
   "metadata": {}
  },
  {
   "cell_type": "markdown",
   "source": [
    "https://www.acmicpc.net/problem/11721"
   ],
   "metadata": {}
  },
  {
   "cell_type": "code",
   "execution_count": 14,
   "source": [
    "string = input()\r\n",
    "cnt = 0\r\n",
    "for each in string:\r\n",
    "    print(each, end='')   # 개행이 되지 않도록 end=''\r\n",
    "    cnt += 1\r\n",
    "    if cnt % 10 == 0:\r\n",
    "        print('')"
   ],
   "outputs": [
    {
     "output_type": "stream",
     "name": "stdout",
     "text": [
      "abcdefghijklmnopqrstuvwxyz\n",
      "abcdefghij\n",
      "klmnopqrst\n",
      "uvwxyz"
     ]
    }
   ],
   "metadata": {}
  },
  {
   "cell_type": "markdown",
   "source": [
    "# 입출력 2741"
   ],
   "metadata": {}
  },
  {
   "cell_type": "markdown",
   "source": [
    "https://www.acmicpc.net/problem/2741"
   ],
   "metadata": {}
  },
  {
   "cell_type": "code",
   "execution_count": 16,
   "source": [
    "a = int(input())\n",
    "for i in range(1, a+1):\n",
    "    print(i)"
   ],
   "outputs": [
    {
     "output_type": "stream",
     "name": "stdout",
     "text": [
      "5\n",
      "1\n",
      "2\n",
      "3\n",
      "4\n",
      "5\n"
     ]
    }
   ],
   "metadata": {}
  },
  {
   "cell_type": "markdown",
   "source": [
    "# 입출력 2742"
   ],
   "metadata": {}
  },
  {
   "cell_type": "markdown",
   "source": [
    "https://www.acmicpc.net/problem/2742"
   ],
   "metadata": {}
  },
  {
   "cell_type": "code",
   "execution_count": 21,
   "source": [
    "a = int(input())\n",
    "for i in range(a, 0, -1):\n",
    "    print(i)"
   ],
   "outputs": [
    {
     "output_type": "stream",
     "name": "stdout",
     "text": [
      "3\n",
      "3\n",
      "2\n",
      "1\n"
     ]
    }
   ],
   "metadata": {}
  },
  {
   "cell_type": "markdown",
   "source": [
    "# 입출력 2743"
   ],
   "metadata": {}
  },
  {
   "cell_type": "markdown",
   "source": [
    "https://www.acmicpc.net/problem/2739"
   ],
   "metadata": {}
  },
  {
   "cell_type": "code",
   "execution_count": 25,
   "source": [
    "N = int(input())\n",
    "for i in range(1, 10):\n",
    "    print(f\"{N} * {i} = {N*i}\")"
   ],
   "outputs": [
    {
     "output_type": "stream",
     "name": "stdout",
     "text": [
      "2\n",
      "2 * 1 = 2\n",
      "2 * 2 = 4\n",
      "2 * 3 = 6\n",
      "2 * 4 = 8\n",
      "2 * 5 = 10\n",
      "2 * 6 = 12\n",
      "2 * 7 = 14\n",
      "2 * 8 = 16\n",
      "2 * 9 = 18\n"
     ]
    }
   ],
   "metadata": {}
  },
  {
   "cell_type": "markdown",
   "source": [
    "# 입출력 1924"
   ],
   "metadata": {}
  },
  {
   "cell_type": "markdown",
   "source": [
    "https://www.acmicpc.net/problem/1924"
   ],
   "metadata": {}
  },
  {
   "cell_type": "code",
   "execution_count": 31,
   "source": [
    "day = 0\n",
    "# 1~12월의 마지막 일\n",
    "date = [31, 28, 31, 30, 31, 30, 31, 31, 30, 31, 30, 31]\n",
    "weekday = ['SUN', 'MON', 'TUE', 'WED', 'THU', 'FRI', 'SAT']\n",
    "\n",
    "x, y = map(int, input().split())\n",
    "for i in range(x-1):    # x에 입력되는 달의 직전 달까지의 일수를 계산\n",
    "    day = day + date[i]\n",
    "day = (day + y) % 7\n",
    "print(weekday[day])"
   ],
   "outputs": [
    {
     "output_type": "stream",
     "name": "stdout",
     "text": [
      "2 1\n",
      "TUE\n"
     ]
    }
   ],
   "metadata": {}
  },
  {
   "cell_type": "markdown",
   "source": [
    "# 입출력 8393"
   ],
   "metadata": {}
  },
  {
   "cell_type": "markdown",
   "source": [
    "https://www.acmicpc.net/problem/8393"
   ],
   "metadata": {}
  },
  {
   "cell_type": "code",
   "execution_count": 32,
   "source": [
    "n = 0\n",
    "a = int(input())\n",
    "for i in range(1, a+1):\n",
    "    n += i\n",
    "print(n)"
   ],
   "outputs": [
    {
     "output_type": "stream",
     "name": "stdout",
     "text": [
      "3\n",
      "6\n"
     ]
    }
   ],
   "metadata": {}
  },
  {
   "cell_type": "markdown",
   "source": [
    "# 입출력 10818"
   ],
   "metadata": {}
  },
  {
   "cell_type": "markdown",
   "source": [
    "https://www.acmicpc.net/problem/10818"
   ],
   "metadata": {}
  },
  {
   "cell_type": "code",
   "execution_count": 41,
   "source": [
    "n = int(input())\n",
    "a = list(map(int, input().split()))\n",
    "print(min(a), max(a))"
   ],
   "outputs": [
    {
     "output_type": "stream",
     "name": "stdout",
     "text": [
      "5\n",
      "20 10 35 30 7\n",
      "7 35\n"
     ]
    }
   ],
   "metadata": {}
  },
  {
   "cell_type": "markdown",
   "source": [
    "# 입출력 2438"
   ],
   "metadata": {}
  },
  {
   "cell_type": "markdown",
   "source": [
    "https://www.acmicpc.net/problem/2438"
   ],
   "metadata": {}
  },
  {
   "cell_type": "code",
   "execution_count": 44,
   "source": [
    "n = int(input())\n",
    "for i in range(1, n+1):\n",
    "    print('*'*i)"
   ],
   "outputs": [
    {
     "output_type": "stream",
     "name": "stdout",
     "text": [
      "5\n",
      "*\n",
      "**\n",
      "***\n",
      "****\n",
      "*****\n"
     ]
    }
   ],
   "metadata": {}
  },
  {
   "cell_type": "markdown",
   "source": [
    "# 입출력 2439"
   ],
   "metadata": {}
  },
  {
   "cell_type": "markdown",
   "source": [
    "https://www.acmicpc.net/problem/2439"
   ],
   "metadata": {}
  },
  {
   "cell_type": "code",
   "execution_count": 48,
   "source": [
    "n = int(input())\n",
    "for i in range(1, n+1):\n",
    "    print(' ' * (n-i), end='')  # 공백 띄어주기\n",
    "    print('*' * i)"
   ],
   "outputs": [
    {
     "output_type": "stream",
     "name": "stdout",
     "text": [
      "5\n",
      "    *\n",
      "   **\n",
      "  ***\n",
      " ****\n",
      "*****\n"
     ]
    }
   ],
   "metadata": {}
  },
  {
   "cell_type": "markdown",
   "source": [
    "# 입출력 2440"
   ],
   "metadata": {}
  },
  {
   "cell_type": "markdown",
   "source": [
    "https://www.acmicpc.net/problem/2440"
   ],
   "metadata": {}
  },
  {
   "cell_type": "code",
   "execution_count": 49,
   "source": [
    "n = int(input())\n",
    "for i in range(n, 0, -1):\n",
    "    print('*' * i)"
   ],
   "outputs": [
    {
     "output_type": "stream",
     "name": "stdout",
     "text": [
      "5\n",
      "*****\n",
      "****\n",
      "***\n",
      "**\n",
      "*\n"
     ]
    }
   ],
   "metadata": {}
  },
  {
   "cell_type": "markdown",
   "source": [
    "# 입출력 2441"
   ],
   "metadata": {}
  },
  {
   "cell_type": "markdown",
   "source": [
    "https://www.acmicpc.net/problem/2441"
   ],
   "metadata": {}
  },
  {
   "cell_type": "code",
   "execution_count": 52,
   "source": [
    "n = int(input())\n",
    "for i in range(n, 0, -1):\n",
    "    print(' ' * (n-i), end='')\n",
    "    print('*' * i)"
   ],
   "outputs": [
    {
     "output_type": "stream",
     "name": "stdout",
     "text": [
      "5\n",
      "*****\n",
      " ****\n",
      "  ***\n",
      "   **\n",
      "    *\n"
     ]
    }
   ],
   "metadata": {}
  },
  {
   "cell_type": "markdown",
   "source": [
    "# 입출력 2442"
   ],
   "metadata": {}
  },
  {
   "cell_type": "markdown",
   "source": [
    "https://www.acmicpc.net/problem/2442"
   ],
   "metadata": {}
  },
  {
   "cell_type": "code",
   "execution_count": 56,
   "source": [
    "n = int(input())\n",
    "for i in range(1, n+1):\n",
    "    print(' ' * (n-i), end='')\n",
    "    print('*' * (2*i-1))"
   ],
   "outputs": [
    {
     "output_type": "stream",
     "name": "stdout",
     "text": [
      "10\n",
      "         *\n",
      "        ***\n",
      "       *****\n",
      "      *******\n",
      "     *********\n",
      "    ***********\n",
      "   *************\n",
      "  ***************\n",
      " *****************\n",
      "*******************\n"
     ]
    }
   ],
   "metadata": {}
  },
  {
   "cell_type": "markdown",
   "source": [
    "# 입출력 2445"
   ],
   "metadata": {}
  },
  {
   "cell_type": "markdown",
   "source": [
    "https://www.acmicpc.net/problem/2445"
   ],
   "metadata": {}
  },
  {
   "cell_type": "code",
   "execution_count": 67,
   "source": [
    "n = int(input()) \n",
    "for i in range(1, n+1):\n",
    "    print('*' * i, end='')\n",
    "    print(' ' * ((n*2)-(i*2)), end='')\n",
    "    print('*' * i)\n",
    "    \n",
    "for i in range(1,n):\n",
    "    print('*'*(n-i), end='')\n",
    "    print(' ' * (i*2), end='')\n",
    "    print('*' *(n-i))"
   ],
   "outputs": [
    {
     "output_type": "stream",
     "name": "stdout",
     "text": [
      "5\n",
      "*        *\n",
      "**      **\n",
      "***    ***\n",
      "****  ****\n",
      "**********\n",
      "****  ****\n",
      "***    ***\n",
      "**      **\n",
      "*        *\n"
     ]
    }
   ],
   "metadata": {}
  },
  {
   "cell_type": "markdown",
   "source": [
    "# 입출력 2522"
   ],
   "metadata": {}
  },
  {
   "cell_type": "markdown",
   "source": [
    "https://www.acmicpc.net/problem/2522"
   ],
   "metadata": {}
  },
  {
   "cell_type": "code",
   "execution_count": 74,
   "source": [
    "n = int(input())\n",
    "\n",
    "for a in range(1, n+1):\n",
    "    print(('*' * a).rjust(n))\n",
    "for b in range(n-1, 0, -1):\n",
    "    print(('*' * b).rjust(n))"
   ],
   "outputs": [
    {
     "output_type": "stream",
     "name": "stdout",
     "text": [
      "5\n",
      "    *\n",
      "   **\n",
      "  ***\n",
      " ****\n",
      "*****\n",
      " ****\n",
      "  ***\n",
      "   **\n",
      "    *\n"
     ]
    }
   ],
   "metadata": {}
  },
  {
   "cell_type": "markdown",
   "source": [
    "# 입출력 2446"
   ],
   "metadata": {}
  },
  {
   "cell_type": "markdown",
   "source": [
    "https://www.acmicpc.net/problem/2446"
   ],
   "metadata": {}
  },
  {
   "cell_type": "code",
   "execution_count": 82,
   "source": [
    "n = int(input())\n",
    "\n",
    "for a in range(n, 0, -1):\n",
    "    print(' ' * (n-a), '*' * (a*2-1), sep='')  \n",
    "for b in range(2, n+1):\n",
    "    print(' ' * (n-b), '*' * (b*2-1), sep='')"
   ],
   "outputs": [
    {
     "output_type": "stream",
     "name": "stdout",
     "text": [
      "5\n",
      "*********\n",
      " *******\n",
      "  *****\n",
      "   ***\n",
      "    *\n",
      "   ***\n",
      "  *****\n",
      " *******\n",
      "*********\n"
     ]
    }
   ],
   "metadata": {}
  },
  {
   "cell_type": "markdown",
   "source": [
    "# 입출력 10991"
   ],
   "metadata": {}
  },
  {
   "cell_type": "markdown",
   "source": [
    "https://www.acmicpc.net/problem/10991"
   ],
   "metadata": {}
  },
  {
   "cell_type": "code",
   "execution_count": 87,
   "source": [
    "n = int(input())\n",
    "for a in range(1, n+1):\n",
    "    print(' ' * (n-a), end='')\n",
    "    for b in range(1, a):\n",
    "        print('* ', sep='', end='')\n",
    "    print('*')"
   ],
   "outputs": [
    {
     "output_type": "stream",
     "name": "stdout",
     "text": [
      "3\n",
      "  *\n",
      " * *\n",
      "* * *\n"
     ]
    }
   ],
   "metadata": {}
  },
  {
   "cell_type": "markdown",
   "source": [
    "# 입출력 10992"
   ],
   "metadata": {}
  },
  {
   "cell_type": "markdown",
   "source": [
    "https://www.acmicpc.net/problem/10992"
   ],
   "metadata": {}
  },
  {
   "cell_type": "code",
   "execution_count": 91,
   "source": [
    "n = int(input())\n",
    "for a in range(1, n+1):\n",
    "    if a == 1 or a == n:\n",
    "        print(' ' * (n-a), '*' * (2*a-1), sep='')\n",
    "    else:\n",
    "        print(' ' * (n-a), '*', ' ' * ((a-1) * 2 -1), '*', sep='')"
   ],
   "outputs": [
    {
     "output_type": "stream",
     "name": "stdout",
     "text": [
      "3\n",
      "  *\n",
      " * *\n",
      "*****\n"
     ]
    }
   ],
   "metadata": {}
  },
  {
   "cell_type": "markdown",
   "source": [
    "# Stack 10828"
   ],
   "metadata": {}
  },
  {
   "cell_type": "markdown",
   "source": [
    "https://www.acmicpc.net/problem/10828"
   ],
   "metadata": {}
  },
  {
   "cell_type": "markdown",
   "source": [
    "push X: 정수 X를 스택에 넣는 연산이다.<br>\n",
    "pop: 스택에서 가장 위에 있는 정수를 빼고, 그 수를 출력한다. 만약 스택에 들어있는 정수가 없는 경우에는 -1을 출력한다.<br>\n",
    "size: 스택에 들어있는 정수의 개수를 출력한다.<br>\n",
    "empty: 스택이 비어있으면 1, 아니면 0을 출력한다.<br>\n",
    "top: 스택의 가장 위에 있는 정수를 출력한다. 만약 스택에 들어있는 정수가 없는 경우에는 -1을 출력한다.<br><br>\n",
    "입력<br>\n",
    "첫째 줄에 주어지는 명령의 수 N (1 ≤ N ≤ 10,000)이 주어진다. 둘째 줄부터 N개의 줄에는 명령이 하나씩 주어진다. 주어지는 정수는 1보다 크거나 같고, 100,000보다 작거나 같다. 문제에 나와있지 않은 명령이 주어지는 경우는 없다."
   ],
   "metadata": {}
  },
  {
   "cell_type": "code",
   "execution_count": null,
   "source": [
    "ip = input()\n",
    "def command(stack, cmd):\n",
    "    cmd = "
   ],
   "outputs": [],
   "metadata": {}
  },
  {
   "cell_type": "code",
   "execution_count": null,
   "source": [],
   "outputs": [],
   "metadata": {}
  },
  {
   "cell_type": "code",
   "execution_count": null,
   "source": [],
   "outputs": [],
   "metadata": {}
  },
  {
   "cell_type": "markdown",
   "source": [
    "# 요세푸스 11866"
   ],
   "metadata": {}
  },
  {
   "cell_type": "markdown",
   "source": [
    "https://www.acmicpc.net/problem/11866"
   ],
   "metadata": {}
  },
  {
   "cell_type": "code",
   "execution_count": 92,
   "source": [
    "'''N = 7\n",
    "K = 3\n",
    "1 2 3 4 5 6 7  \n",
    "2 3 4 5 6 7 1\n",
    "4 5 6 7 1 2   - 맨 앞 제거 (3)\n",
    "5 6 7 1 2 4\n",
    "7 1 2 4 5   - 6 제거'''"
   ],
   "outputs": [
    {
     "output_type": "execute_result",
     "data": {
      "text/plain": [
       "'N = 7\\nK = 3\\n1 2 3 4 5 6 7  \\n2 3 4 5 6 7 1\\n4 5 6 7 1 2   - 맨 앞 제거 (3)\\n5 6 7 1 2 4\\n7 1 2 4 5   - 6 제거'"
      ]
     },
     "metadata": {},
     "execution_count": 92
    }
   ],
   "metadata": {}
  },
  {
   "cell_type": "code",
   "execution_count": 108,
   "source": [
    "def queue_push(q, value):\n",
    "    q.append(value)\n",
    "def queue_pop(q):\n",
    "    front = q.pop(0)\n",
    "    return front\n",
    "\n",
    "N, k = map(int, input().split())\n",
    "queue = []\n",
    "ans = []\n",
    "\n",
    "for i in range(1, N+1):\n",
    "    queue_push(queue, i)\n",
    "\n",
    "while len(queue) != 0:   \n",
    "    for i in range(k-1):  \n",
    "        front = queue_pop(queue)\n",
    "        queue_push(queue, front)    # for문 반복하고 그 다음 문장인 ans.append 실행, 그 이후 남은 queue로 다시 for문 시작\n",
    "    ans.append(queue_pop(queue))\n",
    "\n",
    "print('<' + ', '.join(map(str, ans)) + '>', sep='')"
   ],
   "outputs": [
    {
     "output_type": "stream",
     "name": "stdout",
     "text": [
      "7 3\n",
      "<3, 6, 2, 7, 5, 1, 4>\n"
     ]
    }
   ],
   "metadata": {}
  },
  {
   "cell_type": "code",
   "execution_count": null,
   "source": [],
   "outputs": [],
   "metadata": {}
  },
  {
   "cell_type": "markdown",
   "source": [
    "# Bronze 4 - 10039"
   ],
   "metadata": {}
  },
  {
   "cell_type": "code",
   "execution_count": 7,
   "source": [
    "from tqdm import tqdm"
   ],
   "outputs": [],
   "metadata": {}
  },
  {
   "cell_type": "code",
   "execution_count": 17,
   "source": [
    "def mean(value : list):\n",
    "    j = 0\n",
    "    for i in value:\n",
    "        j += i\n",
    "    result = j // len(value)\n",
    "    return result\n",
    "\n",
    "grade = []\n",
    "for i in range(5):\n",
    "    a = int(input())\n",
    "    if a < 40:\n",
    "        grade.append(40)\n",
    "    else:\n",
    "        grade.append(a)\n",
    "        \n",
    "print(mean(grade))  "
   ],
   "outputs": [
    {
     "output_type": "stream",
     "name": "stdout",
     "text": [
      "10\n",
      "65\n",
      "40\n",
      "90\n",
      "100\n",
      "67\n"
     ]
    }
   ],
   "metadata": {}
  },
  {
   "cell_type": "markdown",
   "source": [
    "# Bronze 3 - 2965"
   ],
   "metadata": {}
  },
  {
   "cell_type": "markdown",
   "source": [
    "좌표 간 차이가 적은 쪽이 차이가 큰 쪽으로 이동하는 게 이동횟수를 늘릴 수 있는 방법"
   ],
   "metadata": {}
  },
  {
   "cell_type": "markdown",
   "source": [
    "### 1번째 코드"
   ],
   "metadata": {}
  },
  {
   "cell_type": "code",
   "execution_count": 21,
   "source": [
    "# (1) 만약 B-A가 C-B보다 작으면, A가 B와 C사이로 이동 | 만약 C-B가 B-A보다 작으면, C가 A와 B사이로 이동\n",
    "# (2) B와 C의 외곽으로 이동해야 하므로, B+1 혹은 C-1로 이동\n",
    "# (3) B, B+1, C 중 차이가 작은 쪽의 외곽 좌표에 있는 캥거루가 차이 큰 좌표 쪽으로 이동\n",
    "# 이 과정을 계속 반복하다가 좌표 끼리의 차이가 같아지면 while문 종료\n",
    "\n",
    "'''고려사항: 두 간격이 같으면 둘 중 하나 선택해서 진행\n",
    "(1) 두 간격 다른 경우\n",
    "(2) 두 간격 같은 경우\n",
    "(3) 반복문 중지 조건 : 두 간격이 모두 1이면 종료\n",
    "(4) 세 숫자 모두 같아서는 안됨\n",
    "'''\n",
    "A, B, C = map(int, input().split())\n",
    "stack = [A, B, C]\n",
    "cnt = 0\n",
    "\n",
    "'''\n",
    "3 5 9\n",
    "5 6 9\n",
    "6 7 9\n",
    "7 8 9\n",
    "'''\n",
    "while 1:\n",
    "    left = stack[1]-stack[0]\n",
    "    right = stack[2]-stack[1]\n",
    "    if left != right:\n",
    "        if (left == 1) and (right == 1):\n",
    "                break\n",
    "        else:\n",
    "            cnt += 1\n",
    "            if left < right:\n",
    "                stack[0] = stack[1] + 1\n",
    "                stack.sort()\n",
    "                print(stack)\n",
    "            elif right < left:\n",
    "                stack[2] = stack[0] + 1\n",
    "                stack.sort()\n",
    "                print(stack)\n",
    "    else:   # 7 8 9\n",
    "        if (left == 1) and (right == 1):\n",
    "                break\n",
    "        else:\n",
    "            cnt += 1\n",
    "            stack[0] = stack[1] + 1\n",
    "            stack.sort()\n",
    "            print(stack)\n",
    "        \n",
    "print(cnt)"
   ],
   "outputs": [
    {
     "output_type": "stream",
     "name": "stdout",
     "text": [
      "3 5 9\n",
      "[5, 6, 9]\n",
      "[6, 7, 9]\n",
      "[7, 8, 9]\n",
      "3\n"
     ]
    }
   ],
   "metadata": {
    "scrolled": true
   }
  },
  {
   "cell_type": "code",
   "execution_count": 7,
   "source": [
    "# A, B, C = map(int, input().split())\n",
    "# stack = [A, B, C]\n",
    "# cnt = 0\n",
    "# left = stack[1]-stack[0]\n",
    "# right = stack[2]-stack[1]\n",
    "\n",
    "# while 1:\n",
    "#     if left and right == 1:\n",
    "#         print('break')\n",
    "#         break\n",
    "#     else:\n",
    "#         print('keep going')"
   ],
   "outputs": [],
   "metadata": {}
  },
  {
   "cell_type": "markdown",
   "source": [
    "### 2번째 코드"
   ],
   "metadata": {}
  },
  {
   "cell_type": "code",
   "execution_count": 20,
   "source": [
    "A, B, C = map(int, input().split())\n",
    "stack = [A, B, C]\n",
    "cnt = 0\n",
    "\n",
    "while 1:\n",
    "    left = stack[1]-stack[0]\n",
    "    right = stack[2]-stack[1]\n",
    "    if left == 1 and right == 1:\n",
    "        break\n",
    "    if left < right:\n",
    "        cnt += 1\n",
    "        stack[0] = stack[1] + 1\n",
    "        stack.sort()\n",
    "        print(stack)\n",
    "    else:\n",
    "        cnt += 1\n",
    "        stack[2] = stack[0] + 1\n",
    "        stack.sort()\n",
    "        print(stack)\n",
    "        \n",
    "print(cnt)"
   ],
   "outputs": [
    {
     "output_type": "stream",
     "name": "stdout",
     "text": [
      "3 5 9\n",
      "[5, 6, 9]\n",
      "[6, 7, 9]\n",
      "[7, 8, 9]\n",
      "3\n"
     ]
    }
   ],
   "metadata": {}
  },
  {
   "cell_type": "markdown",
   "source": [
    "### 구글링해서 찾은 코드"
   ],
   "metadata": {}
  },
  {
   "cell_type": "code",
   "execution_count": 6,
   "source": [
    "'''A와 B 사이와 B와 C 사이의 길이를 비교한 후 큰 쪽 길이를 반환\n",
    "즉, 한칸씩 뛰기만 하면 된다.'''\n",
    "A, B, C = map(int, input().split())\n",
    "print(max(B-A, C-B) - 1)"
   ],
   "outputs": [
    {
     "output_type": "stream",
     "name": "stdout",
     "text": [
      "3 5 9\n",
      "3\n"
     ]
    }
   ],
   "metadata": {}
  },
  {
   "cell_type": "markdown",
   "source": [
    "# bronze5 카드게임 - 5522"
   ],
   "metadata": {}
  },
  {
   "cell_type": "code",
   "execution_count": 29,
   "source": [
    "ans = 0\n",
    "for _ in range(5):\n",
    "    ans += int(input())\n",
    "print(ans)"
   ],
   "outputs": [
    {
     "output_type": "stream",
     "name": "stdout",
     "text": [
      "1\n",
      "1\n",
      "1\n",
      "1\n",
      "1\n",
      "5\n"
     ]
    }
   ],
   "metadata": {}
  },
  {
   "cell_type": "markdown",
   "source": [
    "# bronze2 노래악보 - 1392"
   ],
   "metadata": {}
  },
  {
   "cell_type": "code",
   "execution_count": 30,
   "source": [
    "N, Q = map(int, input().split())\n"
   ],
   "outputs": [
    {
     "output_type": "stream",
     "name": "stdout",
     "text": [
      "2 3\n"
     ]
    }
   ],
   "metadata": {}
  },
  {
   "cell_type": "markdown",
   "source": [
    "# bronze4 두 수 비교하기 - 1330"
   ],
   "metadata": {}
  },
  {
   "cell_type": "code",
   "execution_count": 34,
   "source": [
    "a, b = map(int, input().split())\n",
    "if a > b:\n",
    "    print('>')\n",
    "elif a < b:\n",
    "    print('<')\n",
    "elif a == b:\n",
    "    print('==')"
   ],
   "outputs": [
    {
     "output_type": "stream",
     "name": "stdout",
     "text": [
      "1 2\n",
      "<\n"
     ]
    }
   ],
   "metadata": {}
  },
  {
   "cell_type": "markdown",
   "source": [
    "# bronze4 시험성적 - 9498"
   ],
   "metadata": {}
  },
  {
   "cell_type": "code",
   "execution_count": 35,
   "source": [
    "a = int(input())\n",
    "\n",
    "if a >= 90 and a <= 100:\n",
    "    print('A')\n",
    "elif a >= 80 and a <= 89:\n",
    "    print('B')\n",
    "elif a >= 70 and a <= 79:\n",
    "    print('C')\n",
    "elif a >= 60 and a <= 69:\n",
    "    print('D')\n",
    "else:\n",
    "    print('F')"
   ],
   "outputs": [
    {
     "output_type": "stream",
     "name": "stdout",
     "text": [
      "50\n",
      "F\n"
     ]
    }
   ],
   "metadata": {}
  },
  {
   "cell_type": "markdown",
   "source": [
    "# bronze3 2의 제곱인가? - 11966"
   ],
   "metadata": {}
  },
  {
   "cell_type": "code",
   "execution_count": 33,
   "source": [
    "n = int(input())\n",
    "a = -1\n",
    "\n",
    "while 1:\n",
    "    a += 1\n",
    "    if n >= (2 ** a):\n",
    "        if n == (2 ** a):\n",
    "            print(1)\n",
    "            break\n",
    "    else:\n",
    "        print(0)\n",
    "        break"
   ],
   "outputs": [
    {
     "output_type": "stream",
     "name": "stdout",
     "text": [
      "6\n",
      "0\n"
     ]
    }
   ],
   "metadata": {}
  },
  {
   "cell_type": "code",
   "execution_count": null,
   "source": [
    "print(1 if int(input()) in [2 ** i for i in range(31)] else 0)"
   ],
   "outputs": [],
   "metadata": {}
  },
  {
   "cell_type": "markdown",
   "source": [
    "# bronze4 나머지  - 10430"
   ],
   "metadata": {}
  },
  {
   "cell_type": "code",
   "execution_count": 7,
   "source": [
    "a, b, c = map(int,input().split())\n",
    "print((a+b)%c)\n",
    "print(((a%c)+(b%c))%c)\n",
    "print((a*b)%c)\n",
    "print(((a%c) * (b%c))%c)"
   ],
   "outputs": [
    {
     "output_type": "stream",
     "name": "stdout",
     "text": [
      "5 8 4\n",
      "1\n",
      "1\n",
      "0\n",
      "0\n"
     ]
    }
   ],
   "metadata": {}
  },
  {
   "cell_type": "markdown",
   "source": [
    "# 실버5 최대공약수와 최소공배수 - 2609"
   ],
   "metadata": {}
  },
  {
   "cell_type": "markdown",
   "source": [
    "**최대공약수** <br>\n",
    "1) 유클리드(Euclidean) 공식 이용 <br>\n",
    "\n",
    "  - 큰 수 A를 작은 수 B로 나누어 떨어지면, A, B의 최대공약수는 B<br>\n",
    "\n",
    "  - A를 B로 나누었을 때 나머지가 R이면, A, B의 최대공약수는 R과 B의 최대공약수와 같다.<br>\n",
    "\n",
    "    GCM(A,B) = GCM(B,R) / ex) GCM(15,12) = GCM(12,3)<br><br>\n",
    "\n",
    "\n",
    "\n",
    "  유클리드 공식 이용 알고리즘 순서<br>\n",
    "\n",
    "  a. 두 수 A, B 중 큰 수, 작은 수를 판별한다.<br>\n",
    "\n",
    "  b. 큰 수를 작은 수로 나누어 나머지를 구한다.<br>\n",
    "\n",
    "    - if 나머지가 0 : 작은 수가 최대공약수<br>\n",
    "\n",
    "    - if 나머지가 0이 아니면 : 나누기 반복\n",
    "    \n",
    "<br><br><br>\n",
    "**최소공배수** <br>\n",
    "A * B / 최대공약수"
   ],
   "metadata": {}
  },
  {
   "cell_type": "code",
   "execution_count": 27,
   "source": [
    "# 내 코드 (실패)\n",
    "# gcd 최대공약수, lcm 최소공배수\n",
    "'''\n",
    "a, b = map(int, input().split())\n",
    "\n",
    "if a >= b:\n",
    "    if (a % b) == 0:\n",
    "        gcd = b\n",
    "        lcm = a\n",
    "    elif b == 1:\n",
    "        gcd = 1\n",
    "        lcm = a\n",
    "    else:\n",
    "        if (a % b) != 0:\n",
    "            x = a % b\n",
    "            y = a // x\n",
    "            z = b // x\n",
    "            gcd = x\n",
    "            lcm = x*y*z\n",
    "else:  # b가 a보다 큰 경우\n",
    "    a, b = b, a\n",
    "    if (a % b) == 0:\n",
    "        gcd = b\n",
    "        lcm = a\n",
    "    elif (a % b) != 0:\n",
    "        x = a % b\n",
    "        y = a // x\n",
    "        z = b // x\n",
    "        gcd = x\n",
    "        lcm = x * y * z\n",
    "    elif b == 1:\n",
    "        gcd = 1\n",
    "        lcm = a\n",
    "print(gcd, lcm, sep='\\n')  \n",
    "'''"
   ],
   "outputs": [
    {
     "output_type": "execute_result",
     "data": {
      "text/plain": [
       "\"\\na, b = map(int, input().split())\\n\\nif a >= b:\\n    if (a % b) == 0:\\n        gcd = b\\n        lcm = a\\n    elif b == 1:\\n        gcd = 1\\n        lcm = a\\n    else:\\n        if (a % b) != 0:\\n            x = a % b\\n            y = a // x\\n            z = b // x\\n            gcd = x\\n            lcm = x*y*z\\nelse:  # b가 a보다 큰 경우\\n    a, b = b, a\\n    if (a % b) == 0:\\n        gcd = b\\n        lcm = a\\n    elif (a % b) != 0:\\n        x = a % b\\n        y = a // x\\n        z = b // x\\n        gcd = x\\n        lcm = x * y * z\\n    elif b == 1:\\n        gcd = 1\\n        lcm = a\\nprint(gcd, lcm, sep='\\n')  \\n\""
      ]
     },
     "metadata": {},
     "execution_count": 27
    }
   ],
   "metadata": {}
  },
  {
   "cell_type": "markdown",
   "source": [
    "최대공약수 <br>\n",
    "1) 큰 수를 작은 수로 나누어 구한 나머지를 큰 수로 대체 <br>\n",
    "2) 큰 수를 작은 수로 계속 나누고, 나머지가 0이 될 때까지 반복 <br>\n",
    "3) 나누는 수가 최대공약수 <br><br>\n",
    "최소공배수<br>\n",
    "1) 큰 수 * 작은 수 / 최대공약수"
   ],
   "metadata": {}
  },
  {
   "cell_type": "code",
   "execution_count": 26,
   "source": [
    "# a = 큰 수, b = 작은 수\n",
    "A, B = map(int, input().split())\n",
    "a, b = A, B\n",
    "\n",
    "if B > A:\n",
    "    A, B = B, A\n",
    "    a, b = b, a\n",
    "\n",
    "while b != 0:    # b가 0이 아니면 while문 반복\n",
    "    a = a % b\n",
    "    if b > a:\n",
    "        a, b = b, a\n",
    "\n",
    "gcd = a\n",
    "lcm = int(A * B / gcd)\n",
    "print(gcd, lcm, sep='\\n')"
   ],
   "outputs": [
    {
     "output_type": "stream",
     "name": "stdout",
     "text": [
      "11 7\n",
      "1\n",
      "77\n"
     ]
    }
   ],
   "metadata": {}
  },
  {
   "cell_type": "markdown",
   "source": [
    "# 실버3 1, 2, 3 더하기 - 9095"
   ],
   "metadata": {}
  },
  {
   "cell_type": "markdown",
   "source": [
    "점화식<br>\n",
    "f(n) = f(n-1) + f(n-2) + f(n-3)  (n>3)"
   ],
   "metadata": {}
  },
  {
   "cell_type": "markdown",
   "source": [
    "f(1) = 1 <br>\n",
    "f(2) = 2 <br>\n",
    "f(3) = 4 <br>\n",
    "f(4) = 7 <br>\n",
    "f(5) = 13 <br>\n",
    "f(6) = 24"
   ],
   "metadata": {}
  },
  {
   "cell_type": "code",
   "execution_count": 37,
   "source": [
    "T = int(input())\n",
    "T_list = []\n",
    "dp = [1, 2, 4]\n",
    "\n",
    "for i in range(T):\n",
    "    T_list.append(int(input()))\n",
    "\n",
    "for i in range(3, max(T_list)):\n",
    "    dp.append(dp[i-1] + dp[i-2] + dp[i-3])\n",
    "    \n",
    "for i in T_list:\n",
    "    print(dp[i-1])"
   ],
   "outputs": [
    {
     "output_type": "stream",
     "name": "stdout",
     "text": [
      "3\n",
      "4\n",
      "7\n",
      "10\n",
      "7\n",
      "44\n",
      "274\n"
     ]
    }
   ],
   "metadata": {}
  },
  {
   "cell_type": "markdown",
   "source": [
    "# 브론즈2 일곱 난쟁이 - 2309"
   ],
   "metadata": {}
  },
  {
   "cell_type": "markdown",
   "source": [
    "브루트포스 : 모든 경우를 직접 다 해본다"
   ],
   "metadata": {}
  },
  {
   "cell_type": "markdown",
   "source": [
    "random 모듈 사용했을 경우의 코드(직접 짠 코드) <br>\n",
    "--> 그러나. random 모듈은 백준에서 사용할 수 없다."
   ],
   "metadata": {}
  },
  {
   "cell_type": "code",
   "execution_count": 1,
   "source": [
    "import random\n",
    "\n",
    "li = []\n",
    "def save_height():\n",
    "    for _ in range(9):\n",
    "        height = int(input())\n",
    "        li.append(height)\n",
    "    return li\n",
    "\n",
    "save_height()\n",
    "\n",
    "while 1:\n",
    "    nanz = random.sample(li, 7)\n",
    "    if sum(nanz) == 100:\n",
    "        print(nanz)\n",
    "        break\n",
    "    else:\n",
    "        continue\n",
    "    "
   ],
   "outputs": [
    {
     "output_type": "stream",
     "name": "stdout",
     "text": [
      "20\n",
      "7\n",
      "23\n",
      "19\n",
      "10\n",
      "15\n",
      "25\n",
      "8\n",
      "13\n",
      "[10, 7, 8, 20, 23, 13, 19]\n"
     ]
    }
   ],
   "metadata": {}
  },
  {
   "cell_type": "code",
   "execution_count": 2,
   "source": [
    "li = []\r\n",
    "# a = 0\r\n",
    "# b = 0\r\n",
    "def save_height():\r\n",
    "    for _ in range(9):\r\n",
    "        height = int(input())\r\n",
    "        li.append(height)\r\n",
    "    return li\r\n",
    "\r\n",
    "height = save_height()\r\n",
    "for i in range(8):\r\n",
    "    for j in range(i + 1, 9):\r\n",
    "        if sum(height) - (height[i] + height[j]) == 100:\r\n",
    "            a = height[i]\r\n",
    "            b = height[j]\r\n",
    "            break\r\n",
    "\r\n",
    "height.remove(a)\r\n",
    "height.remove(b)\r\n",
    "height.sort()\r\n",
    "for i in height:\r\n",
    "    print(i)"
   ],
   "outputs": [
    {
     "output_type": "stream",
     "name": "stdout",
     "text": [
      "20\n",
      "7\n",
      "23\n",
      "19\n",
      "10\n",
      "15\n",
      "25\n",
      "8\n",
      "13\n",
      "7\n",
      "8\n",
      "10\n",
      "13\n",
      "19\n",
      "20\n",
      "23\n"
     ]
    }
   ],
   "metadata": {}
  },
  {
   "cell_type": "markdown",
   "source": [
    "# 브론즈1 단어 뒤집기 - 9093"
   ],
   "metadata": {}
  },
  {
   "cell_type": "code",
   "execution_count": 33,
   "source": [
    "for _ in range(int(input())):\r\n",
    "    for i in input().split():\r\n",
    "        print(i[::-1], end=' ')"
   ],
   "outputs": [
    {
     "output_type": "stream",
     "name": "stdout",
     "text": [
      "1\n",
      "i am happy\n",
      "i ma yppah "
     ]
    }
   ],
   "metadata": {}
  },
  {
   "cell_type": "markdown",
   "source": [
    "# 실버5 집합 - 11723"
   ],
   "metadata": {}
  },
  {
   "cell_type": "markdown",
   "source": [
    "## class의 self 잘 알아두기 <br>\n",
    "https://wikidocs.net/28"
   ],
   "metadata": {}
  },
  {
   "cell_type": "markdown",
   "source": [
    "### 직접 짠 코드 (제대로 작동은 하지만 시간 초과)"
   ],
   "metadata": {}
  },
  {
   "cell_type": "code",
   "execution_count": 93,
   "source": [
    "M = int(input())\r\n",
    "S = set()\r\n",
    "\r\n",
    "class cal:\r\n",
    "    def add(self, num):\r\n",
    "        self.num = num  # 주의!\r\n",
    "        global S\r\n",
    "        S.add(self.num)\r\n",
    "        \r\n",
    "    def remove(self, num):\r\n",
    "        self.num = num\r\n",
    "        global S\r\n",
    "        if self.num in S:\r\n",
    "            S.remove(self.num)\r\n",
    "        else:\r\n",
    "            S = S\r\n",
    "            \r\n",
    "    def check(self, num):\r\n",
    "        self.num = num\r\n",
    "        global S\r\n",
    "        if self.num in S:\r\n",
    "            print(1)\r\n",
    "        else:\r\n",
    "            print(0)\r\n",
    "            \r\n",
    "    def toggle(self, num):\r\n",
    "        self.num = num\r\n",
    "        global S\r\n",
    "        if self.num in S:\r\n",
    "            S.remove(self.num)\r\n",
    "        else:\r\n",
    "            S.add(self.num)\r\n",
    "    \r\n",
    "    def all_func(self):  # 제대로 작동 안하는 중\r\n",
    "        global S\r\n",
    "        S = set([x for x in range(1, 21)])\r\n",
    "            \r\n",
    "    def empty(self):  # 제대로 작동 안함\r\n",
    "        global S\r\n",
    "        S = set()\r\n",
    "\r\n",
    "cal = cal()\r\n",
    "        \r\n",
    "for _ in range(M):\r\n",
    "    tmp = input().strip().split()\r\n",
    "    if len(tmp) == 1:\r\n",
    "        if tmp[0] == \"all\":\r\n",
    "            cal.all_func()\r\n",
    "        elif tmp[0] == \"empty\":\r\n",
    "            cal.empty()\r\n",
    "    else:\r\n",
    "        func, n = tmp[0], tmp[1]\r\n",
    "        n = int(n)\r\n",
    "        if func == \"add\":\r\n",
    "            cal.add(n)\r\n",
    "        elif func == \"remove\":\r\n",
    "            cal.remove(n)\r\n",
    "        elif func == \"check\":\r\n",
    "            cal.check(n)\r\n",
    "        elif func == \"toggle\":\r\n",
    "            cal.toggle(n)"
   ],
   "outputs": [
    {
     "output_type": "stream",
     "name": "stdout",
     "text": [
      "26\n",
      "add 1\n",
      "add 2\n",
      "check 1\n",
      "1\n",
      "check 2\n",
      "1\n",
      "check 3\n",
      "0\n",
      "remove 2\n",
      "check 1\n",
      "1\n",
      "check 2\n",
      "0\n",
      "toggle 3\n",
      "check 1\n",
      "1\n",
      "check 2\n",
      "0\n",
      "check 3\n",
      "1\n",
      "check 4\n",
      "0\n",
      "all\n",
      "check 10\n",
      "1\n",
      "check 20\n",
      "1\n",
      "toggle 10\n",
      "remove 20\n",
      "check 10\n",
      "0\n",
      "check 20\n",
      "0\n",
      "empty\n",
      "check 1\n",
      "0\n",
      "toggle 1\n",
      "check 1\n",
      "1\n",
      "toggle 1\n",
      "check 1\n",
      "0\n"
     ]
    }
   ],
   "metadata": {}
  },
  {
   "cell_type": "markdown",
   "source": [
    "### 아래 코드도 시간 초과 --> sys 활용해서 다시 제출"
   ],
   "metadata": {}
  },
  {
   "cell_type": "code",
   "execution_count": 96,
   "source": [
    "M = int(input())\r\n",
    "S = set()\r\n",
    "\r\n",
    "for _ in range(M):\r\n",
    "    tmp = input().strip().split()\r\n",
    "    if len(tmp) == 1:\r\n",
    "        if tmp[0] == \"all\":\r\n",
    "            S = set([x for x in range(1, 21)])\r\n",
    "        elif tmp[0] == \"empty\":\r\n",
    "            S = set()\r\n",
    "    else:\r\n",
    "        func, n = tmp[0], tmp[1]\r\n",
    "        n = int(n)\r\n",
    "        if func == \"add\":\r\n",
    "            S.add(n)\r\n",
    "        elif func == \"remove\":\r\n",
    "            if n in S:\r\n",
    "                S.remove(n)\r\n",
    "            else: \r\n",
    "                S = S\r\n",
    "        elif func == \"check\":\r\n",
    "            print(1 if n in S else 0)\r\n",
    "        elif func == \"toggle\":\r\n",
    "            if n in S:\r\n",
    "                S.remove(n)\r\n",
    "            else: \r\n",
    "                S.add(n)"
   ],
   "outputs": [
    {
     "output_type": "stream",
     "name": "stdout",
     "text": [
      "5\n",
      "add 1\n",
      "add 2\n",
      "add 3\n",
      "add 4\n",
      "all\n"
     ]
    }
   ],
   "metadata": {}
  },
  {
   "cell_type": "code",
   "execution_count": 99,
   "source": [
    "# import sys\r\n",
    "# M = int(sys.stdin.readline())\r\n",
    "# S = set()\r\n",
    "\r\n",
    "# for _ in range(M):\r\n",
    "#     tmp = sys.stdin.readline().strip().split()\r\n",
    "#     if len(tmp) == 1:\r\n",
    "#         if tmp[0] == \"all\":\r\n",
    "#             S = set([x for x in range(1, 21)])\r\n",
    "#         elif tmp[0] == \"empty\":\r\n",
    "#             S = set()\r\n",
    "#     else:\r\n",
    "#         func, n = tmp[0], tmp[1]\r\n",
    "#         n = int(n)\r\n",
    "#         if func == \"add\":\r\n",
    "#             S.add(n)\r\n",
    "#         elif func == \"remove\":\r\n",
    "#             if n in S:\r\n",
    "#                 S.remove(n)\r\n",
    "#             else: \r\n",
    "#                 S = S\r\n",
    "#         elif func == \"check\":\r\n",
    "#             print(1 if n in S else 0)\r\n",
    "#         elif func == \"toggle\":\r\n",
    "#             if n in S:\r\n",
    "#                 S.remove(n)\r\n",
    "#             else: \r\n",
    "#                 S.add(n)"
   ],
   "outputs": [],
   "metadata": {}
  },
  {
   "cell_type": "markdown",
   "source": [
    "# 실버5 3의 배수"
   ],
   "metadata": {}
  },
  {
   "cell_type": "markdown",
   "source": [
    "* sys.stdin.readline : https://velog.io/@yeseolee/Python-%ED%8C%8C%EC%9D%B4%EC%8D%AC-%EC%9E%85%EB%A0%A5-%EC%A0%95%EB%A6%ACsys.stdin.readline"
   ],
   "metadata": {}
  },
  {
   "cell_type": "code",
   "execution_count": 31,
   "source": [
    "# import sys\r\n",
    "# X = list(map(int, sys.stdin.readline()))\r\n",
    "# # A, B = list(map(int, sys.stdin.readline().split()))\r\n",
    "# # print(A + B)"
   ],
   "outputs": [],
   "metadata": {}
  },
  {
   "cell_type": "code",
   "execution_count": 36,
   "source": [
    "X = input()\r\n",
    "# Y가 한 자리수가 될 때까지 몇 번?\r\n",
    "# Y는 3의 배수인가?\r\n",
    "li = \",\".join(list(X))\r\n",
    "\r\n"
   ],
   "outputs": [],
   "metadata": {}
  },
  {
   "cell_type": "code",
   "execution_count": 37,
   "source": [
    "X"
   ],
   "outputs": [
    {
     "output_type": "execute_result",
     "data": {
      "text/plain": [
       "'1234567'"
      ]
     },
     "metadata": {},
     "execution_count": 37
    }
   ],
   "metadata": {}
  },
  {
   "cell_type": "code",
   "execution_count": 44,
   "source": [
    "li = \",\".join(list(X))\r\n",
    "li"
   ],
   "outputs": [
    {
     "output_type": "execute_result",
     "data": {
      "text/plain": [
       "'1,2,3,4,5,6,7'"
      ]
     },
     "metadata": {},
     "execution_count": 44
    }
   ],
   "metadata": {}
  },
  {
   "cell_type": "code",
   "execution_count": 48,
   "source": [
    "y = sum(list(map(int, li.split(','))))\r\n",
    "y"
   ],
   "outputs": [
    {
     "output_type": "execute_result",
     "data": {
      "text/plain": [
       "28"
      ]
     },
     "metadata": {},
     "execution_count": 48
    }
   ],
   "metadata": {}
  },
  {
   "cell_type": "code",
   "execution_count": 82,
   "source": [
    "X = input()\r\n",
    "n = 0\r\n",
    "Y = X\r\n",
    "\r\n",
    "while 1:\r\n",
    "    n += 1\r\n",
    "    s = ','.join(list(Y))\r\n",
    "    Y = str(sum(list(map(int, s.split(',')))))\r\n",
    "    \r\n",
    "    try:\r\n",
    "        if len(X) <= 1000000:\r\n",
    "            if len(Y) == 1:\r\n",
    "                if int(Y) % 3 == 0:\r\n",
    "                    if int(Y) == 0:\r\n",
    "                        print(n)\r\n",
    "                        print('NO')\r\n",
    "                    else:\r\n",
    "                        print(n)\r\n",
    "                        print('YES')\r\n",
    "                else:\r\n",
    "                    print(n)\r\n",
    "                    print('NO')\r\n",
    "                break\r\n",
    "            else:\r\n",
    "                continue\r\n",
    "    except:\r\n",
    "        break\r\n"
   ],
   "outputs": [
    {
     "output_type": "stream",
     "name": "stdout",
     "text": [
      "3\n",
      "NO\n"
     ]
    }
   ],
   "metadata": {}
  }
 ],
 "metadata": {
  "kernelspec": {
   "name": "python3",
   "display_name": "Python 3.7.9 64-bit ('nomad_crawl': conda)"
  },
  "language_info": {
   "codemirror_mode": {
    "name": "ipython",
    "version": 3
   },
   "file_extension": ".py",
   "mimetype": "text/x-python",
   "name": "python",
   "nbconvert_exporter": "python",
   "pygments_lexer": "ipython3",
   "version": "3.7.9"
  },
  "toc": {
   "base_numbering": 1,
   "nav_menu": {},
   "number_sections": true,
   "sideBar": true,
   "skip_h1_title": false,
   "title_cell": "Table of Contents",
   "title_sidebar": "Contents",
   "toc_cell": false,
   "toc_position": {},
   "toc_section_display": true,
   "toc_window_display": false
  },
  "interpreter": {
   "hash": "3d4b0f907c7a938ba7f071af18c861cb14796bc2bc63236be81e6b9643922a2d"
  }
 },
 "nbformat": 4,
 "nbformat_minor": 2
}