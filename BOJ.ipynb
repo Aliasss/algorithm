{
 "cells": [
  {
   "cell_type": "code",
   "execution_count": 251,
   "metadata": {
    "id": "PaAjTSzMwIfm"
   },
   "outputs": [],
   "source": [
    "# !jt -t chesterish -f bitstream -fs 10 -tf roboto -tfs 11 -nf opensans -nfs 10 -ofs 11 -dfs 11 -cellw 95% -lineh 150 -T -N"
   ]
  },
  {
   "cell_type": "markdown",
   "metadata": {
    "id": "7QAS-lPhwIfp"
   },
   "source": [
    "## 참고: 주피터에선 stdin 환경설정이 잘 되어있지 않으므로 항상 빈 문자열을 반환함<br> 따라서, input()을 활용해야 함"
   ]
  },
  {
   "cell_type": "markdown",
   "metadata": {
    "id": "4wOMFf3zwIfr"
   },
   "source": [
    "# 입출력 2557"
   ]
  },
  {
   "cell_type": "code",
   "execution_count": 1,
   "metadata": {
    "id": "AgiqmueUwIfr"
   },
   "outputs": [
    {
     "name": "stdout",
     "output_type": "stream",
     "text": [
      "Hello World!\n"
     ]
    }
   ],
   "source": [
    "print(\"Hello World!\")"
   ]
  },
  {
   "cell_type": "markdown",
   "metadata": {
    "id": "H1D_pCTpwIfs"
   },
   "source": [
    "# 입출력 1000"
   ]
  },
  {
   "cell_type": "code",
   "execution_count": 3,
   "metadata": {
    "id": "4PQ4P8SiwIfs",
    "outputId": "303a6932-cca8-4e88-b37a-285ebf11b407"
   },
   "outputs": [
    {
     "name": "stdout",
     "output_type": "stream",
     "text": [
      "23 3\n",
      "26\n"
     ]
    }
   ],
   "source": [
    "A, B = list(map(int, input().split()))\n",
    "C = A + B\n",
    "print(C)"
   ]
  },
  {
   "cell_type": "code",
   "execution_count": null,
   "metadata": {
    "id": "WtBfl1ftwIft"
   },
   "outputs": [],
   "source": [
    "# import sys\n",
    "# A, B = list(map(int, sys.stdin.readline().split()))\n",
    "# print(A + B)"
   ]
  },
  {
   "cell_type": "code",
   "execution_count": 4,
   "metadata": {
    "id": "Gb4lR7q2wIfu",
    "outputId": "f8701c27-3e3e-4171-a244-b15a63f50399"
   },
   "outputs": [
    {
     "name": "stdout",
     "output_type": "stream",
     "text": [
      "1 2\n",
      "3\n"
     ]
    }
   ],
   "source": [
    "print(sum(map(int, input().split())))"
   ]
  },
  {
   "cell_type": "markdown",
   "metadata": {
    "id": "9d8kWg6BwIfv"
   },
   "source": [
    "# 3 입출력 2558"
   ]
  },
  {
   "cell_type": "code",
   "execution_count": null,
   "metadata": {
    "id": "jbibScrOwIfw",
    "outputId": "6f214b39-1aa2-4266-ef3b-003a2c1c45de"
   },
   "outputs": [
    {
     "name": "stdout",
     "output_type": "stream",
     "text": [
      "1\n",
      "2\n",
      "3\n"
     ]
    }
   ],
   "source": [
    "A = int(input())\n",
    "B = int(input())\n",
    "print(A + B)"
   ]
  },
  {
   "cell_type": "markdown",
   "metadata": {
    "id": "JZHp9QA-wIfw"
   },
   "source": [
    "# 입출력 10950"
   ]
  },
  {
   "cell_type": "code",
   "execution_count": null,
   "metadata": {
    "id": "JSx97qqywIfx",
    "outputId": "897fb0c4-5e2d-47c1-af08-b2d7b87c3401"
   },
   "outputs": [
    {
     "name": "stdout",
     "output_type": "stream",
     "text": [
      "5\n",
      "1 1\n",
      "2\n",
      "2 2\n",
      "4\n",
      "3 3\n",
      "6\n",
      "4 4\n",
      "8\n",
      "5 5\n",
      "10\n"
     ]
    }
   ],
   "source": [
    "T = int(input())\n",
    "for i in range(T):\n",
    "    A, B = map(int, input().split())\n",
    "    print(A + B)"
   ]
  },
  {
   "cell_type": "markdown",
   "metadata": {
    "id": "J-ZrDesuwIfx"
   },
   "source": [
    "# 입출력 10951"
   ]
  },
  {
   "cell_type": "markdown",
   "metadata": {
    "id": "t722sa8FwIfx"
   },
   "source": [
    "문제<br>\n",
    "두 정수 A와 B를 입력받은 다음, A+B를 출력하는 프로그램을 작성하시오.<br><br>\n",
    "\n",
    "입력<br>\n",
    "입력은 여러 개의 테스트 케이스로 이루어져 있다.<br>\n",
    "\n",
    "각 테스트 케이스는 한 줄로 이루어져 있으며, 각 줄에 A와 B가 주어진다. (0 < A, B < 10)<br><br>\n",
    "\n",
    "출력<br>\n",
    "각 테스트 케이스마다 A+B를 출력한다."
   ]
  },
  {
   "cell_type": "markdown",
   "metadata": {
    "id": "BqrI9mHVwIfy"
   },
   "source": [
    "테스트케이스의 개수와 종료조건이 명시돼있지 않다. <br>\n",
    "따라서, 정상적인 프로그램 종료를 위해 데이터 소스로부터 더 이상 읽을 수 있는 데이터가 없음을 나타내야 한다.<br>\n",
    "**예외처리 활용!**"
   ]
  },
  {
   "cell_type": "code",
   "execution_count": null,
   "metadata": {
    "id": "EMgZByMAwIfy",
    "outputId": "bc093fd6-780d-41a6-e90b-645f353f415d"
   },
   "outputs": [
    {
     "name": "stdout",
     "output_type": "stream",
     "text": [
      "1 2\n",
      "3\n",
      "3 4\n",
      "7\n",
      "ㄱ\n"
     ]
    }
   ],
   "source": [
    "while 1:\n",
    "    try: \n",
    "        A, B = map(int, input().split())\n",
    "        print(A + B)\n",
    "    except:\n",
    "        break"
   ]
  },
  {
   "cell_type": "code",
   "execution_count": null,
   "metadata": {
    "id": "XsbEY8uswIfz",
    "outputId": "b85f4195-8145-4bfa-cccd-7c3285f2f004"
   },
   "outputs": [
    {
     "name": "stdout",
     "output_type": "stream",
     "text": [
      "1 2\n",
      "3\n",
      "3 4\n",
      "7\n",
      "r\n",
      "error\n"
     ]
    }
   ],
   "source": [
    "try:\n",
    "    while 1:\n",
    "        A, B = map(int, input().split())\n",
    "        print(A + B)\n",
    "except:\n",
    "    print('error')"
   ]
  },
  {
   "cell_type": "markdown",
   "metadata": {
    "id": "blXVmjuCwIfz"
   },
   "source": [
    "# 입출력 10952"
   ]
  },
  {
   "cell_type": "code",
   "execution_count": null,
   "metadata": {
    "id": "4WZN0V1twIfz"
   },
   "outputs": [],
   "source": [
    "# 주피터 외 환경에서 실행\n",
    "import sys\n",
    "while True:\n",
    "    A, B = map(int, sys.stdin.readline().split())\n",
    "    if A == 0 and B == 0:\n",
    "        break\n",
    "    else:\n",
    "        print(A+B)"
   ]
  },
  {
   "cell_type": "markdown",
   "metadata": {
    "id": "jyt_hlN0wIfz"
   },
   "source": [
    "변수 A와 B가 모두 0이 되면 반복 중단한다."
   ]
  },
  {
   "cell_type": "code",
   "execution_count": null,
   "metadata": {
    "id": "K6PB1xkHwIf0",
    "outputId": "d6c54e5e-70d5-4eb5-de4f-1af01fb19b04"
   },
   "outputs": [
    {
     "name": "stdout",
     "output_type": "stream",
     "text": [
      "1 2\n",
      "3\n",
      "2 3\n",
      "5\n",
      "0 0\n"
     ]
    }
   ],
   "source": [
    "while 1:\n",
    "    A, B = map(int, input().split())\n",
    "    if A == 0 and B == 0:\n",
    "        break  # 반복문 빠져나가기\n",
    "    else:\n",
    "        print(A + B)"
   ]
  },
  {
   "cell_type": "markdown",
   "metadata": {
    "id": "ycxXlqENwIf0"
   },
   "source": [
    "# 입출력 10953"
   ]
  },
  {
   "cell_type": "code",
   "execution_count": null,
   "metadata": {
    "id": "UvdKEBNfwIf0",
    "outputId": "e4c8c2d1-4dd3-4052-a3f2-ecff51c943bb"
   },
   "outputs": [
    {
     "name": "stdout",
     "output_type": "stream",
     "text": [
      "2\n",
      "1, 2\n",
      "3\n",
      "3, 4\n",
      "7\n"
     ]
    }
   ],
   "source": [
    "T = int(input())\n",
    "for i in range(T):\n",
    "    A, B = map(int, input().split(','))\n",
    "    print(A + B)"
   ]
  },
  {
   "cell_type": "markdown",
   "metadata": {
    "id": "m9XNDjSOwIf0"
   },
   "source": [
    "# 입출력 11021"
   ]
  },
  {
   "cell_type": "code",
   "execution_count": null,
   "metadata": {
    "id": "kAoooiiLwIf1",
    "outputId": "0fc6b456-3a70-426a-8ff8-13a2cdeea938"
   },
   "outputs": [
    {
     "name": "stdout",
     "output_type": "stream",
     "text": [
      "3\n",
      "1 2\n",
      "Case #1: 3\n",
      "2 3\n",
      "Case #2: 5\n",
      "3 4\n",
      "Case #3: 7\n"
     ]
    }
   ],
   "source": [
    "T = int(input())\n",
    "for i in range(1, T+1):\n",
    "    A, B = map(int, input().split())\n",
    "    print(f'Case #{i}: {A+B}')"
   ]
  },
  {
   "cell_type": "markdown",
   "metadata": {
    "id": "NW6D2gufwIf1"
   },
   "source": [
    "# 입출력 11022"
   ]
  },
  {
   "cell_type": "markdown",
   "metadata": {
    "id": "1XhJeXqUwIf1"
   },
   "source": [
    "https://www.acmicpc.net/problem/11022"
   ]
  },
  {
   "cell_type": "code",
   "execution_count": null,
   "metadata": {
    "id": "ku5OwcKtwIf1",
    "outputId": "96add5b4-7119-44f3-a559-3bf22c6a0de2"
   },
   "outputs": [
    {
     "name": "stdout",
     "output_type": "stream",
     "text": [
      "2\n",
      "1 2\n",
      "Case #1: 1 + 2 = 3\n",
      "3 4\n",
      "Case #2: 3 + 4 = 7\n"
     ]
    }
   ],
   "source": [
    "T = int(input())\n",
    "for i in range(1, T+1):\n",
    "    A, B = map(int, input().split())\n",
    "    print(f'Case #{i}: {A} + {B} = {A+B}')"
   ]
  },
  {
   "cell_type": "markdown",
   "metadata": {
    "id": "abEl-ueHwIf2"
   },
   "source": [
    "# 입출력 11718"
   ]
  },
  {
   "cell_type": "markdown",
   "metadata": {
    "id": "-27i9w7YwIf2"
   },
   "source": [
    "https://www.acmicpc.net/problem/11718"
   ]
  },
  {
   "cell_type": "code",
   "execution_count": null,
   "metadata": {
    "id": "MqfysNFRwIf2",
    "outputId": "d5723d27-a599-4b5f-d264-afeb500c0349"
   },
   "outputs": [
    {
     "name": "stdout",
     "output_type": "stream",
     "text": [
      "abcadfaef\n",
      "abcadfaef\n",
      "dfdafefa\n",
      "dfdafefa\n",
      "dafef\n",
      "dafef\n",
      "adfe\n",
      "adfe\n",
      "fadfad\n",
      "fadfad\n",
      "fef\n",
      "fef\n",
      "adfad\n",
      "adfad\n",
      "faef\n",
      "faef\n",
      "adfadf\n",
      "adfadf\n",
      "\n",
      "\n",
      "z\n",
      "z\n",
      "exit\n",
      "exit\n",
      "종료\n",
      "종료\n"
     ]
    }
   ],
   "source": [
    "while 1:\n",
    "    try:\n",
    "        print(input())\n",
    "    except EOFError:\n",
    "        break"
   ]
  },
  {
   "cell_type": "markdown",
   "metadata": {
    "id": "vZ8Iz3igwIf2"
   },
   "source": [
    "**EOFError란?**<br>\n",
    "파이썬은 EOFError 라고 불리우는 오류를 발생시키는데 이때 EOF란 파일의 끝(end of file) 을 의미하며(파일의 끝은 ctrl-d 에 의해 표현된다), 갑자기 파일의 끝이 올 것을 예상하지 못했기 때문에 위와 같은 오류가 발생하는 것이다."
   ]
  },
  {
   "cell_type": "code",
   "execution_count": null,
   "metadata": {
    "colab": {
     "base_uri": "https://localhost:8080/"
    },
    "id": "9NiKq1UawIf2",
    "outputId": "6db5b136-e0b8-4b91-e623-8b3b481cdef4"
   },
   "outputs": [
    {
     "name": "stdout",
     "output_type": "stream",
     "text": [
      "\n"
     ]
    }
   ],
   "source": [
    "# 주피터 외 환경에서 실행\n",
    "import sys\n",
    "print(sys.stdin.read())"
   ]
  },
  {
   "cell_type": "markdown",
   "metadata": {
    "id": "4AOG8ukhwIf2"
   },
   "source": [
    "입출력 input(), sys.stdin 참고 링크<br>\n",
    "**https://velog.io/@tbnsok40/%ED%8C%8C%EC%9D%B4%EC%8D%AC-%EB%8B%A4%EC%96%91%ED%95%9C-%EC%9E%85%EB%A0%A5%EB%B0%A9%EB%B2%95-input-read-readline**"
   ]
  },
  {
   "cell_type": "markdown",
   "metadata": {
    "id": "vzA8RV8gwIf3"
   },
   "source": [
    "# 입출력 11719"
   ]
  },
  {
   "cell_type": "markdown",
   "metadata": {
    "id": "MO7boYQtwIf3"
   },
   "source": [
    "https://www.acmicpc.net/problem/11719"
   ]
  },
  {
   "cell_type": "code",
   "execution_count": null,
   "metadata": {
    "id": "OcG6Ri8PwIf3"
   },
   "outputs": [],
   "source": [
    "while 1:\n",
    "    try:\n",
    "        print(input())\n",
    "    except EOFError:\n",
    "        break"
   ]
  },
  {
   "cell_type": "markdown",
   "metadata": {
    "id": "nCciLRQEwIf3"
   },
   "source": [
    "# 입출력 11720"
   ]
  },
  {
   "cell_type": "markdown",
   "metadata": {
    "id": "QUb_eNM0wIf3"
   },
   "source": [
    "https://www.acmicpc.net/problem/11720"
   ]
  },
  {
   "cell_type": "code",
   "execution_count": null,
   "metadata": {
    "id": "2syIK-KOwIf4",
    "outputId": "e822985e-24b1-44fa-e3fa-fa2d6ad25e6e"
   },
   "outputs": [
    {
     "name": "stdout",
     "output_type": "stream",
     "text": [
      "5\n",
      "1234\n",
      "10\n",
      "1234\n"
     ]
    }
   ],
   "source": [
    "sum = 0\n",
    "N = int(input())\n",
    "num = input()\n",
    "for i in num:\n",
    "    sum += int(i)\n",
    "print(sum)"
   ]
  },
  {
   "cell_type": "markdown",
   "metadata": {
    "id": "FeLgRIPywIf4"
   },
   "source": [
    "# 입출력 11721"
   ]
  },
  {
   "cell_type": "markdown",
   "metadata": {
    "id": "tHDwBCiFwIf4"
   },
   "source": [
    "https://www.acmicpc.net/problem/11721"
   ]
  },
  {
   "cell_type": "code",
   "execution_count": null,
   "metadata": {
    "id": "uGvcVpVWwIf4",
    "outputId": "3f9bb961-89b9-4a4a-f860-c4b66b4c4a87"
   },
   "outputs": [
    {
     "name": "stdout",
     "output_type": "stream",
     "text": [
      "abcdefghijklmnopqrstuvwxyz\n",
      "abcdefghij\n",
      "klmnopqrst\n",
      "uvwxyz"
     ]
    }
   ],
   "source": [
    "string = input()\n",
    "cnt = 0\n",
    "for each in string:\n",
    "    print(each, end='')   # 개행이 되지 않도록 end=''\n",
    "    cnt += 1\n",
    "    if cnt % 10 == 0:\n",
    "        print('')"
   ]
  },
  {
   "cell_type": "markdown",
   "metadata": {
    "id": "G-hK6r9nwIf4"
   },
   "source": [
    "# 입출력 2741"
   ]
  },
  {
   "cell_type": "markdown",
   "metadata": {
    "id": "x903JarRwIf4"
   },
   "source": [
    "https://www.acmicpc.net/problem/2741"
   ]
  },
  {
   "cell_type": "code",
   "execution_count": null,
   "metadata": {
    "id": "by6EV7q5wIf5",
    "outputId": "4e0030b6-32fe-4cbb-93f9-839ed48d47ee"
   },
   "outputs": [
    {
     "name": "stdout",
     "output_type": "stream",
     "text": [
      "5\n",
      "1\n",
      "2\n",
      "3\n",
      "4\n",
      "5\n"
     ]
    }
   ],
   "source": [
    "a = int(input())\n",
    "for i in range(1, a+1):\n",
    "    print(i)"
   ]
  },
  {
   "cell_type": "markdown",
   "metadata": {
    "id": "a3gopUtbwIf5"
   },
   "source": [
    "# 입출력 2742"
   ]
  },
  {
   "cell_type": "markdown",
   "metadata": {
    "id": "ffcMbHfYwIf5"
   },
   "source": [
    "https://www.acmicpc.net/problem/2742"
   ]
  },
  {
   "cell_type": "code",
   "execution_count": null,
   "metadata": {
    "id": "97pjXUEOwIf5",
    "outputId": "e15f8c1b-24df-4f2f-c0e0-63de635ba56e"
   },
   "outputs": [
    {
     "name": "stdout",
     "output_type": "stream",
     "text": [
      "3\n",
      "3\n",
      "2\n",
      "1\n"
     ]
    }
   ],
   "source": [
    "a = int(input())\n",
    "for i in range(a, 0, -1):\n",
    "    print(i)"
   ]
  },
  {
   "cell_type": "markdown",
   "metadata": {
    "id": "Lq9UrcUiwIf5"
   },
   "source": [
    "# 입출력 2743"
   ]
  },
  {
   "cell_type": "markdown",
   "metadata": {
    "id": "hKeibUYSwIf5"
   },
   "source": [
    "https://www.acmicpc.net/problem/2739"
   ]
  },
  {
   "cell_type": "code",
   "execution_count": null,
   "metadata": {
    "id": "_8CD4bUWwIf5",
    "outputId": "bcc44475-ae3f-4a86-e5d8-5d0ff0d77891"
   },
   "outputs": [
    {
     "name": "stdout",
     "output_type": "stream",
     "text": [
      "2\n",
      "2 * 1 = 2\n",
      "2 * 2 = 4\n",
      "2 * 3 = 6\n",
      "2 * 4 = 8\n",
      "2 * 5 = 10\n",
      "2 * 6 = 12\n",
      "2 * 7 = 14\n",
      "2 * 8 = 16\n",
      "2 * 9 = 18\n"
     ]
    }
   ],
   "source": [
    "N = int(input())\n",
    "for i in range(1, 10):\n",
    "    print(f\"{N} * {i} = {N*i}\")"
   ]
  },
  {
   "cell_type": "markdown",
   "metadata": {
    "id": "Fb-49M00wIf6"
   },
   "source": [
    "# 입출력 1924"
   ]
  },
  {
   "cell_type": "markdown",
   "metadata": {
    "id": "JHoFaULywIf6"
   },
   "source": [
    "https://www.acmicpc.net/problem/1924"
   ]
  },
  {
   "cell_type": "code",
   "execution_count": null,
   "metadata": {
    "id": "XEZVmnxwwIf6",
    "outputId": "636c3a48-6c03-43c5-9da5-5772eb2fc1b9"
   },
   "outputs": [
    {
     "name": "stdout",
     "output_type": "stream",
     "text": [
      "2 1\n",
      "TUE\n"
     ]
    }
   ],
   "source": [
    "day = 0\n",
    "# 1~12월의 마지막 일\n",
    "date = [31, 28, 31, 30, 31, 30, 31, 31, 30, 31, 30, 31]\n",
    "weekday = ['SUN', 'MON', 'TUE', 'WED', 'THU', 'FRI', 'SAT']\n",
    "\n",
    "x, y = map(int, input().split())\n",
    "for i in range(x-1):    # x에 입력되는 달의 직전 달까지의 일수를 계산\n",
    "    day = day + date[i]\n",
    "day = (day + y) % 7\n",
    "print(weekday[day])"
   ]
  },
  {
   "cell_type": "markdown",
   "metadata": {
    "id": "iIqmmohXwIf6"
   },
   "source": [
    "# 입출력 8393"
   ]
  },
  {
   "cell_type": "markdown",
   "metadata": {
    "id": "-aX4t_NAwIf6"
   },
   "source": [
    "https://www.acmicpc.net/problem/8393"
   ]
  },
  {
   "cell_type": "code",
   "execution_count": null,
   "metadata": {
    "id": "i2Gxba2HwIf6",
    "outputId": "7a1d3b05-f847-4392-e696-6a0275cc5b21"
   },
   "outputs": [
    {
     "name": "stdout",
     "output_type": "stream",
     "text": [
      "3\n",
      "6\n"
     ]
    }
   ],
   "source": [
    "n = 0\n",
    "a = int(input())\n",
    "for i in range(1, a+1):\n",
    "    n += i\n",
    "print(n)"
   ]
  },
  {
   "cell_type": "markdown",
   "metadata": {
    "id": "1nQ0Jd4BwIf6"
   },
   "source": [
    "# 입출력 10818"
   ]
  },
  {
   "cell_type": "markdown",
   "metadata": {
    "id": "itHK2UL8wIf7"
   },
   "source": [
    "https://www.acmicpc.net/problem/10818"
   ]
  },
  {
   "cell_type": "code",
   "execution_count": null,
   "metadata": {
    "id": "ghaGc5DawIf7",
    "outputId": "ddaaa747-61b9-4f7c-8fa2-825e53afc7da"
   },
   "outputs": [
    {
     "name": "stdout",
     "output_type": "stream",
     "text": [
      "5\n",
      "20 10 35 30 7\n",
      "7 35\n"
     ]
    }
   ],
   "source": [
    "n = int(input())\n",
    "a = list(map(int, input().split()))\n",
    "print(min(a), max(a))"
   ]
  },
  {
   "cell_type": "markdown",
   "metadata": {
    "id": "3ItatxFowIf7"
   },
   "source": [
    "# 입출력 2438"
   ]
  },
  {
   "cell_type": "markdown",
   "metadata": {
    "id": "HZ3x9O8rwIf7"
   },
   "source": [
    "https://www.acmicpc.net/problem/2438"
   ]
  },
  {
   "cell_type": "code",
   "execution_count": null,
   "metadata": {
    "id": "21KLwpmXwIf7",
    "outputId": "a95c9d05-15a6-4274-c2b8-9b2af834715a"
   },
   "outputs": [
    {
     "name": "stdout",
     "output_type": "stream",
     "text": [
      "5\n",
      "*\n",
      "**\n",
      "***\n",
      "****\n",
      "*****\n"
     ]
    }
   ],
   "source": [
    "n = int(input())\n",
    "for i in range(1, n+1):\n",
    "    print('*'*i)"
   ]
  },
  {
   "cell_type": "markdown",
   "metadata": {
    "id": "kO_ybfpXwIf7"
   },
   "source": [
    "# 입출력 2439"
   ]
  },
  {
   "cell_type": "markdown",
   "metadata": {
    "id": "ar__8J8DwIf7"
   },
   "source": [
    "https://www.acmicpc.net/problem/2439"
   ]
  },
  {
   "cell_type": "code",
   "execution_count": null,
   "metadata": {
    "id": "R7WF6fFKwIf7",
    "outputId": "fd259755-3995-4814-ef9d-53b832a7be66"
   },
   "outputs": [
    {
     "name": "stdout",
     "output_type": "stream",
     "text": [
      "5\n",
      "    *\n",
      "   **\n",
      "  ***\n",
      " ****\n",
      "*****\n"
     ]
    }
   ],
   "source": [
    "n = int(input())\n",
    "for i in range(1, n+1):\n",
    "    print(' ' * (n-i), end='')  # 공백 띄어주기\n",
    "    print('*' * i)"
   ]
  },
  {
   "cell_type": "markdown",
   "metadata": {
    "id": "DbrzEkc-wIf8"
   },
   "source": [
    "# 입출력 2440"
   ]
  },
  {
   "cell_type": "markdown",
   "metadata": {
    "id": "v7rWo9A0wIf8"
   },
   "source": [
    "https://www.acmicpc.net/problem/2440"
   ]
  },
  {
   "cell_type": "code",
   "execution_count": null,
   "metadata": {
    "id": "XuNbwSVlwIf8",
    "outputId": "b8a6acc6-eab4-49b9-a366-be19ab6566ce"
   },
   "outputs": [
    {
     "name": "stdout",
     "output_type": "stream",
     "text": [
      "5\n",
      "*****\n",
      "****\n",
      "***\n",
      "**\n",
      "*\n"
     ]
    }
   ],
   "source": [
    "n = int(input())\n",
    "for i in range(n, 0, -1):\n",
    "    print('*' * i)"
   ]
  },
  {
   "cell_type": "markdown",
   "metadata": {
    "id": "DC9vOXqEwIf8"
   },
   "source": [
    "# 입출력 2441"
   ]
  },
  {
   "cell_type": "markdown",
   "metadata": {
    "id": "cWDG292OwIf8"
   },
   "source": [
    "https://www.acmicpc.net/problem/2441"
   ]
  },
  {
   "cell_type": "code",
   "execution_count": null,
   "metadata": {
    "id": "XUmq7nrpwIf8",
    "outputId": "6106cdc4-4765-48b1-c01f-91014241649b"
   },
   "outputs": [
    {
     "name": "stdout",
     "output_type": "stream",
     "text": [
      "5\n",
      "*****\n",
      " ****\n",
      "  ***\n",
      "   **\n",
      "    *\n"
     ]
    }
   ],
   "source": [
    "n = int(input())\n",
    "for i in range(n, 0, -1):\n",
    "    print(' ' * (n-i), end='')\n",
    "    print('*' * i)"
   ]
  },
  {
   "cell_type": "markdown",
   "metadata": {
    "id": "hnMonWl4wIf8"
   },
   "source": [
    "# 입출력 2442"
   ]
  },
  {
   "cell_type": "markdown",
   "metadata": {
    "id": "IVV5Xh4NwIf9"
   },
   "source": [
    "https://www.acmicpc.net/problem/2442"
   ]
  },
  {
   "cell_type": "code",
   "execution_count": null,
   "metadata": {
    "id": "uAegyuM8wIf9",
    "outputId": "e1e35f55-ddb2-4469-82a9-ce2ecdb52b69"
   },
   "outputs": [
    {
     "name": "stdout",
     "output_type": "stream",
     "text": [
      "10\n",
      "         *\n",
      "        ***\n",
      "       *****\n",
      "      *******\n",
      "     *********\n",
      "    ***********\n",
      "   *************\n",
      "  ***************\n",
      " *****************\n",
      "*******************\n"
     ]
    }
   ],
   "source": [
    "n = int(input())\n",
    "for i in range(1, n+1):\n",
    "    print(' ' * (n-i), end='')\n",
    "    print('*' * (2*i-1))"
   ]
  },
  {
   "cell_type": "markdown",
   "metadata": {
    "id": "CLDtOqA-wIf9"
   },
   "source": [
    "# 입출력 2445"
   ]
  },
  {
   "cell_type": "markdown",
   "metadata": {
    "id": "R3P6rLqxwIf9"
   },
   "source": [
    "https://www.acmicpc.net/problem/2445"
   ]
  },
  {
   "cell_type": "code",
   "execution_count": null,
   "metadata": {
    "id": "vG1zbtOrwIf9",
    "outputId": "0c01aa2a-47fd-49e6-853d-723f2df1105c"
   },
   "outputs": [
    {
     "name": "stdout",
     "output_type": "stream",
     "text": [
      "5\n",
      "*        *\n",
      "**      **\n",
      "***    ***\n",
      "****  ****\n",
      "**********\n",
      "****  ****\n",
      "***    ***\n",
      "**      **\n",
      "*        *\n"
     ]
    }
   ],
   "source": [
    "n = int(input()) \n",
    "for i in range(1, n+1):\n",
    "    print('*' * i, end='')\n",
    "    print(' ' * ((n*2)-(i*2)), end='')\n",
    "    print('*' * i)\n",
    "    \n",
    "for i in range(1,n):\n",
    "    print('*'*(n-i), end='')\n",
    "    print(' ' * (i*2), end='')\n",
    "    print('*' *(n-i))"
   ]
  },
  {
   "cell_type": "markdown",
   "metadata": {
    "id": "6my52mCnwIf9"
   },
   "source": [
    "# 입출력 2522"
   ]
  },
  {
   "cell_type": "markdown",
   "metadata": {
    "id": "efNx-1jQwIf9"
   },
   "source": [
    "https://www.acmicpc.net/problem/2522"
   ]
  },
  {
   "cell_type": "code",
   "execution_count": null,
   "metadata": {
    "id": "yi6DptiQwIf9",
    "outputId": "09ffd304-937f-4180-c882-9c5fa74fd8e3"
   },
   "outputs": [
    {
     "name": "stdout",
     "output_type": "stream",
     "text": [
      "5\n",
      "    *\n",
      "   **\n",
      "  ***\n",
      " ****\n",
      "*****\n",
      " ****\n",
      "  ***\n",
      "   **\n",
      "    *\n"
     ]
    }
   ],
   "source": [
    "n = int(input())\n",
    "\n",
    "for a in range(1, n+1):\n",
    "    print(('*' * a).rjust(n))\n",
    "for b in range(n-1, 0, -1):\n",
    "    print(('*' * b).rjust(n))"
   ]
  },
  {
   "cell_type": "markdown",
   "metadata": {
    "id": "XVqd6E_gwIf-"
   },
   "source": [
    "# 입출력 2446"
   ]
  },
  {
   "cell_type": "markdown",
   "metadata": {
    "id": "j4FgfovIwIf-"
   },
   "source": [
    "https://www.acmicpc.net/problem/2446"
   ]
  },
  {
   "cell_type": "code",
   "execution_count": null,
   "metadata": {
    "id": "J61hYzrXwIf-",
    "outputId": "f6b798f3-a193-49a4-f941-b307544d96e0"
   },
   "outputs": [
    {
     "name": "stdout",
     "output_type": "stream",
     "text": [
      "5\n",
      "*********\n",
      " *******\n",
      "  *****\n",
      "   ***\n",
      "    *\n",
      "   ***\n",
      "  *****\n",
      " *******\n",
      "*********\n"
     ]
    }
   ],
   "source": [
    "n = int(input())\n",
    "\n",
    "for a in range(n, 0, -1):\n",
    "    print(' ' * (n-a), '*' * (a*2-1), sep='')  \n",
    "for b in range(2, n+1):\n",
    "    print(' ' * (n-b), '*' * (b*2-1), sep='')"
   ]
  },
  {
   "cell_type": "markdown",
   "metadata": {
    "id": "6n7RhdG2wIf-"
   },
   "source": [
    "# 입출력 10991"
   ]
  },
  {
   "cell_type": "markdown",
   "metadata": {
    "id": "SMTv3zOQwIf-"
   },
   "source": [
    "https://www.acmicpc.net/problem/10991"
   ]
  },
  {
   "cell_type": "code",
   "execution_count": null,
   "metadata": {
    "id": "OT20Flb9wIf-",
    "outputId": "e8fa0ecd-0ab9-4244-9f9f-6a972023c400"
   },
   "outputs": [
    {
     "name": "stdout",
     "output_type": "stream",
     "text": [
      "3\n",
      "  *\n",
      " * *\n",
      "* * *\n"
     ]
    }
   ],
   "source": [
    "n = int(input())\n",
    "for a in range(1, n+1):\n",
    "    print(' ' * (n-a), end='')\n",
    "    for b in range(1, a):\n",
    "        print('* ', sep='', end='')\n",
    "    print('*')"
   ]
  },
  {
   "cell_type": "markdown",
   "metadata": {
    "id": "JnwKQLB_wIf-"
   },
   "source": [
    "# 입출력 10992"
   ]
  },
  {
   "cell_type": "markdown",
   "metadata": {
    "id": "f_UN_4XiwIf-"
   },
   "source": [
    "https://www.acmicpc.net/problem/10992"
   ]
  },
  {
   "cell_type": "code",
   "execution_count": null,
   "metadata": {
    "id": "7m0_t6KvwIf_",
    "outputId": "3532defe-0993-47a7-c711-7c6b6d9dac95"
   },
   "outputs": [
    {
     "name": "stdout",
     "output_type": "stream",
     "text": [
      "3\n",
      "  *\n",
      " * *\n",
      "*****\n"
     ]
    }
   ],
   "source": [
    "n = int(input())\n",
    "for a in range(1, n+1):\n",
    "    if a == 1 or a == n:\n",
    "        print(' ' * (n-a), '*' * (2*a-1), sep='')\n",
    "    else:\n",
    "        print(' ' * (n-a), '*', ' ' * ((a-1) * 2 -1), '*', sep='')"
   ]
  },
  {
   "cell_type": "markdown",
   "metadata": {
    "id": "JkvewHGjwIf_"
   },
   "source": [
    "# Stack 10828"
   ]
  },
  {
   "cell_type": "markdown",
   "metadata": {
    "id": "nexvSNpgwIf_"
   },
   "source": [
    "https://www.acmicpc.net/problem/10828"
   ]
  },
  {
   "cell_type": "markdown",
   "metadata": {
    "id": "lbKNNjUSwIf_"
   },
   "source": [
    "push X: 정수 X를 스택에 넣는 연산이다.<br>\n",
    "pop: 스택에서 가장 위에 있는 정수를 빼고, 그 수를 출력한다. 만약 스택에 들어있는 정수가 없는 경우에는 -1을 출력한다.<br>\n",
    "size: 스택에 들어있는 정수의 개수를 출력한다.<br>\n",
    "empty: 스택이 비어있으면 1, 아니면 0을 출력한다.<br>\n",
    "top: 스택의 가장 위에 있는 정수를 출력한다. 만약 스택에 들어있는 정수가 없는 경우에는 -1을 출력한다.<br><br>\n",
    "입력<br>\n",
    "첫째 줄에 주어지는 명령의 수 N (1 ≤ N ≤ 10,000)이 주어진다. 둘째 줄부터 N개의 줄에는 명령이 하나씩 주어진다. 주어지는 정수는 1보다 크거나 같고, 100,000보다 작거나 같다. 문제에 나와있지 않은 명령이 주어지는 경우는 없다."
   ]
  },
  {
   "cell_type": "code",
   "execution_count": null,
   "metadata": {
    "id": "qr-M_M2kwIf_"
   },
   "outputs": [],
   "source": [
    "ip = input()\n",
    "def command(stack, cmd):\n",
    "    cmd = "
   ]
  },
  {
   "cell_type": "code",
   "execution_count": null,
   "metadata": {
    "id": "_i2C5Uc0wIf_"
   },
   "outputs": [],
   "source": []
  },
  {
   "cell_type": "code",
   "execution_count": null,
   "metadata": {
    "id": "_wWZDrqIwIf_"
   },
   "outputs": [],
   "source": []
  },
  {
   "cell_type": "markdown",
   "metadata": {
    "id": "O275_okfwIf_"
   },
   "source": [
    "# 요세푸스 11866"
   ]
  },
  {
   "cell_type": "markdown",
   "metadata": {
    "id": "8_mVkhUwwIf_"
   },
   "source": [
    "https://www.acmicpc.net/problem/11866"
   ]
  },
  {
   "cell_type": "code",
   "execution_count": null,
   "metadata": {
    "id": "wBnB1-XqwIgA",
    "outputId": "1c203ec5-d744-4ce4-e6c3-1d6bb2752a56"
   },
   "outputs": [
    {
     "data": {
      "text/plain": [
       "'N = 7\\nK = 3\\n1 2 3 4 5 6 7  \\n2 3 4 5 6 7 1\\n4 5 6 7 1 2   - 맨 앞 제거 (3)\\n5 6 7 1 2 4\\n7 1 2 4 5   - 6 제거'"
      ]
     },
     "execution_count": 92,
     "metadata": {},
     "output_type": "execute_result"
    }
   ],
   "source": [
    "'''N = 7\n",
    "K = 3\n",
    "1 2 3 4 5 6 7  \n",
    "2 3 4 5 6 7 1\n",
    "4 5 6 7 1 2   - 맨 앞 제거 (3)\n",
    "5 6 7 1 2 4\n",
    "7 1 2 4 5   - 6 제거'''"
   ]
  },
  {
   "cell_type": "code",
   "execution_count": null,
   "metadata": {
    "id": "9cAtu_dowIgA",
    "outputId": "53fc6553-5dab-45cc-b871-9d78fd276b92"
   },
   "outputs": [
    {
     "name": "stdout",
     "output_type": "stream",
     "text": [
      "7 3\n",
      "<3, 6, 2, 7, 5, 1, 4>\n"
     ]
    }
   ],
   "source": [
    "def queue_push(q, value):\n",
    "    q.append(value)\n",
    "def queue_pop(q):\n",
    "    front = q.pop(0)\n",
    "    return front\n",
    "\n",
    "N, k = map(int, input().split())\n",
    "queue = []\n",
    "ans = []\n",
    "\n",
    "for i in range(1, N+1):\n",
    "    queue_push(queue, i)\n",
    "\n",
    "while len(queue) != 0:   \n",
    "    for i in range(k-1):  \n",
    "        front = queue_pop(queue)\n",
    "        queue_push(queue, front)    # for문 반복하고 그 다음 문장인 ans.append 실행, 그 이후 남은 queue로 다시 for문 시작\n",
    "    ans.append(queue_pop(queue))\n",
    "\n",
    "print('<' + ', '.join(map(str, ans)) + '>', sep='')"
   ]
  },
  {
   "cell_type": "code",
   "execution_count": null,
   "metadata": {
    "id": "AwzvFKKEwIgA"
   },
   "outputs": [],
   "source": []
  },
  {
   "cell_type": "markdown",
   "metadata": {
    "id": "3PFcmJgNwIgA"
   },
   "source": [
    "# Bronze 4 - 10039"
   ]
  },
  {
   "cell_type": "code",
   "execution_count": null,
   "metadata": {
    "id": "9blbxTJOwIgA"
   },
   "outputs": [],
   "source": [
    "from tqdm import tqdm"
   ]
  },
  {
   "cell_type": "code",
   "execution_count": null,
   "metadata": {
    "id": "DpYx8N50wIgA",
    "outputId": "acac206e-9a4f-48f1-9d24-dacef161e15e"
   },
   "outputs": [
    {
     "name": "stdout",
     "output_type": "stream",
     "text": [
      "10\n",
      "65\n",
      "40\n",
      "90\n",
      "100\n",
      "67\n"
     ]
    }
   ],
   "source": [
    "def mean(value : list):\n",
    "    j = 0\n",
    "    for i in value:\n",
    "        j += i\n",
    "    result = j // len(value)\n",
    "    return result\n",
    "\n",
    "grade = []\n",
    "for i in range(5):\n",
    "    a = int(input())\n",
    "    if a < 40:\n",
    "        grade.append(40)\n",
    "    else:\n",
    "        grade.append(a)\n",
    "        \n",
    "print(mean(grade))  "
   ]
  },
  {
   "cell_type": "markdown",
   "metadata": {
    "id": "dAWM7NRZwIgA"
   },
   "source": [
    "# Bronze 3 - 2965"
   ]
  },
  {
   "cell_type": "markdown",
   "metadata": {
    "id": "kF1j9cSBwIgB"
   },
   "source": [
    "좌표 간 차이가 적은 쪽이 차이가 큰 쪽으로 이동하는 게 이동횟수를 늘릴 수 있는 방법"
   ]
  },
  {
   "cell_type": "markdown",
   "metadata": {
    "id": "EBcILG5XwIgB"
   },
   "source": [
    "### 1번째 코드"
   ]
  },
  {
   "cell_type": "code",
   "execution_count": null,
   "metadata": {
    "id": "sjTqN_n0wIgB",
    "outputId": "39affcad-9067-43db-e984-d6c5b70448d7",
    "scrolled": true
   },
   "outputs": [
    {
     "name": "stdout",
     "output_type": "stream",
     "text": [
      "3 5 9\n",
      "[5, 6, 9]\n",
      "[6, 7, 9]\n",
      "[7, 8, 9]\n",
      "3\n"
     ]
    }
   ],
   "source": [
    "# (1) 만약 B-A가 C-B보다 작으면, A가 B와 C사이로 이동 | 만약 C-B가 B-A보다 작으면, C가 A와 B사이로 이동\n",
    "# (2) B와 C의 외곽으로 이동해야 하므로, B+1 혹은 C-1로 이동\n",
    "# (3) B, B+1, C 중 차이가 작은 쪽의 외곽 좌표에 있는 캥거루가 차이 큰 좌표 쪽으로 이동\n",
    "# 이 과정을 계속 반복하다가 좌표 끼리의 차이가 같아지면 while문 종료\n",
    "\n",
    "'''고려사항: 두 간격이 같으면 둘 중 하나 선택해서 진행\n",
    "(1) 두 간격 다른 경우\n",
    "(2) 두 간격 같은 경우\n",
    "(3) 반복문 중지 조건 : 두 간격이 모두 1이면 종료\n",
    "(4) 세 숫자 모두 같아서는 안됨\n",
    "'''\n",
    "A, B, C = map(int, input().split())\n",
    "stack = [A, B, C]\n",
    "cnt = 0\n",
    "\n",
    "'''\n",
    "3 5 9\n",
    "5 6 9\n",
    "6 7 9\n",
    "7 8 9\n",
    "'''\n",
    "while 1:\n",
    "    left = stack[1]-stack[0]\n",
    "    right = stack[2]-stack[1]\n",
    "    if left != right:\n",
    "        if (left == 1) and (right == 1):\n",
    "                break\n",
    "        else:\n",
    "            cnt += 1\n",
    "            if left < right:\n",
    "                stack[0] = stack[1] + 1\n",
    "                stack.sort()\n",
    "                print(stack)\n",
    "            elif right < left:\n",
    "                stack[2] = stack[0] + 1\n",
    "                stack.sort()\n",
    "                print(stack)\n",
    "    else:   # 7 8 9\n",
    "        if (left == 1) and (right == 1):\n",
    "                break\n",
    "        else:\n",
    "            cnt += 1\n",
    "            stack[0] = stack[1] + 1\n",
    "            stack.sort()\n",
    "            print(stack)\n",
    "        \n",
    "print(cnt)"
   ]
  },
  {
   "cell_type": "code",
   "execution_count": null,
   "metadata": {
    "id": "9SJhYf1IwIgB"
   },
   "outputs": [],
   "source": [
    "# A, B, C = map(int, input().split())\n",
    "# stack = [A, B, C]\n",
    "# cnt = 0\n",
    "# left = stack[1]-stack[0]\n",
    "# right = stack[2]-stack[1]\n",
    "\n",
    "# while 1:\n",
    "#     if left and right == 1:\n",
    "#         print('break')\n",
    "#         break\n",
    "#     else:\n",
    "#         print('keep going')"
   ]
  },
  {
   "cell_type": "markdown",
   "metadata": {
    "id": "7yHDyQu3wIgB"
   },
   "source": [
    "### 2번째 코드"
   ]
  },
  {
   "cell_type": "code",
   "execution_count": null,
   "metadata": {
    "id": "WnPOXmKnwIgB",
    "outputId": "128e2207-61c2-4df2-829a-3303c5b56b09"
   },
   "outputs": [
    {
     "name": "stdout",
     "output_type": "stream",
     "text": [
      "3 5 9\n",
      "[5, 6, 9]\n",
      "[6, 7, 9]\n",
      "[7, 8, 9]\n",
      "3\n"
     ]
    }
   ],
   "source": [
    "A, B, C = map(int, input().split())\n",
    "stack = [A, B, C]\n",
    "cnt = 0\n",
    "\n",
    "while 1:\n",
    "    left = stack[1]-stack[0]\n",
    "    right = stack[2]-stack[1]\n",
    "    if left == 1 and right == 1:\n",
    "        break\n",
    "    if left < right:\n",
    "        cnt += 1\n",
    "        stack[0] = stack[1] + 1\n",
    "        stack.sort()\n",
    "        print(stack)\n",
    "    else:\n",
    "        cnt += 1\n",
    "        stack[2] = stack[0] + 1\n",
    "        stack.sort()\n",
    "        print(stack)\n",
    "        \n",
    "print(cnt)"
   ]
  },
  {
   "cell_type": "markdown",
   "metadata": {
    "id": "5lm1NgguwIgC"
   },
   "source": [
    "### 구글링해서 찾은 코드"
   ]
  },
  {
   "cell_type": "code",
   "execution_count": null,
   "metadata": {
    "id": "iwzNY4-YwIgC",
    "outputId": "90386646-b064-41b3-a66f-c77ecb14e1da"
   },
   "outputs": [
    {
     "name": "stdout",
     "output_type": "stream",
     "text": [
      "3 5 9\n",
      "3\n"
     ]
    }
   ],
   "source": [
    "'''A와 B 사이와 B와 C 사이의 길이를 비교한 후 큰 쪽 길이를 반환\n",
    "즉, 한칸씩 뛰기만 하면 된다.'''\n",
    "A, B, C = map(int, input().split())\n",
    "print(max(B-A, C-B) - 1)"
   ]
  },
  {
   "cell_type": "markdown",
   "metadata": {
    "id": "-1IM3f8XwIgC"
   },
   "source": [
    "# bronze5 카드게임 - 5522"
   ]
  },
  {
   "cell_type": "code",
   "execution_count": null,
   "metadata": {
    "id": "z3xEq-q-wIgC",
    "outputId": "d6ff032b-297b-4fcf-e4dc-b613bc47e8c0"
   },
   "outputs": [
    {
     "name": "stdout",
     "output_type": "stream",
     "text": [
      "1\n",
      "1\n",
      "1\n",
      "1\n",
      "1\n",
      "5\n"
     ]
    }
   ],
   "source": [
    "ans = 0\n",
    "for _ in range(5):\n",
    "    ans += int(input())\n",
    "print(ans)"
   ]
  },
  {
   "cell_type": "markdown",
   "metadata": {
    "id": "IIqTK_d4wIgC"
   },
   "source": [
    "# bronze2 노래악보 - 1392"
   ]
  },
  {
   "cell_type": "code",
   "execution_count": null,
   "metadata": {
    "id": "xKSyF3u4wIgC",
    "outputId": "a2371e8a-67f0-4793-aa16-c927c29e3f0a"
   },
   "outputs": [
    {
     "name": "stdout",
     "output_type": "stream",
     "text": [
      "2 3\n"
     ]
    }
   ],
   "source": [
    "N, Q = map(int, input().split())\n"
   ]
  },
  {
   "cell_type": "markdown",
   "metadata": {
    "id": "ffZRyLPCwIgC"
   },
   "source": [
    "# bronze4 두 수 비교하기 - 1330"
   ]
  },
  {
   "cell_type": "code",
   "execution_count": null,
   "metadata": {
    "id": "dPigCpmiwIgD",
    "outputId": "20e673aa-e548-4f7b-84b1-8ca1c541ce3c"
   },
   "outputs": [
    {
     "name": "stdout",
     "output_type": "stream",
     "text": [
      "1 2\n",
      "<\n"
     ]
    }
   ],
   "source": [
    "a, b = map(int, input().split())\n",
    "if a > b:\n",
    "    print('>')\n",
    "elif a < b:\n",
    "    print('<')\n",
    "elif a == b:\n",
    "    print('==')"
   ]
  },
  {
   "cell_type": "markdown",
   "metadata": {
    "id": "9qNsTrmgwIgD"
   },
   "source": [
    "# bronze4 시험성적 - 9498"
   ]
  },
  {
   "cell_type": "code",
   "execution_count": null,
   "metadata": {
    "id": "O_sWg6w5wIgD",
    "outputId": "6b9b9cd7-0741-4d8f-b730-6bf36aace733"
   },
   "outputs": [
    {
     "name": "stdout",
     "output_type": "stream",
     "text": [
      "50\n",
      "F\n"
     ]
    }
   ],
   "source": [
    "a = int(input())\n",
    "\n",
    "if a >= 90 and a <= 100:\n",
    "    print('A')\n",
    "elif a >= 80 and a <= 89:\n",
    "    print('B')\n",
    "elif a >= 70 and a <= 79:\n",
    "    print('C')\n",
    "elif a >= 60 and a <= 69:\n",
    "    print('D')\n",
    "else:\n",
    "    print('F')"
   ]
  },
  {
   "cell_type": "markdown",
   "metadata": {
    "id": "ukbWfYsowIgD"
   },
   "source": [
    "# bronze3 2의 제곱인가? - 11966"
   ]
  },
  {
   "cell_type": "code",
   "execution_count": null,
   "metadata": {
    "id": "IRN4-DMwwIgD",
    "outputId": "e4783bee-f8fa-4186-8fe4-a795f31ea5d9"
   },
   "outputs": [
    {
     "name": "stdout",
     "output_type": "stream",
     "text": [
      "6\n",
      "0\n"
     ]
    }
   ],
   "source": [
    "n = int(input())\n",
    "a = -1\n",
    "\n",
    "while 1:\n",
    "    a += 1\n",
    "    if n >= (2 ** a):\n",
    "        if n == (2 ** a):\n",
    "            print(1)\n",
    "            break\n",
    "    else:\n",
    "        print(0)\n",
    "        break"
   ]
  },
  {
   "cell_type": "code",
   "execution_count": null,
   "metadata": {
    "id": "--UqnEvuwIgD"
   },
   "outputs": [],
   "source": [
    "print(1 if int(input()) in [2 ** i for i in range(31)] else 0)"
   ]
  },
  {
   "cell_type": "markdown",
   "metadata": {
    "id": "GyBFLjsywIgD"
   },
   "source": [
    "# bronze4 나머지  - 10430"
   ]
  },
  {
   "cell_type": "code",
   "execution_count": null,
   "metadata": {
    "id": "gTIeFXoxwIgD",
    "outputId": "d14f8a36-415c-4b55-b511-5b23b6131bae"
   },
   "outputs": [
    {
     "name": "stdout",
     "output_type": "stream",
     "text": [
      "5 8 4\n",
      "1\n",
      "1\n",
      "0\n",
      "0\n"
     ]
    }
   ],
   "source": [
    "a, b, c = map(int,input().split())\n",
    "print((a+b)%c)\n",
    "print(((a%c)+(b%c))%c)\n",
    "print((a*b)%c)\n",
    "print(((a%c) * (b%c))%c)"
   ]
  },
  {
   "cell_type": "markdown",
   "metadata": {
    "id": "yqK28NpywIgE"
   },
   "source": [
    "# 실버5 최대공약수와 최소공배수 - 2609"
   ]
  },
  {
   "cell_type": "markdown",
   "metadata": {
    "id": "0OQjz4mWwIgE"
   },
   "source": [
    "**최대공약수** <br>\n",
    "1) 유클리드(Euclidean) 공식 이용 <br>\n",
    "\n",
    "  - 큰 수 A를 작은 수 B로 나누어 떨어지면, A, B의 최대공약수는 B<br>\n",
    "\n",
    "  - A를 B로 나누었을 때 나머지가 R이면, A, B의 최대공약수는 R과 B의 최대공약수와 같다.<br>\n",
    "\n",
    "    GCM(A,B) = GCM(B,R) / ex) GCM(15,12) = GCM(12,3)<br><br>\n",
    "\n",
    "\n",
    "\n",
    "  유클리드 공식 이용 알고리즘 순서<br>\n",
    "\n",
    "  a. 두 수 A, B 중 큰 수, 작은 수를 판별한다.<br>\n",
    "\n",
    "  b. 큰 수를 작은 수로 나누어 나머지를 구한다.<br>\n",
    "\n",
    "    - if 나머지가 0 : 작은 수가 최대공약수<br>\n",
    "\n",
    "    - if 나머지가 0이 아니면 : 나누기 반복\n",
    "    \n",
    "<br><br><br>\n",
    "**최소공배수** <br>\n",
    "A * B / 최대공약수"
   ]
  },
  {
   "cell_type": "code",
   "execution_count": null,
   "metadata": {
    "id": "3KWdhohQwIgE",
    "outputId": "8b489650-346a-4a5b-e98f-09962a8af3cf"
   },
   "outputs": [
    {
     "data": {
      "text/plain": [
       "\"\\na, b = map(int, input().split())\\n\\nif a >= b:\\n    if (a % b) == 0:\\n        gcd = b\\n        lcm = a\\n    elif b == 1:\\n        gcd = 1\\n        lcm = a\\n    else:\\n        if (a % b) != 0:\\n            x = a % b\\n            y = a // x\\n            z = b // x\\n            gcd = x\\n            lcm = x*y*z\\nelse:  # b가 a보다 큰 경우\\n    a, b = b, a\\n    if (a % b) == 0:\\n        gcd = b\\n        lcm = a\\n    elif (a % b) != 0:\\n        x = a % b\\n        y = a // x\\n        z = b // x\\n        gcd = x\\n        lcm = x * y * z\\n    elif b == 1:\\n        gcd = 1\\n        lcm = a\\nprint(gcd, lcm, sep='\\n')  \\n\""
      ]
     },
     "execution_count": 27,
     "metadata": {},
     "output_type": "execute_result"
    }
   ],
   "source": [
    "# 내 코드 (실패)\n",
    "# gcd 최대공약수, lcm 최소공배수\n",
    "'''\n",
    "a, b = map(int, input().split())\n",
    "\n",
    "if a >= b:\n",
    "    if (a % b) == 0:\n",
    "        gcd = b\n",
    "        lcm = a\n",
    "    elif b == 1:\n",
    "        gcd = 1\n",
    "        lcm = a\n",
    "    else:\n",
    "        if (a % b) != 0:\n",
    "            x = a % b\n",
    "            y = a // x\n",
    "            z = b // x\n",
    "            gcd = x\n",
    "            lcm = x*y*z\n",
    "else:  # b가 a보다 큰 경우\n",
    "    a, b = b, a\n",
    "    if (a % b) == 0:\n",
    "        gcd = b\n",
    "        lcm = a\n",
    "    elif (a % b) != 0:\n",
    "        x = a % b\n",
    "        y = a // x\n",
    "        z = b // x\n",
    "        gcd = x\n",
    "        lcm = x * y * z\n",
    "    elif b == 1:\n",
    "        gcd = 1\n",
    "        lcm = a\n",
    "print(gcd, lcm, sep='\\n')  \n",
    "'''"
   ]
  },
  {
   "cell_type": "markdown",
   "metadata": {
    "id": "GHTbwmNrwIgE"
   },
   "source": [
    "최대공약수 <br>\n",
    "1) 큰 수를 작은 수로 나누어 구한 나머지를 큰 수로 대체 <br>\n",
    "2) 큰 수를 작은 수로 계속 나누고, 나머지가 0이 될 때까지 반복 <br>\n",
    "3) 나누는 수가 최대공약수 <br><br>\n",
    "최소공배수<br>\n",
    "1) 큰 수 * 작은 수 / 최대공약수"
   ]
  },
  {
   "cell_type": "code",
   "execution_count": null,
   "metadata": {
    "id": "pNhs0yuEwIgE",
    "outputId": "ad745032-b2a0-4c5c-eede-ee4eafedfeb9"
   },
   "outputs": [
    {
     "name": "stdout",
     "output_type": "stream",
     "text": [
      "11 7\n",
      "1\n",
      "77\n"
     ]
    }
   ],
   "source": [
    "# a = 큰 수, b = 작은 수\n",
    "A, B = map(int, input().split())\n",
    "a, b = A, B\n",
    "\n",
    "if B > A:\n",
    "    A, B = B, A\n",
    "    a, b = b, a\n",
    "\n",
    "while b != 0:    # b가 0이 아니면 while문 반복\n",
    "    a = a % b\n",
    "    if b > a:\n",
    "        a, b = b, a\n",
    "\n",
    "gcd = a\n",
    "lcm = int(A * B / gcd)\n",
    "print(gcd, lcm, sep='\\n')"
   ]
  },
  {
   "cell_type": "markdown",
   "metadata": {
    "id": "eEkrMgyWwIgF"
   },
   "source": [
    "# 실버3 1, 2, 3 더하기 - 9095"
   ]
  },
  {
   "cell_type": "markdown",
   "metadata": {
    "id": "mfxHOmMbwIgF"
   },
   "source": [
    "점화식<br>\n",
    "f(n) = f(n-1) + f(n-2) + f(n-3)  (n>3)"
   ]
  },
  {
   "cell_type": "markdown",
   "metadata": {
    "id": "_6CaGrLCwIgF"
   },
   "source": [
    "f(1) = 1 <br>\n",
    "f(2) = 2 <br>\n",
    "f(3) = 4 <br>\n",
    "f(4) = 7 <br>\n",
    "f(5) = 13 <br>\n",
    "f(6) = 24"
   ]
  },
  {
   "cell_type": "code",
   "execution_count": null,
   "metadata": {
    "id": "CguHikQ8wIgH",
    "outputId": "00ec3af9-2aa1-4809-829c-f4594829aeb3"
   },
   "outputs": [
    {
     "name": "stdout",
     "output_type": "stream",
     "text": [
      "3\n",
      "4\n",
      "7\n",
      "10\n",
      "7\n",
      "44\n",
      "274\n"
     ]
    }
   ],
   "source": [
    "T = int(input())\n",
    "T_list = []\n",
    "dp = [1, 2, 4]\n",
    "\n",
    "for i in range(T):\n",
    "    T_list.append(int(input()))\n",
    "\n",
    "for i in range(3, max(T_list)):\n",
    "    dp.append(dp[i-1] + dp[i-2] + dp[i-3])\n",
    "    \n",
    "for i in T_list:\n",
    "    print(dp[i-1])"
   ]
  },
  {
   "cell_type": "markdown",
   "metadata": {
    "id": "mRPpy95twIgH"
   },
   "source": [
    "# 브론즈2 일곱 난쟁이 - 2309"
   ]
  },
  {
   "cell_type": "markdown",
   "metadata": {
    "id": "dpDoWiQUwIgH"
   },
   "source": [
    "브루트포스 : 모든 경우를 직접 다 해본다"
   ]
  },
  {
   "cell_type": "markdown",
   "metadata": {
    "id": "lH3kfpQ9wIgH"
   },
   "source": [
    "random 모듈 사용했을 경우의 코드(직접 짠 코드) <br>\n",
    "--> 그러나. random 모듈은 백준에서 사용할 수 없다."
   ]
  },
  {
   "cell_type": "code",
   "execution_count": null,
   "metadata": {
    "id": "4ACpRHarwIgH",
    "outputId": "9ba4a20b-1cd8-4024-97d1-fbd4e4c7e7d3"
   },
   "outputs": [
    {
     "name": "stdout",
     "output_type": "stream",
     "text": [
      "20\n",
      "7\n",
      "23\n",
      "19\n",
      "10\n",
      "15\n",
      "25\n",
      "8\n",
      "13\n",
      "[10, 7, 8, 20, 23, 13, 19]\n"
     ]
    }
   ],
   "source": [
    "import random\n",
    "\n",
    "li = []\n",
    "def save_height():\n",
    "    for _ in range(9):\n",
    "        height = int(input())\n",
    "        li.append(height)\n",
    "    return li\n",
    "\n",
    "save_height()\n",
    "\n",
    "while 1:\n",
    "    nanz = random.sample(li, 7)\n",
    "    if sum(nanz) == 100:\n",
    "        print(nanz)\n",
    "        break\n",
    "    else:\n",
    "        continue\n",
    "    "
   ]
  },
  {
   "cell_type": "code",
   "execution_count": null,
   "metadata": {
    "id": "wHbwlRsDwIgH",
    "outputId": "9e9e5a6a-6f0b-4255-ec47-eb4eca7fda82"
   },
   "outputs": [
    {
     "name": "stdout",
     "output_type": "stream",
     "text": [
      "20\n",
      "7\n",
      "23\n",
      "19\n",
      "10\n",
      "15\n",
      "25\n",
      "8\n",
      "13\n",
      "7\n",
      "8\n",
      "10\n",
      "13\n",
      "19\n",
      "20\n",
      "23\n"
     ]
    }
   ],
   "source": [
    "li = []\n",
    "# a = 0\n",
    "# b = 0\n",
    "def save_height():\n",
    "    for _ in range(9):\n",
    "        height = int(input())\n",
    "        li.append(height)\n",
    "    return li\n",
    "\n",
    "height = save_height()\n",
    "for i in range(8):\n",
    "    for j in range(i + 1, 9):\n",
    "        if sum(height) - (height[i] + height[j]) == 100:\n",
    "            a = height[i]\n",
    "            b = height[j]\n",
    "            break\n",
    "\n",
    "height.remove(a)\n",
    "height.remove(b)\n",
    "height.sort()\n",
    "for i in height:\n",
    "    print(i)"
   ]
  },
  {
   "cell_type": "markdown",
   "metadata": {
    "id": "uCRZHWZ3wIgI"
   },
   "source": [
    "# 브론즈1 단어 뒤집기 - 9093"
   ]
  },
  {
   "cell_type": "code",
   "execution_count": null,
   "metadata": {
    "id": "8I3VJn1twIgI",
    "outputId": "bc09d960-c0e2-4d2b-c37e-65069ed58c2c"
   },
   "outputs": [
    {
     "name": "stdout",
     "output_type": "stream",
     "text": [
      "1\n",
      "i am happy\n",
      "i ma yppah "
     ]
    }
   ],
   "source": [
    "for _ in range(int(input())):\n",
    "    for i in input().split():\n",
    "        print(i[::-1], end=' ')"
   ]
  },
  {
   "cell_type": "markdown",
   "metadata": {
    "id": "wEBxgdGPwIgI"
   },
   "source": [
    "# 실버5 집합 - 11723"
   ]
  },
  {
   "cell_type": "markdown",
   "metadata": {
    "id": "iCAO1_zywIgI"
   },
   "source": [
    "## class의 self 잘 알아두기 <br>\n",
    "https://wikidocs.net/28"
   ]
  },
  {
   "cell_type": "markdown",
   "metadata": {
    "id": "QJZ9yKn2wIgI"
   },
   "source": [
    "### 직접 짠 코드 (제대로 작동은 하지만 시간 초과)"
   ]
  },
  {
   "cell_type": "code",
   "execution_count": null,
   "metadata": {
    "id": "NPFVTM4GwIgI",
    "outputId": "9e9de06d-0eb8-4940-914a-baa614b0fbb8"
   },
   "outputs": [
    {
     "name": "stdout",
     "output_type": "stream",
     "text": [
      "26\n",
      "add 1\n",
      "add 2\n",
      "check 1\n",
      "1\n",
      "check 2\n",
      "1\n",
      "check 3\n",
      "0\n",
      "remove 2\n",
      "check 1\n",
      "1\n",
      "check 2\n",
      "0\n",
      "toggle 3\n",
      "check 1\n",
      "1\n",
      "check 2\n",
      "0\n",
      "check 3\n",
      "1\n",
      "check 4\n",
      "0\n",
      "all\n",
      "check 10\n",
      "1\n",
      "check 20\n",
      "1\n",
      "toggle 10\n",
      "remove 20\n",
      "check 10\n",
      "0\n",
      "check 20\n",
      "0\n",
      "empty\n",
      "check 1\n",
      "0\n",
      "toggle 1\n",
      "check 1\n",
      "1\n",
      "toggle 1\n",
      "check 1\n",
      "0\n"
     ]
    }
   ],
   "source": [
    "M = int(input())\n",
    "S = set()\n",
    "\n",
    "class cal:\n",
    "    def add(self, num):\n",
    "        self.num = num  # 주의!\n",
    "        global S\n",
    "        S.add(self.num)\n",
    "        \n",
    "    def remove(self, num):\n",
    "        self.num = num\n",
    "        global S\n",
    "        if self.num in S:\n",
    "            S.remove(self.num)\n",
    "        else:\n",
    "            S = S\n",
    "            \n",
    "    def check(self, num):\n",
    "        self.num = num\n",
    "        global S\n",
    "        if self.num in S:\n",
    "            print(1)\n",
    "        else:\n",
    "            print(0)\n",
    "            \n",
    "    def toggle(self, num):\n",
    "        self.num = num\n",
    "        global S\n",
    "        if self.num in S:\n",
    "            S.remove(self.num)\n",
    "        else:\n",
    "            S.add(self.num)\n",
    "    \n",
    "    def all_func(self):  # 제대로 작동 안하는 중\n",
    "        global S\n",
    "        S = set([x for x in range(1, 21)])\n",
    "            \n",
    "    def empty(self):  # 제대로 작동 안함\n",
    "        global S\n",
    "        S = set()\n",
    "\n",
    "cal = cal()\n",
    "        \n",
    "for _ in range(M):\n",
    "    tmp = input().strip().split()\n",
    "    if len(tmp) == 1:\n",
    "        if tmp[0] == \"all\":\n",
    "            cal.all_func()\n",
    "        elif tmp[0] == \"empty\":\n",
    "            cal.empty()\n",
    "    else:\n",
    "        func, n = tmp[0], tmp[1]\n",
    "        n = int(n)\n",
    "        if func == \"add\":\n",
    "            cal.add(n)\n",
    "        elif func == \"remove\":\n",
    "            cal.remove(n)\n",
    "        elif func == \"check\":\n",
    "            cal.check(n)\n",
    "        elif func == \"toggle\":\n",
    "            cal.toggle(n)"
   ]
  },
  {
   "cell_type": "markdown",
   "metadata": {
    "id": "TeQsXdugwIgI"
   },
   "source": [
    "### 아래 코드도 시간 초과 --> sys 활용해서 다시 제출"
   ]
  },
  {
   "cell_type": "code",
   "execution_count": null,
   "metadata": {
    "id": "sJxAvzO0wIgI",
    "outputId": "cb99059f-5587-4767-9ff4-be8b724aae52"
   },
   "outputs": [
    {
     "name": "stdout",
     "output_type": "stream",
     "text": [
      "5\n",
      "add 1\n",
      "add 2\n",
      "add 3\n",
      "add 4\n",
      "all\n"
     ]
    }
   ],
   "source": [
    "M = int(input())\n",
    "S = set()\n",
    "\n",
    "for _ in range(M):\n",
    "    tmp = input().strip().split()\n",
    "    if len(tmp) == 1:\n",
    "        if tmp[0] == \"all\":\n",
    "            S = set([x for x in range(1, 21)])\n",
    "        elif tmp[0] == \"empty\":\n",
    "            S = set()\n",
    "    else:\n",
    "        func, n = tmp[0], tmp[1]\n",
    "        n = int(n)\n",
    "        if func == \"add\":\n",
    "            S.add(n)\n",
    "        elif func == \"remove\":\n",
    "            if n in S:\n",
    "                S.remove(n)\n",
    "            else: \n",
    "                S = S\n",
    "        elif func == \"check\":\n",
    "            print(1 if n in S else 0)\n",
    "        elif func == \"toggle\":\n",
    "            if n in S:\n",
    "                S.remove(n)\n",
    "            else: \n",
    "                S.add(n)"
   ]
  },
  {
   "cell_type": "code",
   "execution_count": null,
   "metadata": {
    "id": "zfeVxsaPwIgJ"
   },
   "outputs": [],
   "source": [
    "# import sys\n",
    "# M = int(sys.stdin.readline())\n",
    "# S = set()\n",
    "\n",
    "# for _ in range(M):\n",
    "#     tmp = sys.stdin.readline().strip().split()\n",
    "#     if len(tmp) == 1:\n",
    "#         if tmp[0] == \"all\":\n",
    "#             S = set([x for x in range(1, 21)])\n",
    "#         elif tmp[0] == \"empty\":\n",
    "#             S = set()\n",
    "#     else:\n",
    "#         func, n = tmp[0], tmp[1]\n",
    "#         n = int(n)\n",
    "#         if func == \"add\":\n",
    "#             S.add(n)\n",
    "#         elif func == \"remove\":\n",
    "#             if n in S:\n",
    "#                 S.remove(n)\n",
    "#             else: \n",
    "#                 S = S\n",
    "#         elif func == \"check\":\n",
    "#             print(1 if n in S else 0)\n",
    "#         elif func == \"toggle\":\n",
    "#             if n in S:\n",
    "#                 S.remove(n)\n",
    "#             else: \n",
    "#                 S.add(n)"
   ]
  },
  {
   "cell_type": "markdown",
   "metadata": {
    "id": "PXThzTErwIgJ"
   },
   "source": [
    "# 실버5 3의 배수"
   ]
  },
  {
   "cell_type": "markdown",
   "metadata": {
    "id": "9JQZiiltwIgK"
   },
   "source": [
    "* sys.stdin.readline : https://velog.io/@yeseolee/Python-%ED%8C%8C%EC%9D%B4%EC%8D%AC-%EC%9E%85%EB%A0%A5-%EC%A0%95%EB%A6%ACsys.stdin.readline"
   ]
  },
  {
   "cell_type": "code",
   "execution_count": null,
   "metadata": {
    "id": "au0jDq5QwIgK"
   },
   "outputs": [],
   "source": [
    "# import sys\n",
    "# X = list(map(int, sys.stdin.readline()))\n",
    "# # A, B = list(map(int, sys.stdin.readline().split()))\n",
    "# # print(A + B)"
   ]
  },
  {
   "cell_type": "code",
   "execution_count": null,
   "metadata": {
    "id": "7u3R2JPfwIgK"
   },
   "outputs": [],
   "source": [
    "X = input()\n",
    "# Y가 한 자리수가 될 때까지 몇 번?\n",
    "# Y는 3의 배수인가?\n",
    "li = \",\".join(list(X))\n",
    "\n"
   ]
  },
  {
   "cell_type": "code",
   "execution_count": null,
   "metadata": {
    "id": "PMgNWtiFwIgK",
    "outputId": "d2849251-2009-4b97-d977-a17ab54c8293"
   },
   "outputs": [
    {
     "data": {
      "text/plain": [
       "'1234567'"
      ]
     },
     "execution_count": 37,
     "metadata": {},
     "output_type": "execute_result"
    }
   ],
   "source": [
    "X"
   ]
  },
  {
   "cell_type": "code",
   "execution_count": null,
   "metadata": {
    "id": "5kkYJoMlwIgK",
    "outputId": "71e4eead-4949-4594-ec15-7988606f5953"
   },
   "outputs": [
    {
     "data": {
      "text/plain": [
       "'1,2,3,4,5,6,7'"
      ]
     },
     "execution_count": 44,
     "metadata": {},
     "output_type": "execute_result"
    }
   ],
   "source": [
    "li = \",\".join(list(X))\n",
    "li"
   ]
  },
  {
   "cell_type": "code",
   "execution_count": null,
   "metadata": {
    "id": "aTsN1UN8wIgL",
    "outputId": "04a2d05d-a2e6-4e3b-83fb-4848f16e70e9"
   },
   "outputs": [
    {
     "data": {
      "text/plain": [
       "28"
      ]
     },
     "execution_count": 48,
     "metadata": {},
     "output_type": "execute_result"
    }
   ],
   "source": [
    "y = sum(list(map(int, li.split(','))))\n",
    "y"
   ]
  },
  {
   "cell_type": "code",
   "execution_count": null,
   "metadata": {
    "id": "SYjXWVk0wIgL",
    "outputId": "b41ebe25-f7c8-46eb-d47d-494b8e2896b0",
    "scrolled": true
   },
   "outputs": [
    {
     "name": "stdout",
     "output_type": "stream",
     "text": [
      "3\n",
      "NO\n"
     ]
    }
   ],
   "source": [
    "X = input()\n",
    "n = 0\n",
    "Y = X\n",
    "\n",
    "while 1:\n",
    "    n += 1\n",
    "    s = ','.join(list(Y))\n",
    "    Y = str(sum(list(map(int, s.split(',')))))\n",
    "    \n",
    "    try:\n",
    "        if len(X) <= 1000000:\n",
    "            if len(Y) == 1:\n",
    "                if int(Y) % 3 == 0:\n",
    "                    if int(Y) == 0:\n",
    "                        print(n)\n",
    "                        print('NO')\n",
    "                    else:\n",
    "                        print(n)\n",
    "                        print('YES')\n",
    "                else:\n",
    "                    print(n)\n",
    "                    print('NO')\n",
    "                break\n",
    "            else:\n",
    "                continue\n",
    "    except:\n",
    "        break\n"
   ]
  },
  {
   "cell_type": "markdown",
   "metadata": {
    "id": "5RfhrevowIgL"
   },
   "source": [
    "# 2021.11.21 다시 시작"
   ]
  },
  {
   "cell_type": "markdown",
   "metadata": {
    "id": "lGdqT3lVwIgL"
   },
   "source": [
    "# 문자열 처리 10808(bronze 2)"
   ]
  },
  {
   "cell_type": "code",
   "execution_count": null,
   "metadata": {
    "id": "mbR81kpzwIgL",
    "outputId": "d3347458-361b-4475-89a8-05dc0b92da25"
   },
   "outputs": [
    {
     "name": "stdout",
     "output_type": "stream",
     "text": [
      "abcde\n",
      "1 1 1 1 1 0 0 0 0 0 0 0 0 0 0 0 0 0 0 0 0 0 0 0 0 0 "
     ]
    }
   ],
   "source": [
    "import collections\n",
    "# 알파벳 소문자로 이루어진 단어 S가 주어진다. 각 알파벳이 단어에 몇 개가 포함되어 있는지 구하라\n",
    "\n",
    "def count_alphabet(li: list, s: str):\n",
    "    output = []\n",
    "    for i in li:\n",
    "        output.append(s.count(i))\n",
    "    # 리스트 내부 str으로 변환 (join 사용할거면 리스트 내부 str으로 변환)\n",
    "#     output = list(map(lambda x: str(x), output))\n",
    "    # 공백 추가\n",
    "#     output = \" \".join(output)\n",
    "    \n",
    "    for i in output:\n",
    "        print(i, end=' ')\n",
    "\n",
    "\n",
    "li = ['a','b','c','d','e','f','g','h','i','j','k','l','m','n','o', 'p', 'q', 'r','s','t','u','v','w','x','y','z']\n",
    "s = input()\n",
    "\n",
    "count_alphabet(li, s)"
   ]
  },
  {
   "cell_type": "markdown",
   "metadata": {
    "id": "3D54dZTawIgL"
   },
   "source": [
    "# 문자열 처리 10809(bronze 2)"
   ]
  },
  {
   "cell_type": "code",
   "execution_count": null,
   "metadata": {
    "id": "3extPwuVwIgM",
    "outputId": "229c2d37-69c8-49de-cb26-bc59e2597248"
   },
   "outputs": [
    {
     "name": "stdout",
     "output_type": "stream",
     "text": [
      "baekjoon\n",
      "1 0 -1 -1 2 -1 -1 -1 -1 4 3 -1 -1 7 5 -1 -1 -1 -1 -1 -1 -1 -1 -1 -1 -1 "
     ]
    }
   ],
   "source": [
    "li = ['a','b','c','d','e','f','g','h','i','j','k','l','m','n','o', 'p', 'q', 'r','s','t','u','v','w','x','y','z']\n",
    "s = input()\n",
    "output = []\n",
    "\n",
    "for i in li:\n",
    "    print(s.find(i), end = \" \")"
   ]
  },
  {
   "cell_type": "markdown",
   "metadata": {
    "id": "same0bIPwIgM"
   },
   "source": [
    "# 문자열 처리 10820(bronze 2)"
   ]
  },
  {
   "cell_type": "code",
   "execution_count": null,
   "metadata": {
    "id": "E4_CafXMwIgM"
   },
   "outputs": [],
   "source": [
    "while 1:\n",
    "    try:\n",
    "        lower, upper, num, blank = 0, 0, 0, 0\n",
    "        \n",
    "        for i in input():\n",
    "            if i.islower():\n",
    "                lower += 1\n",
    "            elif i.isupper():\n",
    "                upper += 1\n",
    "            elif i.isdigit():\n",
    "                num += 1\n",
    "            else:\n",
    "                blank += 1\n",
    "        \n",
    "        print(lower, upper, num, blank)\n",
    "        \n",
    "    except EOFError:\n",
    "        break"
   ]
  },
  {
   "cell_type": "markdown",
   "metadata": {
    "id": "91ptzOgGwIgM"
   },
   "source": [
    "# 문자열 처리 2743(bronze 2)"
   ]
  },
  {
   "cell_type": "code",
   "execution_count": null,
   "metadata": {
    "id": "wVRyzuKmwIgM",
    "outputId": "522fcf56-4804-41c0-aaac-98c7d82ec026"
   },
   "outputs": [
    {
     "name": "stdout",
     "output_type": "stream",
     "text": [
      "ABCdef\n",
      "6\n"
     ]
    }
   ],
   "source": [
    "a = input()\n",
    "print(len(a))"
   ]
  },
  {
   "cell_type": "markdown",
   "metadata": {
    "id": "3NYgHXF8wIgN"
   },
   "source": [
    "# 문자열 처리 11655(bronze 1)"
   ]
  },
  {
   "cell_type": "code",
   "execution_count": null,
   "metadata": {
    "id": "y7_tFbnZwIgN"
   },
   "outputs": [],
   "source": [
    "ABCDEFGHIJ K  L  M  N  O PQRSTUVWXYZ\n",
    "0123456789 10 11 12 13"
   ]
  },
  {
   "cell_type": "code",
   "execution_count": null,
   "metadata": {
    "id": "zsMenSEuwIgN",
    "outputId": "5c8eabf2-ffdc-4fed-e7e8-ff7b62f9159d"
   },
   "outputs": [
    {
     "name": "stdout",
     "output_type": "stream",
     "text": [
      "One is 1\n",
      "Bar vf 1\n"
     ]
    }
   ],
   "source": [
    "alpha = 'abcdefghijklmnopqrstuvwxyz'\n",
    "ALPHA = 'ABCDEFGHIJKLMNOPQRSTUVWXYZ'\n",
    "result = ''\n",
    "\n",
    "for i in input():\n",
    "    if i.islower():\n",
    "        if alpha.find(i) + 13 <= 25:\n",
    "            result += alpha[alpha.find(i) + 13]\n",
    "        else:\n",
    "            result += alpha[alpha.find(i) - 13]\n",
    "    elif i.isupper():\n",
    "        if ALPHA.find(i) + 13 <= 25:\n",
    "            result += ALPHA[ALPHA.find(i) + 13]\n",
    "        else:\n",
    "            result += ALPHA[ALPHA.find(i) - 13]\n",
    "    elif i.isdigit():\n",
    "        result += i\n",
    "    else:\n",
    "        result += i\n",
    "        \n",
    "print(result)"
   ]
  },
  {
   "cell_type": "markdown",
   "metadata": {
    "id": "kaRILVcewIgN"
   },
   "source": [
    "# 문자열 처리 10824(bronze 3)"
   ]
  },
  {
   "cell_type": "code",
   "execution_count": null,
   "metadata": {
    "id": "6OqsB7iEwIgN",
    "outputId": "e7598707-fdd8-4928-f3bb-4ba08dcf9d88"
   },
   "outputs": [
    {
     "name": "stdout",
     "output_type": "stream",
     "text": [
      "10 20 30 40\n",
      "4060\n"
     ]
    }
   ],
   "source": [
    "a, b, c, d = list(map(int, input().split()))\n",
    "ab = ''\n",
    "cd = ''\n",
    "\n",
    "if (a or b or c or d >= 1) and (a or b or c or d) <= 1000000:\n",
    "    ab += str(a)\n",
    "    ab += str(b)\n",
    "    cd += str(c)\n",
    "    cd += str(d)\n",
    "    abcd = int(ab) + int(cd)\n",
    "    print(abcd)"
   ]
  },
  {
   "cell_type": "markdown",
   "metadata": {
    "id": "0uUoZRehwIgN"
   },
   "source": [
    "# 문자열 처리 11656(silver 4)"
   ]
  },
  {
   "cell_type": "code",
   "execution_count": null,
   "metadata": {
    "id": "GwNfINB-wIgN"
   },
   "outputs": [],
   "source": []
  },
  {
   "cell_type": "code",
   "execution_count": null,
   "metadata": {
    "id": "56SOBw8swIgN"
   },
   "outputs": [],
   "source": []
  },
  {
   "cell_type": "markdown",
   "metadata": {
    "id": "LbymOlXEwIgO"
   },
   "source": [
    "# 정렬 2752(bronze 4)"
   ]
  },
  {
   "cell_type": "code",
   "execution_count": null,
   "metadata": {
    "id": "ycEqJgLywIgO",
    "outputId": "a478c708-7d5d-441f-a9d2-7a13876a1800"
   },
   "outputs": [
    {
     "name": "stdout",
     "output_type": "stream",
     "text": [
      "3 1 2\n",
      "1 2 3 "
     ]
    }
   ],
   "source": [
    "a, b, c = list(map(int, input().split()))\n",
    "li = sorted([a, b, c])\n",
    "for i in li:\n",
    "    print(i, end = ' ')"
   ]
  },
  {
   "cell_type": "markdown",
   "metadata": {
    "id": "G4kgq8SswIgO"
   },
   "source": [
    "# 정렬 5576(bronze 2)"
   ]
  },
  {
   "cell_type": "code",
   "execution_count": null,
   "metadata": {
    "id": "60M33HBUwIgO",
    "outputId": "ffed66e5-56d3-4ded-da7f-212d10e12efc"
   },
   "outputs": [
    {
     "name": "stdout",
     "output_type": "stream",
     "text": [
      "23\n",
      "23\n",
      "20\n",
      "15\n",
      "15\n",
      "14\n",
      "13\n",
      "9\n",
      "7\n",
      "6\n",
      "25\n",
      "19\n",
      "17\n",
      "17\n",
      "16\n",
      "13\n",
      "12\n",
      "11\n",
      "9\n",
      "5\n",
      "66 61\n"
     ]
    }
   ],
   "source": [
    "W = []\n",
    "K = []\n",
    "\n",
    "for i in range(20):\n",
    "    if i <= 9:\n",
    "        W.append(int(input()))\n",
    "    else:\n",
    "        K.append(int(input()))\n",
    "        \n",
    "W.sort()\n",
    "K.sort()\n",
    "print(W[-1]+W[-2]+W[-3], K[-1]+K[-2]+K[-3])"
   ]
  },
  {
   "cell_type": "markdown",
   "metadata": {
    "id": "Wa0YXFojwIgO"
   },
   "source": [
    "# 정렬 2750(bronze 1)"
   ]
  },
  {
   "cell_type": "code",
   "execution_count": null,
   "metadata": {
    "id": "3TroVTi7wIgP",
    "outputId": "794e3903-5615-4e7d-f5a8-b775680ccf00"
   },
   "outputs": [
    {
     "name": "stdout",
     "output_type": "stream",
     "text": [
      "3\n",
      "2\n",
      "3\n",
      "1\n",
      "1\n",
      "2\n",
      "3\n"
     ]
    }
   ],
   "source": [
    "T = int(input())\n",
    "li = []\n",
    "\n",
    "for _ in range(T):\n",
    "    li.append(int(input()))\n",
    "    li.sort()\n",
    "    \n",
    "for i in li:\n",
    "    print(i)"
   ]
  },
  {
   "cell_type": "markdown",
   "metadata": {
    "id": "K1k6iPqNwIgP"
   },
   "source": [
    "# 자료구조 - 스택 10828(silver 4)"
   ]
  },
  {
   "cell_type": "markdown",
   "metadata": {
    "id": "mH7L_4dkwIgP"
   },
   "source": [
    "![nn](https://github.com/Aliasss/algorithm/blob/master/stack.png?raw=1)"
   ]
  },
  {
   "cell_type": "code",
   "execution_count": null,
   "metadata": {
    "id": "9dg5DkblwIgQ",
    "outputId": "2e2bb24b-6819-466e-c0a7-8901b8c82431"
   },
   "outputs": [
    {
     "name": "stdout",
     "output_type": "stream",
     "text": [
      "5\n",
      "push 2\n",
      "push 3\n",
      "empty\n",
      "0\n",
      "pop\n",
      "3\n",
      "top\n",
      "2\n"
     ]
    }
   ],
   "source": [
    "n = int(input())\n",
    "stack = []\n",
    "\n",
    "for _ in range(n):\n",
    "    comm = input()\n",
    "    \n",
    "    if comm.split(' ')[0] == 'push':\n",
    "        stack.append(int(comm.split(' ')[1]))\n",
    "    elif comm == 'pop':\n",
    "        if stack == []:\n",
    "            print(-1)\n",
    "        else:\n",
    "            print(stack.pop())\n",
    "    elif comm == 'size':\n",
    "        print(len(stack))\n",
    "    elif comm == 'empty':\n",
    "        if stack == []:\n",
    "            print(1)\n",
    "        else:\n",
    "            print(0)\n",
    "    elif comm == 'top':\n",
    "        if stack == []:\n",
    "            print(-1)\n",
    "        else:\n",
    "            print(stack[-1])"
   ]
  },
  {
   "cell_type": "markdown",
   "metadata": {
    "id": "wx86qpCtwIgQ"
   },
   "source": [
    "# 자료구조 - 큐 10845(silver 4)"
   ]
  },
  {
   "cell_type": "markdown",
   "metadata": {
    "id": "2FjVja9awIgQ"
   },
   "source": [
    "![nn](https://github.com/Aliasss/algorithm/blob/master/queue.png?raw=1)"
   ]
  },
  {
   "cell_type": "code",
   "execution_count": null,
   "metadata": {
    "id": "2uczCyU_wIgQ",
    "outputId": "41129c5c-58df-4749-91fe-9e0750bf7381"
   },
   "outputs": [
    {
     "name": "stdout",
     "output_type": "stream",
     "text": [
      "15\n",
      "push 1\n",
      "push 2\n",
      "front\n",
      "1\n",
      "back\n",
      "2\n",
      "size\n",
      "2\n",
      "empty\n",
      "0\n",
      "pop\n",
      "1\n",
      "pop\n",
      "2\n",
      "pop\n",
      "-1\n",
      "size\n",
      "0\n",
      "empty\n",
      "1\n",
      "pop\n",
      "-1\n",
      "push 3\n",
      "empty\n",
      "0\n",
      "front\n",
      "3\n"
     ]
    }
   ],
   "source": [
    "n = int(input())\n",
    "queue = []\n",
    "\n",
    "for _ in range(n):\n",
    "    comm = input().split()\n",
    "    \n",
    "    if comm[0] == 'push':\n",
    "        queue.insert(0, comm[1])\n",
    "    elif comm[0] == 'pop':\n",
    "        if len(queue) == 0:\n",
    "            print(-1)\n",
    "        else:\n",
    "            print(queue.pop())\n",
    "    elif comm[0] == 'size':\n",
    "        print(len(queue))\n",
    "    elif comm[0] == 'empty':\n",
    "        if len(queue) == 0:\n",
    "            print(1)\n",
    "        else:\n",
    "            print(0)\n",
    "    elif comm[0] == 'front':\n",
    "        if len(queue) == 0:\n",
    "            print(-1)\n",
    "        else:\n",
    "            print(queue[-1])\n",
    "    elif comm[0] == 'back':\n",
    "        if len(queue) == 0:\n",
    "            print(-1)\n",
    "        else:\n",
    "            print(queue[0])"
   ]
  },
  {
   "cell_type": "markdown",
   "metadata": {
    "id": "UbQ2xgURwIgQ"
   },
   "source": [
    "# A/B 1008 "
   ]
  },
  {
   "cell_type": "code",
   "execution_count": null,
   "metadata": {
    "id": "-911qiMowIgQ",
    "outputId": "a3424b0d-db39-46a3-e027-8f44a7bb19e5"
   },
   "outputs": [
    {
     "name": "stdout",
     "output_type": "stream",
     "text": [
      "4 5\n"
     ]
    },
    {
     "data": {
      "text/plain": [
       "0.8"
      ]
     },
     "execution_count": 100,
     "metadata": {},
     "output_type": "execute_result"
    }
   ],
   "source": [
    "a, b = list(map(int, input().split()))\n",
    "a/b"
   ]
  },
  {
   "cell_type": "markdown",
   "metadata": {
    "id": "XcK-g-VCwIgQ"
   },
   "source": [
    "# 단어의 개수 1152 (bronze 2)"
   ]
  },
  {
   "cell_type": "code",
   "execution_count": null,
   "metadata": {
    "id": "KZV_JcgpwIgQ",
    "outputId": "e7a4183b-9cf6-4678-f5a3-34975e615f75"
   },
   "outputs": [
    {
     "name": "stdout",
     "output_type": "stream",
     "text": [
      " The first character is a blank\n",
      "6\n"
     ]
    }
   ],
   "source": [
    "s = input()\n",
    "print(len(s.split()))"
   ]
  },
  {
   "cell_type": "markdown",
   "metadata": {
    "id": "EAoZo0XjwIgR"
   },
   "source": [
    "# 단어 공부 1157 (bronze 1)"
   ]
  },
  {
   "cell_type": "code",
   "execution_count": null,
   "metadata": {
    "id": "vp96XQ8XwIgR",
    "outputId": "a9a4f5d2-9381-4cdc-9153-65e6b7edb4b4"
   },
   "outputs": [
    {
     "name": "stdout",
     "output_type": "stream",
     "text": [
      "z\n",
      "Z\n"
     ]
    }
   ],
   "source": [
    "# 내 코드(제대로 작동하지만 백준에 제출하면 시간초과)\n",
    "import collections\n",
    "\n",
    "s = input().upper()\n",
    "dict = collections.defaultdict(int)\n",
    "key = []\n",
    "value = []\n",
    "\n",
    "for i in s:\n",
    "    dict[i] = s.count(i)\n",
    "    \n",
    "for k, v in dict.items():\n",
    "    key.append(k)\n",
    "    value.append(v)\n",
    "    \n",
    "if len(value) != len(set(value)):\n",
    "    print('?')\n",
    "else:\n",
    "    dict = sorted(dict.items(), reverse=True)\n",
    "    print(dict[0][0])"
   ]
  },
  {
   "cell_type": "code",
   "execution_count": null,
   "metadata": {
    "id": "GTjQx5yHwIgR",
    "outputId": "88f65bed-2985-4b98-b345-114285be97fd"
   },
   "outputs": [
    {
     "name": "stdout",
     "output_type": "stream",
     "text": [
      "\n",
      "no input\n"
     ]
    }
   ],
   "source": [
    "# 만약, input()이 아니라 sys.stdin.readline()으로 넣으면 실패 (입력값이 없는 경우?)\n",
    "# sys.stdin.readline()은 '\\n\\'을 포함하는 입력이기 때문에 연속으로 값을 입력받느 for문에서 에러 발생\n",
    "# sys.stdin.readline().strip() 해줘야 에러 발생 안함\n",
    "words = input().upper()\n",
    "unique = list(set(words))\n",
    "cnt = []\n",
    "\n",
    "try: \n",
    "    for x in unique:\n",
    "        cnt.append(words.count(x))\n",
    "    if cnt.count(max(cnt)) > 1:\n",
    "        print(\"?\")\n",
    "    else:\n",
    "        max_idx = cnt.index(max(cnt))\n",
    "        print(unique[max_idx])\n",
    "\n",
    "except ValueError:\n",
    "    print('no input')"
   ]
  },
  {
   "cell_type": "code",
   "execution_count": null,
   "metadata": {
    "id": "8vwQwNnCwIgR"
   },
   "outputs": [],
   "source": [
    "# word = input().upper()\n",
    "# set_li = list(set(word))\n",
    "# count = [word.count(i) for i in s]\n",
    "\n",
    "# if count.count(max(count)) > 1:\n",
    "#     print(\"?\")\n",
    "# else:\n",
    "#     print(set_li[count.index(max(count))])"
   ]
  },
  {
   "cell_type": "markdown",
   "metadata": {
    "id": "xqkDv5hVwIgR"
   },
   "source": [
    "# 평균 1546 (bronze 1)"
   ]
  },
  {
   "cell_type": "code",
   "execution_count": null,
   "metadata": {
    "id": "zxE-VRCcwIgR",
    "outputId": "e6b7edae-8d11-4447-cd0e-f6cf5289ba3c"
   },
   "outputs": [
    {
     "name": "stdout",
     "output_type": "stream",
     "text": [
      "3\n",
      "10 20 30\n",
      "66.66666666666667\n"
     ]
    }
   ],
   "source": [
    "N = int(input())\n",
    "li = list(map(int, input().split()))\n",
    "M = max(li)\n",
    "lili = []\n",
    "for i in li:\n",
    "    lili.append(i/M*100)\n",
    "print(sum(lili)/len(lili))"
   ]
  },
  {
   "cell_type": "markdown",
   "metadata": {
    "id": "rN4wjnCgwIgR"
   },
   "source": [
    "# 그래프 알고리즘 DBF, BFS\n",
    "#### https://cyc1am3n.github.io/2019/04/26/bfs_dfs_with_python.html"
   ]
  },
  {
   "cell_type": "code",
   "execution_count": null,
   "metadata": {
    "id": "gkVC1nWswIgS",
    "outputId": "e01596aa-6a3a-4ded-e6c8-36ccadb02c48"
   },
   "outputs": [
    {
     "data": {
      "text/plain": [
       "{1: {3, 4}, 2: {3, 4, 5}, 3: {1, 5}, 4: {1}, 5: {2, 6}, 6: {3, 5}}"
      ]
     },
     "execution_count": 232,
     "metadata": {},
     "output_type": "execute_result"
    }
   ],
   "source": [
    "# BFS\n",
    "graph_list = {1: set([3, 4]),\n",
    "             2: set([3, 4, 5]),\n",
    "             3: set([1, 5]),\n",
    "             4: set([1]),\n",
    "             5: set([2, 6]),\n",
    "             6: set([3, 5])}\n",
    "root_node = 1\n",
    "graph_list"
   ]
  },
  {
   "cell_type": "code",
   "execution_count": null,
   "metadata": {
    "id": "xY3BElzVwIgS",
    "outputId": "cc630034-d794-4563-de3e-d8b4d8ce7d8a"
   },
   "outputs": [
    {
     "name": "stdout",
     "output_type": "stream",
     "text": [
      "[1, 3, 4, 5, 2, 6]\n"
     ]
    }
   ],
   "source": [
    "from collections import deque\n",
    "\n",
    "def BFS_with_adj_list(graph, root):\n",
    "    visited = []\n",
    "    queue = deque([root])\n",
    "    \n",
    "    while queue:\n",
    "        n = queue.popleft()\n",
    "        if n not in visited:\n",
    "            visited.append(n)\n",
    "            queue += graph[n] - set(visited)\n",
    "    return visited\n",
    "\n",
    "print(BFS_with_adj_list(graph_list, root_node))"
   ]
  },
  {
   "cell_type": "code",
   "execution_count": null,
   "metadata": {
    "id": "FItSj6GJwIgS",
    "outputId": "de60ce5f-f02d-419e-ae93-ff5ade0f49f2"
   },
   "outputs": [
    {
     "name": "stdout",
     "output_type": "stream",
     "text": [
      "[1, 4, 3, 5, 6, 2]\n"
     ]
    }
   ],
   "source": [
    "# DFS\n",
    "def DFS_with_adj_list(graph, root):\n",
    "    visited = []\n",
    "    stack = [root]\n",
    "    \n",
    "    while stack:\n",
    "        n = stack.pop()\n",
    "        if n not in visited:\n",
    "            visited.append(n)\n",
    "            stack += graph[n] - set(visited)\n",
    "    return visited\n",
    "\n",
    "print(DFS_with_adj_list(graph_list, root_node))"
   ]
  },
  {
   "cell_type": "code",
   "execution_count": null,
   "metadata": {
    "id": "7O5_5-flwIgS"
   },
   "outputs": [],
   "source": []
  },
  {
   "cell_type": "markdown",
   "metadata": {
    "id": "vBP4vCqZwIgS"
   },
   "source": [
    "# 문자열 - 아! 4999 (bronze 2)"
   ]
  },
  {
   "cell_type": "code",
   "execution_count": null,
   "metadata": {
    "id": "k86B_2WcwIgS",
    "outputId": "bd8095ff-2a48-4910-d29c-911f099d0af9"
   },
   "outputs": [
    {
     "name": "stdout",
     "output_type": "stream",
     "text": [
      "aaah\n",
      "ah\n",
      "go\n"
     ]
    }
   ],
   "source": [
    "me = input()\n",
    "doc = input()\n",
    "\n",
    "if len(me) >= len(doc):\n",
    "    print('go')\n",
    "else:\n",
    "    print('no')"
   ]
  },
  {
   "cell_type": "markdown",
   "metadata": {
    "id": "kEBiwISzwIgS"
   },
   "source": [
    "# 문자열 - 민균이의 비밀번호 9933 (bronze 1)"
   ]
  },
  {
   "cell_type": "code",
   "execution_count": null,
   "metadata": {
    "code_folding": [],
    "id": "F1LrmcwvwIgS",
    "outputId": "afbe69b5-6cd2-4e0d-e4fc-a224491b1b6e"
   },
   "outputs": [
    {
     "name": "stdout",
     "output_type": "stream",
     "text": [
      "4\n",
      "las\n",
      "god\n",
      "napilut\n",
      "tulipan\n",
      "7 i\n"
     ]
    }
   ],
   "source": [
    "li = []\n",
    "for _ in range(int(input())):\n",
    "    li.append(input())\n",
    "\n",
    "for i in li:\n",
    "    if i[::-1] in li:\n",
    "        print(len(i), i[int(len(i) / 2)])\n",
    "        break  # 중복되어서 출력되지 않기 위해 break"
   ]
  },
  {
   "cell_type": "markdown",
   "metadata": {
    "id": "rUJ-bjyMwIgT"
   },
   "source": [
    "# 문자열 - 행복한지 슬픈지 10769 (bronze 1)"
   ]
  },
  {
   "cell_type": "code",
   "execution_count": null,
   "metadata": {
    "id": "mDiPrM9lwIgT",
    "outputId": "afff1e4c-f2e3-4644-f67f-c4e15968ec7a"
   },
   "outputs": [
    {
     "name": "stdout",
     "output_type": "stream",
     "text": [
      "dafdf adfadf\n",
      "none\n"
     ]
    }
   ],
   "source": [
    "s = input()\n",
    "happy = ':-)'\n",
    "sad = ':-('\n",
    "\n",
    "if happy not in s and sad not in s:\n",
    "    print('none')\n",
    "else:\n",
    "    happy_cnt = s.count(happy)\n",
    "    sad_cnt = s.count(sad)\n",
    "    if happy_cnt == sad_cnt:\n",
    "        print('unsure')\n",
    "    elif happy_cnt > sad_cnt:\n",
    "        print('happy')\n",
    "    else:\n",
    "        print('sad')"
   ]
  },
  {
   "cell_type": "markdown",
   "metadata": {
    "id": "iX5e_dmtwIgT"
   },
   "source": [
    "# 문자열 - 도비의 난독증 테스트 2204 (silver 5)"
   ]
  },
  {
   "cell_type": "code",
   "execution_count": null,
   "metadata": {
    "id": "NeTcUkWjwIgT",
    "outputId": "c7eeb400-9ef1-4dd1-cfeb-23e6206fa8f7"
   },
   "outputs": [
    {
     "name": "stdout",
     "output_type": "stream",
     "text": [
      "4\n",
      "call\n",
      "ball\n",
      "All\n",
      "Hall\n",
      "All\n",
      "3\n",
      "Cat\n",
      "fat\n",
      "bAt\n",
      "bAt\n",
      "0\n"
     ]
    }
   ],
   "source": [
    "import collections\n",
    "while 1:\n",
    "    n = int(input())\n",
    "    original = collections.defaultdict(str)\n",
    "    lower = []\n",
    "    \n",
    "    if n == 0:\n",
    "        break\n",
    "    else:\n",
    "        for _ in range(n):\n",
    "            word = input()\n",
    "            original[word] = word.lower()\n",
    "            lower.append(word.lower())\n",
    "        \n",
    "        lower.sort()\n",
    "        for k, v in original.items():\n",
    "            if lower[0] == v:\n",
    "                print(k)        "
   ]
  },
  {
   "cell_type": "markdown",
   "metadata": {
    "id": "9jxCgnK6wIgT"
   },
   "source": [
    "# 최댓값 2562 (bronze 2)"
   ]
  },
  {
   "cell_type": "code",
   "execution_count": null,
   "metadata": {
    "id": "ggXyYE2rwIgT",
    "outputId": "98507450-1d53-464b-8f10-565c271d4fad"
   },
   "outputs": [
    {
     "name": "stdout",
     "output_type": "stream",
     "text": [
      "3\n",
      "29\n",
      "38\n",
      "12\n",
      "57\n",
      "74\n",
      "40\n",
      "85\n",
      "61\n",
      "85\n",
      "8\n"
     ]
    }
   ],
   "source": [
    "li = []\n",
    "for _ in range(9):\n",
    "    li.append(int(input()))\n",
    "\n",
    "print(max(li), li.index(max(li)) + 1, sep='\\n')"
   ]
  },
  {
   "cell_type": "markdown",
   "metadata": {
    "id": "zLF0EAsxwIgT"
   },
   "source": [
    "# 이항계수1 11050 (bronze 1)"
   ]
  },
  {
   "cell_type": "code",
   "execution_count": null,
   "metadata": {
    "id": "NESbb42mwIgU",
    "outputId": "023d990d-f54d-4a63-cb81-ce174172fa08"
   },
   "outputs": [
    {
     "name": "stdout",
     "output_type": "stream",
     "text": [
      "5 2\n",
      "10\n"
     ]
    }
   ],
   "source": [
    "N, K = map(int, input().split())\n",
    "\n",
    "def factorial(N):\n",
    "    if N <= 1:\n",
    "        return 1\n",
    "    else:\n",
    "        return N * factorial(N-1)\n",
    "\n",
    "print(int(factorial(N) / (factorial(K) * factorial(N-K))))"
   ]
  },
  {
   "cell_type": "markdown",
   "metadata": {
    "id": "q_rDH0N5wIgU"
   },
   "source": [
    "# 정렬 - 단어 정렬 1181 (silver 5)"
   ]
  },
  {
   "cell_type": "code",
   "execution_count": null,
   "metadata": {
    "id": "gVEB96YFwIgU"
   },
   "outputs": [],
   "source": [
    "import time, datetime"
   ]
  },
  {
   "cell_type": "code",
   "execution_count": null,
   "metadata": {
    "id": "KnFOrg_IwIgU",
    "outputId": "e23673a4-66a0-4084-8456-bd329116bf6d"
   },
   "outputs": [
    {
     "name": "stdout",
     "output_type": "stream",
     "text": [
      "5\n",
      "a\n",
      "i\n",
      "abc\n",
      "d\n",
      "efs\n",
      "a\n",
      "d\n",
      "i\n",
      "abc\n",
      "efs\n",
      "0:00:12\n"
     ]
    }
   ],
   "source": [
    "start = time.time()\n",
    "\n",
    "N = int(input())\n",
    "# N = int(sys.stdin.readline().strip())\n",
    "li = []\n",
    "\n",
    "for _ in range(N):\n",
    "    word = input()\n",
    "    li.append(word)\n",
    "li = list(set(li))\n",
    "\n",
    "li.sort()\n",
    "li.sort(key=len) # 길이 짧은 순으로 정렬\n",
    "\n",
    "for i in li:\n",
    "    print(i)\n",
    "    \n",
    "end = time.time()\n",
    "print(str(datetime.timedelta(seconds=end-start)).split(\".\")[0])"
   ]
  },
  {
   "cell_type": "markdown",
   "metadata": {
    "id": "faHsMaWFwIgU"
   },
   "source": [
    "# 정렬 - 나이순 정렬 10814 (sliver5)"
   ]
  },
  {
   "cell_type": "markdown",
   "metadata": {
    "id": "B5xW3XoowIgU"
   },
   "source": [
    "### itemgetter, attregetter\n",
    "##### https://docs.python.org/ko/3/howto/sorting.html 참고"
   ]
  },
  {
   "cell_type": "code",
   "execution_count": null,
   "metadata": {
    "id": "hHKsRxyDwIgU",
    "outputId": "d6564e20-1814-4cf9-c398-3af87755b3cb"
   },
   "outputs": [
    {
     "name": "stdout",
     "output_type": "stream",
     "text": [
      "3\n",
      "21 j\n",
      "21 d\n",
      "20 m\n",
      "20 m\n",
      "21 j\n",
      "21 d\n"
     ]
    }
   ],
   "source": [
    "from operator import itemgetter, attrgetter\n",
    "\n",
    "N = int(input())\n",
    "li = []\n",
    "for _ in range(N):\n",
    "    age, name = list(map(str, input().split()))\n",
    "    li.append((age, name))\n",
    "    \n",
    "li = [(int(x), y) for (x, y) in li]\n",
    "li = sorted(li, key=itemgetter(0))\n",
    "for i, j in li:\n",
    "    print(i, j)"
   ]
  },
  {
   "cell_type": "markdown",
   "metadata": {
    "id": "8und-uJlw-yK"
   },
   "source": [
    "# 문자열, 구현 - 듣보잡 1764 (silver 4)"
   ]
  },
  {
   "cell_type": "code",
   "execution_count": null,
   "metadata": {
    "colab": {
     "base_uri": "https://localhost:8080/"
    },
    "id": "FiEh5-2mwIgU",
    "outputId": "6aeacdeb-48a5-4588-dc00-24598c935d5b"
   },
   "outputs": [
    {
     "name": "stdout",
     "output_type": "stream",
     "text": [
      "2 3\n",
      "b\n",
      "a\n",
      "ab\n",
      "b\n",
      "a\n",
      "2\n",
      "a\n",
      "b\n"
     ]
    }
   ],
   "source": [
    "N, M = map(int, input().split())\n",
    "N_list = []\n",
    "M_list = []\n",
    "\n",
    "for _ in range(N):\n",
    "    N_list.append(input())\n",
    "for _ in range(M):\n",
    "    M_list.append(input())\n",
    "\n",
    "result = sorted(set(N_list).intersection(set(M_list)))\n",
    "print(len(result))\n",
    "for i in result:\n",
    "    print(i)"
   ]
  },
  {
   "cell_type": "markdown",
   "metadata": {
    "id": "nZd8XYBaB7ov"
   },
   "source": [
    "# 문자열, 브루트포스 알고리즘 - 악마 게임 16677 (silver 4)"
   ]
  },
  {
   "cell_type": "code",
   "execution_count": null,
   "metadata": {
    "colab": {
     "base_uri": "https://localhost:8080/"
    },
    "id": "y07auBFs_hsX",
    "outputId": "1d2bfca2-d0b3-4219-ae43-2ae57282159b"
   },
   "outputs": [
    {
     "name": "stdout",
     "output_type": "stream",
     "text": [
      "SUBINIUM\n",
      "3\n",
      "INSSADANCINGMACHINE 12\n",
      "SOULLESSDANCINGMACHINE 345\n",
      "ALGORITHMDANCINGMACHINE 6789\n",
      "No Jam\n"
     ]
    }
   ],
   "source": [
    "m = input()\n",
    "N = int(input())\n",
    "word_list = []\n",
    "\n",
    "for _ in range(N):\n",
    "    w, g = input().split()\n",
    "    \n",
    "    temp = 0 #m문자열 확인용\n",
    "    other_character = 0 #m문자열 외의 문자 개수 확인\n",
    "    complete = False #m문자열 완성?\n",
    "    \n",
    "    for character in w: #문자 돌면서 하나씩 확인\n",
    "        if character == m[temp] and not complete: #단어가 완성되면 그 이후 문자는 쓸모 없으므로 (not complete -> True)\n",
    "            temp += 1 #다음 문자로 넘어감\n",
    "            if temp == len(m): #단어가 완성되었는가?\n",
    "                temp -= 1 #리스트 범위 밖으로 넘어가는 것 방지\n",
    "                complete = True\n",
    "        else:\n",
    "            other_character += 1 #다른 수\n",
    "            \n",
    "    if complete: #답이 맞다면\n",
    "        word_list.append([w, int(g)/other_character])\n",
    "\n",
    "if not word_list:\n",
    "    print(\"No Jam\")\n",
    "    \n",
    "else:\n",
    "    print(sorted(word_list, key=lambda x: x[1], reverse = True)[0][0]) #숫자 기준으로 정렬, 내림 차순으로 정렬"
   ]
  },
  {
   "cell_type": "code",
   "execution_count": null,
   "metadata": {
    "id": "lzXxLGmH17Fl"
   },
   "outputs": [],
   "source": [
    "# from itertools import product \n",
    "\n",
    "# password = \"Hello\" \n",
    "# number = \"01000001111\" \n",
    "# lowercase = \"abcdefghijklmnopqrstuvwxyz\" \n",
    "# uppercase = \"ABCDEFGHIJKLMNOPQRSTUVWXYZ\" \n",
    "# symbol = \"!@#$%^&*()_+-=`~\" \n",
    "# possibility = lowercase + number \n",
    "# attempt = product(possibility, repeat=len(password)) \n",
    "\n",
    "# attempt"
   ]
  },
  {
   "cell_type": "markdown",
   "metadata": {
    "id": "ZybOi46oCBiC"
   },
   "source": [
    "# 우선순위 큐 - 콘서트 (bronze 1)"
   ]
  },
  {
   "cell_type": "code",
   "execution_count": 6,
   "metadata": {
    "colab": {
     "base_uri": "https://localhost:8080/"
    },
    "id": "whJwwvBD166z",
    "outputId": "dc1f7086-6d39-4451-f2d5-eb49216753f6"
   },
   "outputs": [
    {
     "name": "stdout",
     "output_type": "stream",
     "text": [
      "3\n",
      "1 2 3 \n"
     ]
    }
   ],
   "source": [
    "n = int(input())\n",
    "li = sorted(list(map(int, input().split())))\n",
    "\n",
    "n = 0\n",
    "\n"
   ]
  },
  {
   "cell_type": "markdown",
   "metadata": {
    "id": "0rosqlI8wIgV"
   },
   "source": [
    "# 자료구조 - 회사에 있는 사람(Silver 5)"
   ]
  },
  {
   "cell_type": "code",
   "execution_count": 31,
   "metadata": {},
   "outputs": [
    {
     "name": "stdout",
     "output_type": "stream",
     "text": [
      "4\n",
      "Baha enter\n",
      "Askar enter\n",
      "Baha leave\n",
      "Baha enter\n",
      "Baha\n",
      "Askar\n"
     ]
    }
   ],
   "source": [
    "li = set()\n",
    "\n",
    "for _ in range(int(input())):\n",
    "    name, enter_leave = input().split()\n",
    "\n",
    "    if enter_leave == 'enter':\n",
    "        li.add(name)\n",
    "    elif enter_leave == 'leave':\n",
    "        li.remove(name)\n",
    "    else:\n",
    "        print(\"The input value is not 'enter' or 'leave'.\")\n",
    "\n",
    "for i in sorted(li, reverse=True):\n",
    "    print(i)"
   ]
  },
  {
   "cell_type": "markdown",
   "metadata": {},
   "source": [
    "# 그리디 알고리즘"
   ]
  },
  {
   "cell_type": "markdown",
   "metadata": {},
   "source": [
    "<img src=\"https://raw.githubusercontent.com/Aliasss/algorithm/master/%EA%B7%B8%EB%A6%AC%EB%94%94.png\" width=\"450\" height=\"50\"/>"
   ]
  },
  {
   "cell_type": "markdown",
   "metadata": {},
   "source": [
    "* 가장 큰 수를 구한다면? 노란색 루트를 타고 128까지 도달하면 됨\n",
    "* 그러나, 그리디 알고리즘은 **현재 상황에서 가장 좋은 결과를 선택**하므로 결과적으로 23을 도출함\n",
    "<br><br>\n",
    "* 그리디 알고리즘 사용 조건  \n",
    "    * 탐욕스러운 선택 조건\n",
    "        * 탐욕적인 선택이 항상 전체 문제의 최적해를 도출할 수 있을 것이라는 사실이 보장되어야 함\n",
    "        * 즉, 그리디 알고리즘을 사용했을 때 결과적으로 최적해가 도출될 수 있다면 그리디 알고리즘 사용"
   ]
  },
  {
   "cell_type": "markdown",
   "metadata": {},
   "source": [
    "## 그리디 알고리즘 - 거스름돈 (bronze 2)"
   ]
  },
  {
   "cell_type": "markdown",
   "metadata": {},
   "source": [
    "(1000 - 380)  \n",
    "500, 100, 10, 10"
   ]
  },
  {
   "cell_type": "code",
   "execution_count": 36,
   "metadata": {},
   "outputs": [
    {
     "name": "stdout",
     "output_type": "stream",
     "text": [
      "1\n",
      "15\n"
     ]
    }
   ],
   "source": [
    "pay = int(input())\n",
    "cal = 1000 - pay\n",
    "n = 0\n",
    "\n",
    "while cal > 0:\n",
    "    if cal >= 500:\n",
    "        n += 1\n",
    "        cal -= 500\n",
    "    elif cal >= 100:\n",
    "        n += 1\n",
    "        cal -= 100\n",
    "    elif cal >= 50:\n",
    "        n += 1\n",
    "        cal -= 50\n",
    "    elif cal >= 10:\n",
    "        n += 1\n",
    "        cal -= 10\n",
    "    elif cal >= 5:\n",
    "        n += 1\n",
    "        cal -= 5\n",
    "    elif cal >= 1:\n",
    "        n += 1\n",
    "        cal -= 1\n",
    "    else:\n",
    "        break\n",
    "        \n",
    "print(n)"
   ]
  },
  {
   "cell_type": "markdown",
   "metadata": {},
   "source": [
    "# 그리디 알고리즘 - 설탕 배달 (bronze 1)"
   ]
  },
  {
   "cell_type": "markdown",
   "metadata": {},
   "source": [
    "* 문제를 제대로 읽자"
   ]
  },
  {
   "cell_type": "code",
   "execution_count": 63,
   "metadata": {
    "code_folding": []
   },
   "outputs": [],
   "source": [
    "# # 5로 나눴을 때 나머지가 0\n",
    "# # 3으로 나눴을 때 나머지가 0\n",
    "# # 5로 나눴을 때의 나머지가 3의 배수\n",
    "# # N이 5 미만일 때, N이 3의 배수가 아니면 -1\n",
    "\n",
    "# N = int(input())\n",
    "# cal = 0\n",
    "# cal2 = 0\n",
    "\n",
    "# while 1:\n",
    "    \n",
    "#     a, b = divmod(N, 5)\n",
    "#     x, y = divmod(N, 3)\n",
    "    \n",
    "#     if b == 0:\n",
    "#         print(a)\n",
    "#         break\n",
    "#     elif y == 0:\n",
    "#         cal1 = x    \n",
    "#         if b % 3 == 0:\n",
    "#             cal2 = a\n",
    "#             a, b = divmod(b, 3)\n",
    "#             cal2 = cal2 + a\n",
    "#             print(cal2)\n",
    "#             break\n",
    "#         else: \n",
    "#             print(cal1)\n",
    "#             break\n",
    "#     else:\n",
    "#         # N = 11 or N = 7\n",
    "        \n",
    "#         if b % 3 == 0:\n",
    "#             x, y = divmod(b, 3)\n",
    "#             print(a + x)\n",
    "#             break\n",
    "\n",
    "#         # 11 -> 여기서부터 막힘\n",
    "#         elif \n",
    "        \n",
    "#         elif (b % 3 != 0) and (y % 5 != 0):\n",
    "#             print(-1)\n",
    "#             break\n",
    "#         elif y % 5 == 0:\n",
    "#             a, b = divmod(y, 5)\n",
    "#             print(x + a)\n",
    "#             break"
   ]
  },
  {
   "cell_type": "code",
   "execution_count": 62,
   "metadata": {},
   "outputs": [
    {
     "name": "stdout",
     "output_type": "stream",
     "text": [
      "11\n",
      "3\n"
     ]
    }
   ],
   "source": [
    "# 구글링해서 찾은 코드\n",
    "# 느낀 점: 모든 경우의 수를 하드 코딩으로 구현하려고 하지 말 것 -> 규칙을 찾자\n",
    "# 무게 N이 0이 될 때까지 \n",
    "# 5로 나눠서 나머지가 0이면 봉지 1개, 5로 나눠서 나머지가 0이 아니면 N에서 3kg 빼고 3kg 봉지 1개 카운트\n",
    "\n",
    "sugar = int(input())\n",
    "\n",
    "bag = 0\n",
    "while sugar >= 0 :\n",
    "    if sugar % 5 == 0 :  # 5의 배수이면\n",
    "        bag += (sugar // 5)  # 5로 나눈 몫을 구해야 정수가 됨\n",
    "        print(bag)\n",
    "        break\n",
    "    sugar -= 3  \n",
    "    bag += 1  # 5의 배수가 될 때까지 설탕-3, 봉지+1\n",
    "else :\n",
    "    print(-1)"
   ]
  },
  {
   "cell_type": "markdown",
   "metadata": {},
   "source": [
    "# 그리디 알고리즘 - 수들의 합(silver 5)"
   ]
  },
  {
   "cell_type": "code",
   "execution_count": 111,
   "metadata": {},
   "outputs": [
    {
     "data": {
      "text/plain": [
       "200"
      ]
     },
     "execution_count": 111,
     "metadata": {},
     "output_type": "execute_result"
    }
   ],
   "source": [
    "1+2+3+4+5+6+7+8+9+10+11+12+13+14+15+16+17+18 +29"
   ]
  },
  {
   "cell_type": "code",
   "execution_count": 100,
   "metadata": {},
   "outputs": [
    {
     "name": "stdout",
     "output_type": "stream",
     "text": [
      "3\n",
      "2\n"
     ]
    }
   ],
   "source": [
    "# 아래 코드는 시간 초과\n",
    "s = int(input())\n",
    "val = 0\n",
    "li = []\n",
    "\n",
    "while 1:\n",
    "    if sum(li) <= s:\n",
    "        val = val + 1\n",
    "        li.append(val)\n",
    "        \n",
    "    elif sum(li) > s:\n",
    "        li.pop()\n",
    "        print(len(li))\n",
    "        break"
   ]
  },
  {
   "cell_type": "code",
   "execution_count": 109,
   "metadata": {},
   "outputs": [
    {
     "name": "stdout",
     "output_type": "stream",
     "text": [
      "200\n",
      "19\n"
     ]
    }
   ],
   "source": [
    "s = int(input())\n",
    "n = 1\n",
    "count = 0\n",
    "\n",
    "while 1:\n",
    "    s -= n   # 200에서 1빼고 그 다음엔 2빼고~~\n",
    "    \n",
    "    if s >= 0:\n",
    "        count += 1\n",
    "        n += 1\n",
    "    else:\n",
    "        print(count)\n",
    "        break"
   ]
  },
  {
   "cell_type": "markdown",
   "metadata": {},
   "source": [
    "# 그리디 알고리즘 - 카우버거(bronze 1)"
   ]
  },
  {
   "cell_type": "code",
   "execution_count": 136,
   "metadata": {},
   "outputs": [
    {
     "name": "stdout",
     "output_type": "stream",
     "text": [
      "3 3 2\n",
      "2000 3000 2500\n",
      "800 1300 1000\n",
      "500 1000\n",
      "12100\n",
      "11170.0\n"
     ]
    }
   ],
   "source": [
    "b, c, d = map(int, input().split())\n",
    "min_set = min(b, c, d)\n",
    "\n",
    "burger_pri = list(map(int, input().split()))\n",
    "burger_pri = sorted(burger_pri, reverse=True)\n",
    "\n",
    "side_pri = list(map(int, input().split()))\n",
    "side_pri = sorted(side_pri, reverse=True)\n",
    "\n",
    "bev_pri = list(map(int, input().split()))\n",
    "bev_pri = sorted(bev_pri, reverse=True)\n",
    "\n",
    "# 할인 이전 금액\n",
    "burger_sum_bef = sum(burger_pri)\n",
    "side_sum_bef = sum(side_pri)\n",
    "bev_sum_bef = sum(bev_pri)\n",
    "\n",
    "# 할인 이후 금액\n",
    "aft = 0\n",
    "for i in range(min_set):\n",
    "    aft += int((burger_pri[i] + side_pri[i] + bev_pri[i]) * 0.9)\n",
    "\n",
    "remains = int(sum(burger_pri[min_set::]) + sum(side_pri[min_set::]) + sum(bev_pri[min_set::]))\n",
    "\n",
    "print(burger_sum_bef + side_sum_bef + bev_sum_bef)\n",
    "print(aft + remains)"
   ]
  },
  {
   "cell_type": "markdown",
   "metadata": {},
   "source": [
    "#### 완전 탐색(브루트포스), DFS, BFS : https://twpower.github.io/151-bfs-dfs-basic-problem"
   ]
  },
  {
   "cell_type": "markdown",
   "metadata": {},
   "source": [
    "# 그리디 알고리즘 - 전자레인지(bronze 4)"
   ]
  },
  {
   "cell_type": "code",
   "execution_count": 137,
   "metadata": {},
   "outputs": [
    {
     "name": "stdout",
     "output_type": "stream",
     "text": [
      "100\n",
      "0 1 4\n"
     ]
    }
   ],
   "source": [
    "a, b, c = 300, 60, 10\n",
    "n = int(input())\n",
    "quo, re = 0, 0\n",
    "a_cnt, b_cnt, c_cnt = 0, 0, 0\n",
    "\n",
    "if n % c == 0:\n",
    "    quo, re = divmod(n, a)\n",
    "    a_cnt = quo\n",
    "        \n",
    "    n = re\n",
    "    \n",
    "    if re > 0:\n",
    "        quo, re = divmod(n, b)\n",
    "        b_cnt = quo\n",
    "        \n",
    "        n = re\n",
    "        \n",
    "        if re > 0:\n",
    "            quo, re = divmod(n, c)\n",
    "            c_cnt = quo\n",
    "            \n",
    "            print(a_cnt, b_cnt, c_cnt)\n",
    "            \n",
    "        else:\n",
    "            print(a_cnt, b_cnt, c_cnt)\n",
    "        \n",
    "    else:\n",
    "        print(a_cnt, b_cnt, c_cnt)\n",
    "    \n",
    "    \n",
    "else:\n",
    "    print(-1)"
   ]
  },
  {
   "cell_type": "markdown",
   "metadata": {},
   "source": [
    "# 그리디 알고리즘 - 부분 문자열(silver 5) "
   ]
  },
  {
   "cell_type": "code",
   "execution_count": 139,
   "metadata": {},
   "outputs": [
    {
     "name": "stdout",
     "output_type": "stream",
     "text": [
      "person compression\n",
      "No\n",
      "sequence consequence\n",
      "Yes\n",
      "z\n"
     ]
    }
   ],
   "source": [
    "# sequence subsequence\n",
    "\n",
    "while 1:\n",
    "    try: \n",
    "        s, t = input().split()\n",
    "        val = 0\n",
    "        f = 0\n",
    "        \n",
    "        for i in range(len(t)):\n",
    "            if t[i] == s[val]:\n",
    "                val += 1\n",
    "\n",
    "                if val == len(s):\n",
    "                    f = 1\n",
    "\n",
    "                    break\n",
    "\n",
    "        if f == 1:\n",
    "            print('Yes')\n",
    "        else:\n",
    "            print('No')\n",
    "    \n",
    "    except:\n",
    "        break"
   ]
  },
  {
   "cell_type": "markdown",
   "metadata": {},
   "source": [
    "# 구현 - 럭비 클럽(bronze 4) https://www.acmicpc.net/problem/2083"
   ]
  },
  {
   "cell_type": "code",
   "execution_count": 18,
   "metadata": {},
   "outputs": [
    {
     "name": "stdin",
     "output_type": "stream",
     "text": [
      " Joe 16 34\n",
      " Bill 18 65\n",
      " Billy 17 65\n",
      " Sam 17 85\n",
      " # 0 0\n"
     ]
    },
    {
     "name": "stdout",
     "output_type": "stream",
     "text": [
      "Joe Junior\n",
      "Bill Senior\n",
      "Billy Junior\n",
      "Sam Senior\n"
     ]
    }
   ],
   "source": [
    "mem_dict ={}\n",
    "\n",
    "while 1:\n",
    "    name, age, wei = input().split()\n",
    "    \n",
    "    if name == '#':\n",
    "        break\n",
    "    else:\n",
    "        mem_dict[name] = [int(age), int(wei)]\n",
    "    \n",
    "for name, (age, wei) in mem_dict.items():\n",
    "    if (age > 17) or (wei >= 80):\n",
    "        print(name, 'Senior')\n",
    "    else:\n",
    "        print(name, 'Junior')"
   ]
  },
  {
   "cell_type": "markdown",
   "metadata": {},
   "source": [
    "# 수학/사칙연산 - 알람 시계(bronze 3) https://www.acmicpc.net/problem/2884"
   ]
  },
  {
   "cell_type": "code",
   "execution_count": 33,
   "metadata": {},
   "outputs": [
    {
     "name": "stdin",
     "output_type": "stream",
     "text": [
      " 23 40\n"
     ]
    },
    {
     "name": "stdout",
     "output_type": "stream",
     "text": [
      "22 55\n"
     ]
    }
   ],
   "source": [
    "hour, minute = map(int, input().split())\n",
    "adjusted_minute = (minute - 45) + 60\n",
    "\n",
    "if adjusted_minute >= 60:\n",
    "    print(hour, adjusted_minute - 60)\n",
    "else:\n",
    "    if hour - 1 < 0:\n",
    "        print(24 + (hour - 1), adjusted_minute)\n",
    "    else:\n",
    "        print(hour - 1, adjusted_minute)"
   ]
  },
  {
   "cell_type": "markdown",
   "metadata": {},
   "source": [
    "# 수학/구현/사칙연산 - 사칙연산(bronze 5) https://www.acmicpc.net/problem/10869"
   ]
  },
  {
   "cell_type": "code",
   "execution_count": 44,
   "metadata": {},
   "outputs": [
    {
     "name": "stdin",
     "output_type": "stream",
     "text": [
      " 7 3\n"
     ]
    },
    {
     "name": "stdout",
     "output_type": "stream",
     "text": [
      "10\n",
      "4\n",
      "21\n",
      "2\n",
      "1\n"
     ]
    }
   ],
   "source": [
    "# import sys\n",
    "# x, y = map(int, sys.stdin.readline().split())\n",
    "\n",
    "a, b = map(int, input().split())\n",
    "print(a+b)\n",
    "print(a-b)\n",
    "print(a*b)\n",
    "print(a//b)\n",
    "print(a%b)"
   ]
  },
  {
   "cell_type": "markdown",
   "metadata": {},
   "source": [
    "# 구현 - 아스키 코드(bronze 5) https://www.acmicpc.net/problem/11654"
   ]
  },
  {
   "cell_type": "code",
   "execution_count": 51,
   "metadata": {},
   "outputs": [
    {
     "name": "stdin",
     "output_type": "stream",
     "text": [
      " a\n"
     ]
    },
    {
     "name": "stdout",
     "output_type": "stream",
     "text": [
      "97\n"
     ]
    }
   ],
   "source": [
    "x = input()\n",
    "print(ord(x))\n",
    "\n",
    "# import sys\n",
    "# x = sys.stdin.read()[:-1]\n",
    "# print(ord(x))"
   ]
  },
  {
   "cell_type": "markdown",
   "metadata": {},
   "source": [
    "# 구현/문자열 - 문자열 반복(bronze 2) https://www.acmicpc.net/problem/2675"
   ]
  },
  {
   "cell_type": "code",
   "execution_count": 95,
   "metadata": {},
   "outputs": [
    {
     "name": "stdin",
     "output_type": "stream",
     "text": [
      " 2\n",
      " 3 ABC\n",
      " 2 ab02\n"
     ]
    },
    {
     "name": "stdout",
     "output_type": "stream",
     "text": [
      "AAABBBCCC\n",
      "aabb0022\n"
     ]
    }
   ],
   "source": [
    "di = {}\n",
    "for _ in range(int(input())):\n",
    "    r, s = input().split()\n",
    "    di[int(r)] = s\n",
    "    \n",
    "for i, j in di.items():\n",
    "    print(''.join([str(j)*i for j in j]))\n",
    "print()\n",
    " "
   ]
  },
  {
   "cell_type": "code",
   "execution_count": 103,
   "metadata": {},
   "outputs": [
    {
     "name": "stdin",
     "output_type": "stream",
     "text": [
      " 2\n",
      " 3 ABC\n"
     ]
    },
    {
     "name": "stdout",
     "output_type": "stream",
     "text": [
      "AAABBBCCC\n"
     ]
    },
    {
     "name": "stdin",
     "output_type": "stream",
     "text": [
      " 2 2abc\n"
     ]
    },
    {
     "name": "stdout",
     "output_type": "stream",
     "text": [
      "22aabbcc\n"
     ]
    }
   ],
   "source": [
    "for _ in range(int(input())):\n",
    "    r, s = input().split()\n",
    "    print(''.join([str(x)*int(r) for x in s]))"
   ]
  },
  {
   "cell_type": "code",
   "execution_count": null,
   "metadata": {},
   "outputs": [],
   "source": [
    "import sys\n",
    "\n",
    "for _ in range(int(sys.stdin.readline())):\n",
    "    r, s = sys.stdin.readline().split()\n",
    "    print(''.join([str(x)*int(r) for x in s]))"
   ]
  },
  {
   "cell_type": "markdown",
   "metadata": {},
   "source": [
    "# 구현 - 음계(bronze 2) https://www.acmicpc.net/problem/2920"
   ]
  },
  {
   "cell_type": "code",
   "execution_count": 115,
   "metadata": {},
   "outputs": [
    {
     "name": "stdin",
     "output_type": "stream",
     "text": [
      " 1 5 4 7 6\n"
     ]
    },
    {
     "name": "stdout",
     "output_type": "stream",
     "text": [
      "mixed\n"
     ]
    }
   ],
   "source": [
    "li = list(map(int, input().split()))\n",
    "\n",
    "if li == sorted(li):\n",
    "    print('ascending')\n",
    "elif li == sorted(li, reverse=True):\n",
    "    print('descending')\n",
    "else:\n",
    "    print('mixed')"
   ]
  },
  {
   "cell_type": "markdown",
   "metadata": {},
   "source": [
    "# 구현/문자열 - OX퀴즈(bronze 2) https://www.acmicpc.net/problem/8958"
   ]
  },
  {
   "cell_type": "code",
   "execution_count": 141,
   "metadata": {},
   "outputs": [
    {
     "name": "stdin",
     "output_type": "stream",
     "text": [
      " 3\n",
      " OOOOOOOOOO\n"
     ]
    },
    {
     "name": "stdout",
     "output_type": "stream",
     "text": [
      "55\n"
     ]
    },
    {
     "name": "stdin",
     "output_type": "stream",
     "text": [
      " OOXXOXXOOO\n"
     ]
    },
    {
     "name": "stdout",
     "output_type": "stream",
     "text": [
      "10\n"
     ]
    },
    {
     "name": "stdin",
     "output_type": "stream",
     "text": [
      " OOOOXOOOOXOOOOX\n"
     ]
    },
    {
     "name": "stdout",
     "output_type": "stream",
     "text": [
      "30\n"
     ]
    }
   ],
   "source": [
    "for _ in range(int(input())):\n",
    "    # O이면 +1\n",
    "    score = 0\n",
    "    score_sum = 0\n",
    "    ox = list(input())\n",
    "    \n",
    "    for i in ox:\n",
    "        if i == 'O':\n",
    "            score += 1\n",
    "            score_sum += score\n",
    "        else:\n",
    "            score = 0\n",
    "    print(score_sum)"
   ]
  },
  {
   "cell_type": "markdown",
   "metadata": {},
   "source": [
    "# 수학/구현/정렬 - 통계학(silver 3) https://www.acmicpc.net/problem/2108"
   ]
  },
  {
   "cell_type": "code",
   "execution_count": 188,
   "metadata": {},
   "outputs": [
    {
     "name": "stdin",
     "output_type": "stream",
     "text": [
      " 3\n",
      " 0\n",
      " 0\n",
      " -1\n"
     ]
    },
    {
     "name": "stdout",
     "output_type": "stream",
     "text": [
      "0\n",
      "0\n",
      "0\n",
      "1\n"
     ]
    }
   ],
   "source": [
    "import statistics as sp\n",
    "from collections import Counter\n",
    "\n",
    "li = []\n",
    "\n",
    "for _ in range(int(input())):\n",
    "    li.append(int(input()))\n",
    "    \n",
    "if len(li) == 1:\n",
    "    print(li[0])\n",
    "    print(li[0])\n",
    "    print(li[0])\n",
    "    print(0)\n",
    "else:\n",
    "    print(int(round(sp.mean(li), 0)))\n",
    "    print(int(round(sp.median(li), 0)))\n",
    "    if Counter(li).most_common() == len(li): # 모든 숫자가 전부 다른 숫자라면\n",
    "        print(sorted(Counter(li).most_common())[1][0])\n",
    "    else:\n",
    "        if Counter(li).most_common(2)[0][1] == Counter(li).most_common(2)[1][1]:\n",
    "            print(Counter(li).most_common(2)[0][0])\n",
    "        else:\n",
    "            print(Counter(li).most_common(2)[0][0])        \n",
    "    print(max(li) - min(li))"
   ]
  },
  {
   "cell_type": "markdown",
   "metadata": {},
   "source": [
    "# 수학/구현/사칙연산 - 검증수 (bronze 5)https://www.acmicpc.net/problem/2475"
   ]
  },
  {
   "cell_type": "code",
   "execution_count": 197,
   "metadata": {},
   "outputs": [
    {
     "name": "stdin",
     "output_type": "stream",
     "text": [
      " 0 4 2 5 6\n"
     ]
    },
    {
     "data": {
      "text/plain": [
       "1"
      ]
     },
     "execution_count": 197,
     "metadata": {},
     "output_type": "execute_result"
    }
   ],
   "source": [
    "ip = list(map(int, input().split()))\n",
    "summ = 0\n",
    "\n",
    "for i in ip:\n",
    "    summ += i**2\n",
    "    \n",
    "result = summ % 10\n",
    "print(result)"
   ]
  },
  {
   "cell_type": "markdown",
   "metadata": {},
   "source": [
    "# 윤년 (bronze 5)"
   ]
  },
  {
   "cell_type": "code",
   "execution_count": 211,
   "metadata": {},
   "outputs": [
    {
     "name": "stdin",
     "output_type": "stream",
     "text": [
      " 1900\n"
     ]
    },
    {
     "name": "stdout",
     "output_type": "stream",
     "text": [
      "0\n"
     ]
    }
   ],
   "source": [
    "y = int(input())\n",
    "\n",
    "if (y % 4 == 0) & (y % 100 != 0):\n",
    "    print(1)\n",
    "elif y % 400 == 0:\n",
    "    print(1)\n",
    "elif (y % 100 == 0) & (y % 400 != 0):\n",
    "    print(0)\n",
    "else:\n",
    "    print(0)"
   ]
  },
  {
   "cell_type": "markdown",
   "metadata": {},
   "source": [
    "# 구현 - X보다 작은 수 (bronze 5)"
   ]
  },
  {
   "cell_type": "code",
   "execution_count": 224,
   "metadata": {},
   "outputs": [
    {
     "name": "stdin",
     "output_type": "stream",
     "text": [
      " 10 5\n",
      " 1 10 4 9 2 3 8 5 7 6\n"
     ]
    },
    {
     "name": "stdout",
     "output_type": "stream",
     "text": [
      "1 4 2 3 "
     ]
    }
   ],
   "source": [
    "N, X = map(int, input().split())\n",
    "A = list(map(int, input().split()))\n",
    "\n",
    "for a in A:\n",
    "    if a < X:\n",
    "        print(a, end=' ')"
   ]
  },
  {
   "cell_type": "markdown",
   "metadata": {},
   "source": [
    "# 상수 (bronze 2)"
   ]
  },
  {
   "cell_type": "code",
   "execution_count": 233,
   "metadata": {},
   "outputs": [
    {
     "name": "stdin",
     "output_type": "stream",
     "text": [
      " 734 893\n"
     ]
    },
    {
     "name": "stdout",
     "output_type": "stream",
     "text": [
      "437\n"
     ]
    }
   ],
   "source": [
    "a, b = input().split()\n",
    "a, b = a[::-1], b[::-1]\n",
    "print(int(max(a, b)))"
   ]
  },
  {
   "cell_type": "markdown",
   "metadata": {},
   "source": [
    "# 나머지 (bronze 2)"
   ]
  },
  {
   "cell_type": "code",
   "execution_count": 242,
   "metadata": {},
   "outputs": [
    {
     "name": "stdin",
     "output_type": "stream",
     "text": [
      " 42\n",
      " 84\n",
      " 252\n",
      " 420\n",
      " 840\n",
      " 126\n",
      " 42\n",
      " 84\n",
      " 420\n",
      " 126\n"
     ]
    },
    {
     "name": "stdout",
     "output_type": "stream",
     "text": [
      "1\n"
     ]
    }
   ],
   "source": [
    "li = []\n",
    "remain = []\n",
    "\n",
    "for _ in range(10):\n",
    "    li.append(int(input()))\n",
    "\n",
    "for i in li:\n",
    "    remain.append(i%42)\n",
    "    \n",
    "print(len(set(remain)))"
   ]
  },
  {
   "cell_type": "markdown",
   "metadata": {},
   "source": [
    "# 숫자의 개수 (bronze 2)"
   ]
  },
  {
   "cell_type": "code",
   "execution_count": 256,
   "metadata": {},
   "outputs": [
    {
     "name": "stdin",
     "output_type": "stream",
     "text": [
      " 150\n",
      " 266\n",
      " 427\n"
     ]
    },
    {
     "name": "stdout",
     "output_type": "stream",
     "text": [
      "3\n",
      "1\n",
      "0\n",
      "2\n",
      "0\n",
      "0\n",
      "0\n",
      "2\n",
      "0\n",
      "0\n"
     ]
    }
   ],
   "source": [
    "li = []\n",
    "g = 0\n",
    "\n",
    "for _ in range(3):\n",
    "    li.append(int(input()))\n",
    "    \n",
    "g = li[0]*li[1]*li[2]\n",
    "\n",
    "for i in range(0, 10):\n",
    "    print(str(g).count(str(f\"{i}\")))"
   ]
  },
  {
   "cell_type": "markdown",
   "metadata": {},
   "source": [
    "# 직사각형에서 탈출 (bronze 3)"
   ]
  },
  {
   "cell_type": "code",
   "execution_count": 264,
   "metadata": {},
   "outputs": [
    {
     "name": "stdin",
     "output_type": "stream",
     "text": [
      " 653 375 1000 1000\n"
     ]
    },
    {
     "name": "stdout",
     "output_type": "stream",
     "text": [
      "347\n"
     ]
    }
   ],
   "source": [
    "x, y, w, h = map(int, input().split())\n",
    "\n",
    "f1 = w - x\n",
    "f2 = x - 0\n",
    "f3 = h - y\n",
    "f4 = y - 0\n",
    "\n",
    "print(min(f1, f2, f3, f4))"
   ]
  },
  {
   "cell_type": "markdown",
   "metadata": {},
   "source": [
    "# 수 정렬하기3 (bronze 1)"
   ]
  },
  {
   "cell_type": "code",
   "execution_count": 271,
   "metadata": {},
   "outputs": [
    {
     "name": "stdin",
     "output_type": "stream",
     "text": [
      " 10\n",
      " 5\n",
      " 2\n",
      " 3\n",
      " 1\n",
      " 4\n",
      " 2\n",
      " 3\n",
      " 5\n",
      " 1\n",
      " 7\n"
     ]
    },
    {
     "name": "stdout",
     "output_type": "stream",
     "text": [
      "1\n",
      "1\n",
      "2\n",
      "2\n",
      "3\n",
      "3\n",
      "4\n",
      "5\n",
      "5\n",
      "7\n"
     ]
    }
   ],
   "source": [
    "li = [0] * 10001\n",
    "\n",
    "for _ in range(int(input())):\n",
    "    li[int(input())] += 1\n",
    "    \n",
    "for i in range(10001):\n",
    "    if li[i] != 0:\n",
    "        for j in range(li[i]):\n",
    "            print(i)"
   ]
  },
  {
   "cell_type": "markdown",
   "metadata": {},
   "source": [
    "# 직각삼각형 (bronze 3)"
   ]
  },
  {
   "cell_type": "code",
   "execution_count": 278,
   "metadata": {},
   "outputs": [
    {
     "name": "stdin",
     "output_type": "stream",
     "text": [
      " 6 8 10\n"
     ]
    },
    {
     "name": "stdout",
     "output_type": "stream",
     "text": [
      "right\n"
     ]
    },
    {
     "name": "stdin",
     "output_type": "stream",
     "text": [
      " 25 52 60\n"
     ]
    },
    {
     "name": "stdout",
     "output_type": "stream",
     "text": [
      "wrong\n"
     ]
    },
    {
     "name": "stdin",
     "output_type": "stream",
     "text": [
      " 5 12 13\n"
     ]
    },
    {
     "name": "stdout",
     "output_type": "stream",
     "text": [
      "right\n"
     ]
    },
    {
     "name": "stdin",
     "output_type": "stream",
     "text": [
      " 0 0 0\n"
     ]
    }
   ],
   "source": [
    "while 1:\n",
    "    li = list(map(int, input().split()))\n",
    "    if [0, 0, 0] == li:\n",
    "        break\n",
    "    else:\n",
    "        li.sort()\n",
    "        if li[0]**2 + li[1]**2 == li[2]**2:\n",
    "            print('right')\n",
    "        else:\n",
    "            print('wrong')\n",
    "        li = []"
   ]
  },
  {
   "cell_type": "markdown",
   "metadata": {},
   "source": [
    "# 브루트포스 - 블랙잭 (bronze 2)"
   ]
  },
  {
   "cell_type": "code",
   "execution_count": 279,
   "metadata": {},
   "outputs": [
    {
     "name": "stdin",
     "output_type": "stream",
     "text": [
      " 5 12\n"
     ]
    },
    {
     "data": {
      "text/plain": [
       "(5, 12)"
      ]
     },
     "execution_count": 279,
     "metadata": {},
     "output_type": "execute_result"
    }
   ],
   "source": [
    "n, m = map(int, input().split())\n",
    "nums = list(map(int, input().split()))\n",
    "nums.sort(reverse=True)\n",
    "idx = 0\n",
    "li = []\n",
    "\n",
    "while 1:\n",
    "    nums[idx]\n",
    "    "
   ]
  },
  {
   "cell_type": "code",
   "execution_count": null,
   "metadata": {},
   "outputs": [],
   "source": []
  },
  {
   "cell_type": "code",
   "execution_count": null,
   "metadata": {},
   "outputs": [],
   "source": []
  },
  {
   "cell_type": "markdown",
   "metadata": {},
   "source": [
    "# 수학 - 달팽이는 올라가고 싶다 (Sliver 5)\n",
    "https://www.acmicpc.net/problem/2869"
   ]
  },
  {
   "cell_type": "markdown",
   "metadata": {},
   "source": [
    "땅 위에 달팽이가 있다. 이 달팽이는 높이가 V미터인 나무 막대를 올라갈 것이다.  \n",
    "\n",
    "달팽이는 낮에 A미터 올라갈 수 있다. 하지만, 밤에 잠을 자는 동안 B미터 미끄러진다. 또, 정상에 올라간 후에는 미끄러지지 않는다.  \n",
    "\n",
    "달팽이가 나무 막대를 모두 올라가려면, 며칠이 걸리는지 구하는 프로그램을 작성하시오.  \n",
    "첫째 줄에 세 정수 A, B, V가 공백으로 구분되어서 주어진다. "
   ]
  },
  {
   "cell_type": "code",
   "execution_count": 14,
   "metadata": {},
   "outputs": [
    {
     "name": "stdin",
     "output_type": "stream",
     "text": [
      " 100 99 1000000000\n"
     ]
    },
    {
     "name": "stdout",
     "output_type": "stream",
     "text": [
      "999999901\n"
     ]
    }
   ],
   "source": [
    "a, b, v = map(int, input().split())\n",
    "ans = -(-(v-b)//(a-b))\n",
    "print(ans)\n",
    "\n",
    "\n",
    "# 백준 제출용\n",
    "import sys\n",
    "a, b, v = map(int, sys.stdin.readline().split())\n",
    "ans = -(-(v-b)//(a-b))\n",
    "print(ans)"
   ]
  },
  {
   "cell_type": "markdown",
   "metadata": {},
   "source": [
    "# 자료구조, 스택 - 스택 수열 (Sliver2)\n",
    "https://www.acmicpc.net/problem/1874"
   ]
  },
  {
   "cell_type": "markdown",
   "metadata": {},
   "source": [
    "스택 (stack)은 기본적인 자료구조 중 하나로, 컴퓨터 프로그램을 작성할 때 자주 이용되는 개념이다. 스택은 자료를 넣는 (push) 입구와 자료를 뽑는 (pop) 입구가 같아 제일 나중에 들어간 자료가 제일 먼저 나오는 (LIFO, Last in First out) 특성을 가지고 있다.  \n",
    "\n",
    "1부터 n까지의 수를 스택에 넣었다가 뽑아 늘어놓음으로써, 하나의 수열을 만들 수 있다.  \n",
    "이때, 스택에 push하는 순서는 반드시 오름차순을 지키도록 한다고 하자.  \n",
    "임의의 수열이 주어졌을 때 스택을 이용해 그 수열을 만들 수 있는지 없는지, 있다면 어떤 순서로 push와 pop 연산을 수행해야 하는지를 알아낼 수 있다.  \n",
    "이를 계산하는 프로그램을 작성하라."
   ]
  },
  {
   "cell_type": "code",
   "execution_count": 46,
   "metadata": {},
   "outputs": [
    {
     "name": "stdin",
     "output_type": "stream",
     "text": [
      " 8\n",
      " 4\n",
      " 3\n",
      " 6\n",
      " 8\n",
      " 7\n",
      " 5\n",
      " 2\n",
      " 1\n"
     ]
    },
    {
     "name": "stdout",
     "output_type": "stream",
     "text": [
      "+\n",
      "+\n",
      "+\n",
      "+\n",
      "-\n",
      "-\n",
      "+\n",
      "+\n",
      "-\n",
      "+\n",
      "+\n",
      "-\n",
      "-\n",
      "-\n",
      "-\n",
      "-\n"
     ]
    }
   ],
   "source": [
    "# input 값과 만날 때까지 수를 계속 push\n",
    "# stack의 top이 input 값과 같으면 top을 pop\n",
    "# input 값은 stack의 top보다 항상 같거나 커야 함\n",
    "\n",
    "num = 1  #오름차순으로 +1씩 되는 변수\n",
    "initial_value = int(input())  # 최초 입력값(n)\n",
    "input_value = 0  # 입력값\n",
    "input_list = []  # 입력값들을 넣는 리스트 \n",
    "stk = []\n",
    "result = [] # 출력할 값 (+ or -)\n",
    "\n",
    "def make_stack(num, initial_value, input_value, stk, result):\n",
    "\n",
    "    for _ in range(initial_value):\n",
    "        input_value = int(input())\n",
    "        input_list.append(input_value)\n",
    "\n",
    "        # input 값과 만날 때까지 num += 1 하면서 계속 push\n",
    "        while num <= input_value:\n",
    "            stk.append(num) # stack에 숫자 추가 (ex. stk = [1, 2, 3, 4])\n",
    "            result.append('+')\n",
    "            num += 1\n",
    "\n",
    "        # 만약, top이 input 값과 같으면 top을 pop하고, result에 '-' 추가\n",
    "        if stk[-1] == input_value:\n",
    "            stk.pop() # pop하면 결국 top값을 빼게 됨  (ex. stk = [1, 2, 3])\n",
    "            result.append('-')\n",
    "            \n",
    "            if len(input_list) == initial_value:  # num이 최초 initial value에 도달하면 result 출력\n",
    "                print(*result, sep='\\n')\n",
    "\n",
    "        # 만약, input 값이 top과 다르면 break \n",
    "        else:\n",
    "            print('NO')\n",
    "            break\n",
    "\n",
    "            \n",
    "make_stack(num, initial_value, input_value, stk, result)"
   ]
  },
  {
   "cell_type": "markdown",
   "metadata": {},
   "source": [
    "# 브루트포스 - 덩치 (Silver 5)\n",
    "https://www.acmicpc.net/problem/7568"
   ]
  },
  {
   "cell_type": "markdown",
   "metadata": {},
   "source": [
    " 사람의 덩치를 키와 몸무게, 이 두 개의 값으로 표현하여 그 등수를 매겨보려고 한다. 어떤 사람의 몸무게가 x kg이고 키가 y cm라면 이 사람의 덩치는 (x, y)로 표시된다. 두 사람 A 와 B의 덩치가 각각 (x, y), (p, q)라고 할 때 x > p 그리고 y > q 이라면 우리는 A의 덩치가 B의 덩치보다 \"더 크다\"고 말한다. 예를 들어 어떤 A, B 두 사람의 덩치가 각각 (56, 177), (45, 165) 라고 한다면 A의 덩치가 B보다 큰 셈이 된다. 그런데 서로 다른 덩치끼리 크기를 정할 수 없는 경우도 있다. 예를 들어 두 사람 C와 D의 덩치가 각각 (45, 181), (55, 173)이라면 몸무게는 D가 C보다 더 무겁고, 키는 C가 더 크므로, \"덩치\"로만 볼 때 C와 D는 누구도 상대방보다 더 크다고 말할 수 없다.\n",
    "\n",
    "N명의 집단에서 각 사람의 덩치 등수는 자신보다 더 \"큰 덩치\"의 사람의 수로 정해진다. 만일 자신보다 더 큰 덩치의 사람이 k명이라면 그 사람의 덩치 등수는 k+1이 된다. 이렇게 등수를 결정하면 같은 덩치 등수를 가진 사람은 여러 명도 가능하다. "
   ]
  },
  {
   "cell_type": "code",
   "execution_count": 90,
   "metadata": {},
   "outputs": [
    {
     "name": "stdin",
     "output_type": "stream",
     "text": [
      " 5\n",
      " 55 185\n",
      " 58 183\n",
      " 88 186\n",
      " 60 175\n",
      " 46 155\n"
     ]
    },
    {
     "name": "stdout",
     "output_type": "stream",
     "text": [
      "2 2 1 2 5\n"
     ]
    }
   ],
   "source": [
    "wh = []\n",
    "result = []\n",
    "N = int(input())\n",
    "\n",
    "for _ in range(N):\n",
    "    w, h = map(int, input().split())\n",
    "    wh.append((w, h))\n",
    "    \n",
    "for i in range(N):\n",
    "    rank = 0\n",
    "    for j in range(N):\n",
    "        if (wh[i][0] < wh[j][0]) and (wh[i][1] < wh[j][1]):\n",
    "            rank += 1\n",
    "    result.append(rank + 1)\n",
    "    \n",
    "print(*result, sep=' ')"
   ]
  },
  {
   "cell_type": "markdown",
   "metadata": {},
   "source": [
    "# 브루트포스 알고리즘 - 분해합(Bronze 2)\n",
    "https://www.acmicpc.net/problem/2231"
   ]
  },
  {
   "cell_type": "markdown",
   "metadata": {},
   "source": [
    "어떤 자연수 N이 있을 때, 그 자연수 N의 분해합은 N과 N을 이루는 각 자리수의 합을 의미한다.  \n",
    "어떤 자연수 M의 분해합이 N인 경우, M을 N의 생성자라 한다.  \n",
    "예를 들어, 245의 분해합은 256(=245+2+4+5)이 된다. 따라서 245는 256의 생성자가 된다. 물론, 어떤 자연수의 경우에는 생성자가 없을 수도 있다. 반대로, 생성자가 여러 개인 자연수도 있을 수 있다.\n",
    "\n",
    "자연수 N이 주어졌을 때, N의 가장 작은 생성자를 구해내는 프로그램을 작성하시오."
   ]
  },
  {
   "cell_type": "code",
   "execution_count": 103,
   "metadata": {},
   "outputs": [
    {
     "name": "stdin",
     "output_type": "stream",
     "text": [
      " 256\n"
     ]
    },
    {
     "name": "stdout",
     "output_type": "stream",
     "text": [
      "245\n"
     ]
    }
   ],
   "source": [
    "N = input()\n",
    "\n",
    "for i in range(1, int(N)+1):\n",
    "    decompo = int(i)\n",
    "    num_li = [int(x) for x in str(i)]\n",
    "    decompo += sum(num_li)\n",
    "    \n",
    "    if decompo == int(N):\n",
    "        print(i)\n",
    "        break\n",
    "    else:\n",
    "        if i != int(N):\n",
    "            continue\n",
    "        else:\n",
    "            print(0)"
   ]
  },
  {
   "cell_type": "code",
   "execution_count": null,
   "metadata": {},
   "outputs": [],
   "source": []
  },
  {
   "cell_type": "code",
   "execution_count": null,
   "metadata": {},
   "outputs": [],
   "source": []
  },
  {
   "cell_type": "code",
   "execution_count": null,
   "metadata": {},
   "outputs": [],
   "source": []
  },
  {
   "cell_type": "code",
   "execution_count": null,
   "metadata": {},
   "outputs": [],
   "source": []
  },
  {
   "cell_type": "code",
   "execution_count": null,
   "metadata": {},
   "outputs": [],
   "source": []
  },
  {
   "cell_type": "code",
   "execution_count": null,
   "metadata": {},
   "outputs": [],
   "source": []
  },
  {
   "cell_type": "code",
   "execution_count": null,
   "metadata": {},
   "outputs": [],
   "source": []
  }
 ],
 "metadata": {
  "colab": {
   "collapsed_sections": [
    "nCciLRQEwIf3",
    "FeLgRIPywIf4",
    "G-hK6r9nwIf4",
    "a3gopUtbwIf5",
    "Lq9UrcUiwIf5",
    "Fb-49M00wIf6",
    "iIqmmohXwIf6",
    "1nQ0Jd4BwIf6",
    "3ItatxFowIf7",
    "kO_ybfpXwIf7",
    "DbrzEkc-wIf8",
    "DC9vOXqEwIf8",
    "hnMonWl4wIf8",
    "CLDtOqA-wIf9",
    "6my52mCnwIf9",
    "XVqd6E_gwIf-",
    "6n7RhdG2wIf-",
    "JnwKQLB_wIf-",
    "JkvewHGjwIf_",
    "O275_okfwIf_",
    "3PFcmJgNwIgA",
    "dAWM7NRZwIgA",
    "EBcILG5XwIgB",
    "7yHDyQu3wIgB",
    "5lm1NgguwIgC",
    "-1IM3f8XwIgC",
    "IIqTK_d4wIgC",
    "ffZRyLPCwIgC",
    "9qNsTrmgwIgD",
    "ukbWfYsowIgD",
    "GyBFLjsywIgD",
    "yqK28NpywIgE",
    "eEkrMgyWwIgF",
    "mRPpy95twIgH",
    "uCRZHWZ3wIgI",
    "wEBxgdGPwIgI",
    "iCAO1_zywIgI",
    "QJZ9yKn2wIgI",
    "TeQsXdugwIgI",
    "PXThzTErwIgJ",
    "5RfhrevowIgL",
    "lGdqT3lVwIgL",
    "3D54dZTawIgL",
    "same0bIPwIgM",
    "91ptzOgGwIgM",
    "3NYgHXF8wIgN",
    "kaRILVcewIgN",
    "0uUoZRehwIgN",
    "LbymOlXEwIgO",
    "G4kgq8SswIgO",
    "Wa0YXFojwIgO",
    "K1k6iPqNwIgP",
    "wx86qpCtwIgQ",
    "UbQ2xgURwIgQ",
    "XcK-g-VCwIgQ",
    "EAoZo0XjwIgR",
    "xqkDv5hVwIgR",
    "rN4wjnCgwIgR",
    "vBP4vCqZwIgS",
    "kEBiwISzwIgS",
    "rUJ-bjyMwIgT",
    "iX5e_dmtwIgT",
    "9jxCgnK6wIgT",
    "zLF0EAsxwIgT"
   ],
   "name": "BOJ.ipynb의 사본",
   "provenance": []
  },
  "interpreter": {
   "hash": "3d4b0f907c7a938ba7f071af18c861cb14796bc2bc63236be81e6b9643922a2d"
  },
  "kernelspec": {
   "display_name": "Python 3 (ipykernel)",
   "language": "python",
   "name": "python3"
  },
  "language_info": {
   "codemirror_mode": {
    "name": "ipython",
    "version": 3
   },
   "file_extension": ".py",
   "mimetype": "text/x-python",
   "name": "python",
   "nbconvert_exporter": "python",
   "pygments_lexer": "ipython3",
   "version": "3.9.6"
  },
  "toc": {
   "base_numbering": 1,
   "nav_menu": {},
   "number_sections": false,
   "sideBar": true,
   "skip_h1_title": false,
   "title_cell": "Table of Contents",
   "title_sidebar": "Contents",
   "toc_cell": false,
   "toc_position": {},
   "toc_section_display": true,
   "toc_window_display": false
  }
 },
 "nbformat": 4,
 "nbformat_minor": 4
}
