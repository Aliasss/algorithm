{
 "cells": [
  {
   "cell_type": "code",
   "execution_count": 197,
   "metadata": {},
   "outputs": [],
   "source": [
    "!jt -t chesterish -f bitstream -fs 10 -tf roboto -tfs 11 -nf opensans -nfs 10 -ofs 11 -dfs 11 -cellw 95% -lineh 150 -T -N"
   ]
  },
  {
   "cell_type": "markdown",
   "metadata": {},
   "source": [
    "## 참고: 주피터에선 stdin 환경설정이 잘 되어있지 않으므로 항상 빈 문자열을 반환함<br> 따라서, input()을 활용해야 함"
   ]
  },
  {
   "cell_type": "markdown",
   "metadata": {},
   "source": [
    "# 입출력 2557"
   ]
  },
  {
   "cell_type": "code",
   "execution_count": 1,
   "metadata": {},
   "outputs": [],
   "source": [
    "print(\"Hello World!\")"
   ]
  },
  {
   "cell_type": "markdown",
   "metadata": {},
   "source": [
    "# 입출력 1000"
   ]
  },
  {
   "cell_type": "code",
   "execution_count": 6,
   "metadata": {},
   "outputs": [
    {
     "name": "stdout",
     "output_type": "stream",
     "text": [
      "1 2\n",
      "3\n"
     ]
    }
   ],
   "source": [
    "A, B = list(map(int, input().split()))\n",
    "C = A + B\n",
    "print(C)"
   ]
  },
  {
   "cell_type": "code",
   "execution_count": 23,
   "metadata": {},
   "outputs": [],
   "source": [
    "# import sys\n",
    "# A, B = list(map(int, sys.stdin.readline().split()))\n",
    "# print(A + B)"
   ]
  },
  {
   "cell_type": "code",
   "execution_count": 16,
   "metadata": {},
   "outputs": [
    {
     "name": "stdout",
     "output_type": "stream",
     "text": [
      "1 2\n",
      "3\n"
     ]
    }
   ],
   "source": [
    "print(sum(map(int, input().split())))"
   ]
  },
  {
   "cell_type": "markdown",
   "metadata": {},
   "source": [
    "# 3 입출력 2558"
   ]
  },
  {
   "cell_type": "code",
   "execution_count": 1,
   "metadata": {},
   "outputs": [
    {
     "name": "stdout",
     "output_type": "stream",
     "text": [
      "1\n",
      "2\n",
      "3\n"
     ]
    }
   ],
   "source": [
    "A = int(input())\n",
    "B = int(input())\n",
    "print(A + B)"
   ]
  },
  {
   "cell_type": "markdown",
   "metadata": {},
   "source": [
    "# 입출력 10950"
   ]
  },
  {
   "cell_type": "code",
   "execution_count": 4,
   "metadata": {},
   "outputs": [
    {
     "name": "stdout",
     "output_type": "stream",
     "text": [
      "5\n",
      "1 1\n",
      "2\n",
      "2 2\n",
      "4\n",
      "3 3\n",
      "6\n",
      "4 4\n",
      "8\n",
      "5 5\n",
      "10\n"
     ]
    }
   ],
   "source": [
    "T = int(input())\n",
    "for i in range(T):\n",
    "    A, B = map(int, input().split())\n",
    "    print(A + B)"
   ]
  },
  {
   "cell_type": "markdown",
   "metadata": {},
   "source": [
    "# 입출력 10951"
   ]
  },
  {
   "cell_type": "markdown",
   "metadata": {},
   "source": [
    "문제<br>\n",
    "두 정수 A와 B를 입력받은 다음, A+B를 출력하는 프로그램을 작성하시오.<br><br>\n",
    "\n",
    "입력<br>\n",
    "입력은 여러 개의 테스트 케이스로 이루어져 있다.<br>\n",
    "\n",
    "각 테스트 케이스는 한 줄로 이루어져 있으며, 각 줄에 A와 B가 주어진다. (0 < A, B < 10)<br><br>\n",
    "\n",
    "출력<br>\n",
    "각 테스트 케이스마다 A+B를 출력한다."
   ]
  },
  {
   "cell_type": "markdown",
   "metadata": {},
   "source": [
    "테스트케이스의 개수와 종료조건이 명시돼있지 않다. <br>\n",
    "따라서, 정상적인 프로그램 종료를 위해 데이터 소스로부터 더 이상 읽을 수 있는 데이터가 없음을 나타내야 한다.<br>\n",
    "**예외처리 활용!**"
   ]
  },
  {
   "cell_type": "code",
   "execution_count": 1,
   "metadata": {},
   "outputs": [
    {
     "name": "stdout",
     "output_type": "stream",
     "text": [
      "1 2\n",
      "3\n",
      "3 4\n",
      "7\n",
      "ㄱ\n"
     ]
    }
   ],
   "source": [
    "while 1:\n",
    "    try: \n",
    "        A, B = map(int, input().split())\n",
    "        print(A + B)\n",
    "    except:\n",
    "        break"
   ]
  },
  {
   "cell_type": "code",
   "execution_count": 4,
   "metadata": {},
   "outputs": [
    {
     "name": "stdout",
     "output_type": "stream",
     "text": [
      "1 2\n",
      "3\n",
      "3 4\n",
      "7\n",
      "r\n",
      "error\n"
     ]
    }
   ],
   "source": [
    "try:\n",
    "    while 1:\n",
    "        A, B = map(int, input().split())\n",
    "        print(A + B)\n",
    "except:\n",
    "    print('error')"
   ]
  },
  {
   "cell_type": "markdown",
   "metadata": {},
   "source": [
    "# 입출력 10952"
   ]
  },
  {
   "cell_type": "code",
   "execution_count": 6,
   "metadata": {},
   "outputs": [],
   "source": [
    "# 주피터 외 환경에서 실행\n",
    "import sys\n",
    "while True:\n",
    "    A, B = map(int, sys.stdin.readline().split())\n",
    "    if A == 0 and B == 0:\n",
    "        break\n",
    "    else:\n",
    "        print(A+B)"
   ]
  },
  {
   "cell_type": "markdown",
   "metadata": {},
   "source": [
    "변수 A와 B가 모두 0이 되면 반복 중단한다."
   ]
  },
  {
   "cell_type": "code",
   "execution_count": 7,
   "metadata": {},
   "outputs": [
    {
     "name": "stdout",
     "output_type": "stream",
     "text": [
      "1 2\n",
      "3\n",
      "2 3\n",
      "5\n",
      "0 0\n"
     ]
    }
   ],
   "source": [
    "while 1:\n",
    "    A, B = map(int, input().split())\n",
    "    if A == 0 and B == 0:\n",
    "        break  # 반복문 빠져나가기\n",
    "    else:\n",
    "        print(A + B)"
   ]
  },
  {
   "cell_type": "markdown",
   "metadata": {},
   "source": [
    "# 입출력 10953"
   ]
  },
  {
   "cell_type": "code",
   "execution_count": 9,
   "metadata": {},
   "outputs": [
    {
     "name": "stdout",
     "output_type": "stream",
     "text": [
      "2\n",
      "1, 2\n",
      "3\n",
      "3, 4\n",
      "7\n"
     ]
    }
   ],
   "source": [
    "T = int(input())\n",
    "for i in range(T):\n",
    "    A, B = map(int, input().split(','))\n",
    "    print(A + B)"
   ]
  },
  {
   "cell_type": "markdown",
   "metadata": {},
   "source": [
    "# 입출력 11021"
   ]
  },
  {
   "cell_type": "code",
   "execution_count": 10,
   "metadata": {},
   "outputs": [
    {
     "name": "stdout",
     "output_type": "stream",
     "text": [
      "3\n",
      "1 2\n",
      "Case #1: 3\n",
      "2 3\n",
      "Case #2: 5\n",
      "3 4\n",
      "Case #3: 7\n"
     ]
    }
   ],
   "source": [
    "T = int(input())\n",
    "for i in range(1, T+1):\n",
    "    A, B = map(int, input().split())\n",
    "    print(f'Case #{i}: {A+B}')"
   ]
  },
  {
   "cell_type": "markdown",
   "metadata": {},
   "source": [
    "# 입출력 11022"
   ]
  },
  {
   "cell_type": "markdown",
   "metadata": {},
   "source": [
    "https://www.acmicpc.net/problem/11022"
   ]
  },
  {
   "cell_type": "code",
   "execution_count": 11,
   "metadata": {},
   "outputs": [
    {
     "name": "stdout",
     "output_type": "stream",
     "text": [
      "2\n",
      "1 2\n",
      "Case #1: 1 + 2 = 3\n",
      "3 4\n",
      "Case #2: 3 + 4 = 7\n"
     ]
    }
   ],
   "source": [
    "T = int(input())\n",
    "for i in range(1, T+1):\n",
    "    A, B = map(int, input().split())\n",
    "    print(f'Case #{i}: {A} + {B} = {A+B}')"
   ]
  },
  {
   "cell_type": "markdown",
   "metadata": {},
   "source": [
    "# 입출력 11718"
   ]
  },
  {
   "cell_type": "markdown",
   "metadata": {},
   "source": [
    "https://www.acmicpc.net/problem/11718"
   ]
  },
  {
   "cell_type": "code",
   "execution_count": null,
   "metadata": {},
   "outputs": [
    {
     "name": "stdout",
     "output_type": "stream",
     "text": [
      "abcadfaef\n",
      "abcadfaef\n",
      "dfdafefa\n",
      "dfdafefa\n",
      "dafef\n",
      "dafef\n",
      "adfe\n",
      "adfe\n",
      "fadfad\n",
      "fadfad\n",
      "fef\n",
      "fef\n",
      "adfad\n",
      "adfad\n",
      "faef\n",
      "faef\n",
      "adfadf\n",
      "adfadf\n",
      "\n",
      "\n",
      "z\n",
      "z\n",
      "exit\n",
      "exit\n",
      "종료\n",
      "종료\n"
     ]
    }
   ],
   "source": [
    "while 1:\n",
    "    try:\n",
    "        print(input())\n",
    "    except EOFError:\n",
    "        break"
   ]
  },
  {
   "cell_type": "markdown",
   "metadata": {},
   "source": [
    "**EOFError란?**<br>\n",
    "파이썬은 EOFError 라고 불리우는 오류를 발생시키는데 이때 EOF란 파일의 끝(end of file) 을 의미하며(파일의 끝은 ctrl-d 에 의해 표현된다), 갑자기 파일의 끝이 올 것을 예상하지 못했기 때문에 위와 같은 오류가 발생하는 것이다."
   ]
  },
  {
   "cell_type": "code",
   "execution_count": null,
   "metadata": {},
   "outputs": [],
   "source": [
    "# 주피터 외 환경에서 실행\n",
    "import sys\n",
    "print(sys.stdin.read())"
   ]
  },
  {
   "cell_type": "markdown",
   "metadata": {},
   "source": [
    "입출력 input(), sys.stdin 참고 링크<br>\n",
    "**https://velog.io/@tbnsok40/%ED%8C%8C%EC%9D%B4%EC%8D%AC-%EB%8B%A4%EC%96%91%ED%95%9C-%EC%9E%85%EB%A0%A5%EB%B0%A9%EB%B2%95-input-read-readline**"
   ]
  },
  {
   "cell_type": "markdown",
   "metadata": {},
   "source": [
    "# 입출력 11719"
   ]
  },
  {
   "cell_type": "markdown",
   "metadata": {},
   "source": [
    "https://www.acmicpc.net/problem/11719"
   ]
  },
  {
   "cell_type": "code",
   "execution_count": null,
   "metadata": {},
   "outputs": [],
   "source": [
    "while 1:\n",
    "    try:\n",
    "        print(input())\n",
    "    except EOFError:\n",
    "        break"
   ]
  },
  {
   "cell_type": "markdown",
   "metadata": {},
   "source": [
    "# 입출력 11720"
   ]
  },
  {
   "cell_type": "markdown",
   "metadata": {},
   "source": [
    "https://www.acmicpc.net/problem/11720"
   ]
  },
  {
   "cell_type": "code",
   "execution_count": 12,
   "metadata": {},
   "outputs": [
    {
     "name": "stdout",
     "output_type": "stream",
     "text": [
      "5\n",
      "1234\n",
      "10\n",
      "1234\n"
     ]
    }
   ],
   "source": [
    "sum = 0\n",
    "N = int(input())\n",
    "num = input()\n",
    "for i in num:\n",
    "    sum += int(i)\n",
    "print(sum)"
   ]
  },
  {
   "cell_type": "markdown",
   "metadata": {},
   "source": [
    "# 입출력 11721"
   ]
  },
  {
   "cell_type": "markdown",
   "metadata": {},
   "source": [
    "https://www.acmicpc.net/problem/11721"
   ]
  },
  {
   "cell_type": "code",
   "execution_count": 14,
   "metadata": {},
   "outputs": [
    {
     "name": "stdout",
     "output_type": "stream",
     "text": [
      "abcdefghijklmnopqrstuvwxyz\n",
      "abcdefghij\n",
      "klmnopqrst\n",
      "uvwxyz"
     ]
    }
   ],
   "source": [
    "string = input()\n",
    "cnt = 0\n",
    "for each in string:\n",
    "    print(each, end='')   # 개행이 되지 않도록 end=''\n",
    "    cnt += 1\n",
    "    if cnt % 10 == 0:\n",
    "        print('')"
   ]
  },
  {
   "cell_type": "markdown",
   "metadata": {},
   "source": [
    "# 입출력 2741"
   ]
  },
  {
   "cell_type": "markdown",
   "metadata": {},
   "source": [
    "https://www.acmicpc.net/problem/2741"
   ]
  },
  {
   "cell_type": "code",
   "execution_count": 16,
   "metadata": {},
   "outputs": [
    {
     "name": "stdout",
     "output_type": "stream",
     "text": [
      "5\n",
      "1\n",
      "2\n",
      "3\n",
      "4\n",
      "5\n"
     ]
    }
   ],
   "source": [
    "a = int(input())\n",
    "for i in range(1, a+1):\n",
    "    print(i)"
   ]
  },
  {
   "cell_type": "markdown",
   "metadata": {},
   "source": [
    "# 입출력 2742"
   ]
  },
  {
   "cell_type": "markdown",
   "metadata": {},
   "source": [
    "https://www.acmicpc.net/problem/2742"
   ]
  },
  {
   "cell_type": "code",
   "execution_count": 21,
   "metadata": {},
   "outputs": [
    {
     "name": "stdout",
     "output_type": "stream",
     "text": [
      "3\n",
      "3\n",
      "2\n",
      "1\n"
     ]
    }
   ],
   "source": [
    "a = int(input())\n",
    "for i in range(a, 0, -1):\n",
    "    print(i)"
   ]
  },
  {
   "cell_type": "markdown",
   "metadata": {},
   "source": [
    "# 입출력 2743"
   ]
  },
  {
   "cell_type": "markdown",
   "metadata": {},
   "source": [
    "https://www.acmicpc.net/problem/2739"
   ]
  },
  {
   "cell_type": "code",
   "execution_count": 25,
   "metadata": {},
   "outputs": [
    {
     "name": "stdout",
     "output_type": "stream",
     "text": [
      "2\n",
      "2 * 1 = 2\n",
      "2 * 2 = 4\n",
      "2 * 3 = 6\n",
      "2 * 4 = 8\n",
      "2 * 5 = 10\n",
      "2 * 6 = 12\n",
      "2 * 7 = 14\n",
      "2 * 8 = 16\n",
      "2 * 9 = 18\n"
     ]
    }
   ],
   "source": [
    "N = int(input())\n",
    "for i in range(1, 10):\n",
    "    print(f\"{N} * {i} = {N*i}\")"
   ]
  },
  {
   "cell_type": "markdown",
   "metadata": {},
   "source": [
    "# 입출력 1924"
   ]
  },
  {
   "cell_type": "markdown",
   "metadata": {},
   "source": [
    "https://www.acmicpc.net/problem/1924"
   ]
  },
  {
   "cell_type": "code",
   "execution_count": 31,
   "metadata": {},
   "outputs": [
    {
     "name": "stdout",
     "output_type": "stream",
     "text": [
      "2 1\n",
      "TUE\n"
     ]
    }
   ],
   "source": [
    "day = 0\n",
    "# 1~12월의 마지막 일\n",
    "date = [31, 28, 31, 30, 31, 30, 31, 31, 30, 31, 30, 31]\n",
    "weekday = ['SUN', 'MON', 'TUE', 'WED', 'THU', 'FRI', 'SAT']\n",
    "\n",
    "x, y = map(int, input().split())\n",
    "for i in range(x-1):    # x에 입력되는 달의 직전 달까지의 일수를 계산\n",
    "    day = day + date[i]\n",
    "day = (day + y) % 7\n",
    "print(weekday[day])"
   ]
  },
  {
   "cell_type": "markdown",
   "metadata": {},
   "source": [
    "# 입출력 8393"
   ]
  },
  {
   "cell_type": "markdown",
   "metadata": {},
   "source": [
    "https://www.acmicpc.net/problem/8393"
   ]
  },
  {
   "cell_type": "code",
   "execution_count": 32,
   "metadata": {},
   "outputs": [
    {
     "name": "stdout",
     "output_type": "stream",
     "text": [
      "3\n",
      "6\n"
     ]
    }
   ],
   "source": [
    "n = 0\n",
    "a = int(input())\n",
    "for i in range(1, a+1):\n",
    "    n += i\n",
    "print(n)"
   ]
  },
  {
   "cell_type": "markdown",
   "metadata": {},
   "source": [
    "# 입출력 10818"
   ]
  },
  {
   "cell_type": "markdown",
   "metadata": {},
   "source": [
    "https://www.acmicpc.net/problem/10818"
   ]
  },
  {
   "cell_type": "code",
   "execution_count": 41,
   "metadata": {},
   "outputs": [
    {
     "name": "stdout",
     "output_type": "stream",
     "text": [
      "5\n",
      "20 10 35 30 7\n",
      "7 35\n"
     ]
    }
   ],
   "source": [
    "n = int(input())\n",
    "a = list(map(int, input().split()))\n",
    "print(min(a), max(a))"
   ]
  },
  {
   "cell_type": "markdown",
   "metadata": {},
   "source": [
    "# 입출력 2438"
   ]
  },
  {
   "cell_type": "markdown",
   "metadata": {},
   "source": [
    "https://www.acmicpc.net/problem/2438"
   ]
  },
  {
   "cell_type": "code",
   "execution_count": 44,
   "metadata": {},
   "outputs": [
    {
     "name": "stdout",
     "output_type": "stream",
     "text": [
      "5\n",
      "*\n",
      "**\n",
      "***\n",
      "****\n",
      "*****\n"
     ]
    }
   ],
   "source": [
    "n = int(input())\n",
    "for i in range(1, n+1):\n",
    "    print('*'*i)"
   ]
  },
  {
   "cell_type": "markdown",
   "metadata": {},
   "source": [
    "# 입출력 2439"
   ]
  },
  {
   "cell_type": "markdown",
   "metadata": {},
   "source": [
    "https://www.acmicpc.net/problem/2439"
   ]
  },
  {
   "cell_type": "code",
   "execution_count": 48,
   "metadata": {},
   "outputs": [
    {
     "name": "stdout",
     "output_type": "stream",
     "text": [
      "5\n",
      "    *\n",
      "   **\n",
      "  ***\n",
      " ****\n",
      "*****\n"
     ]
    }
   ],
   "source": [
    "n = int(input())\n",
    "for i in range(1, n+1):\n",
    "    print(' ' * (n-i), end='')  # 공백 띄어주기\n",
    "    print('*' * i)"
   ]
  },
  {
   "cell_type": "markdown",
   "metadata": {},
   "source": [
    "# 입출력 2440"
   ]
  },
  {
   "cell_type": "markdown",
   "metadata": {},
   "source": [
    "https://www.acmicpc.net/problem/2440"
   ]
  },
  {
   "cell_type": "code",
   "execution_count": 49,
   "metadata": {},
   "outputs": [
    {
     "name": "stdout",
     "output_type": "stream",
     "text": [
      "5\n",
      "*****\n",
      "****\n",
      "***\n",
      "**\n",
      "*\n"
     ]
    }
   ],
   "source": [
    "n = int(input())\n",
    "for i in range(n, 0, -1):\n",
    "    print('*' * i)"
   ]
  },
  {
   "cell_type": "markdown",
   "metadata": {},
   "source": [
    "# 입출력 2441"
   ]
  },
  {
   "cell_type": "markdown",
   "metadata": {},
   "source": [
    "https://www.acmicpc.net/problem/2441"
   ]
  },
  {
   "cell_type": "code",
   "execution_count": 52,
   "metadata": {},
   "outputs": [
    {
     "name": "stdout",
     "output_type": "stream",
     "text": [
      "5\n",
      "*****\n",
      " ****\n",
      "  ***\n",
      "   **\n",
      "    *\n"
     ]
    }
   ],
   "source": [
    "n = int(input())\n",
    "for i in range(n, 0, -1):\n",
    "    print(' ' * (n-i), end='')\n",
    "    print('*' * i)"
   ]
  },
  {
   "cell_type": "markdown",
   "metadata": {},
   "source": [
    "# 입출력 2442"
   ]
  },
  {
   "cell_type": "markdown",
   "metadata": {},
   "source": [
    "https://www.acmicpc.net/problem/2442"
   ]
  },
  {
   "cell_type": "code",
   "execution_count": 56,
   "metadata": {},
   "outputs": [
    {
     "name": "stdout",
     "output_type": "stream",
     "text": [
      "10\n",
      "         *\n",
      "        ***\n",
      "       *****\n",
      "      *******\n",
      "     *********\n",
      "    ***********\n",
      "   *************\n",
      "  ***************\n",
      " *****************\n",
      "*******************\n"
     ]
    }
   ],
   "source": [
    "n = int(input())\n",
    "for i in range(1, n+1):\n",
    "    print(' ' * (n-i), end='')\n",
    "    print('*' * (2*i-1))"
   ]
  },
  {
   "cell_type": "markdown",
   "metadata": {},
   "source": [
    "# 입출력 2445"
   ]
  },
  {
   "cell_type": "markdown",
   "metadata": {},
   "source": [
    "https://www.acmicpc.net/problem/2445"
   ]
  },
  {
   "cell_type": "code",
   "execution_count": 67,
   "metadata": {},
   "outputs": [
    {
     "name": "stdout",
     "output_type": "stream",
     "text": [
      "5\n",
      "*        *\n",
      "**      **\n",
      "***    ***\n",
      "****  ****\n",
      "**********\n",
      "****  ****\n",
      "***    ***\n",
      "**      **\n",
      "*        *\n"
     ]
    }
   ],
   "source": [
    "n = int(input()) \n",
    "for i in range(1, n+1):\n",
    "    print('*' * i, end='')\n",
    "    print(' ' * ((n*2)-(i*2)), end='')\n",
    "    print('*' * i)\n",
    "    \n",
    "for i in range(1,n):\n",
    "    print('*'*(n-i), end='')\n",
    "    print(' ' * (i*2), end='')\n",
    "    print('*' *(n-i))"
   ]
  },
  {
   "cell_type": "markdown",
   "metadata": {},
   "source": [
    "# 입출력 2522"
   ]
  },
  {
   "cell_type": "markdown",
   "metadata": {},
   "source": [
    "https://www.acmicpc.net/problem/2522"
   ]
  },
  {
   "cell_type": "code",
   "execution_count": 74,
   "metadata": {},
   "outputs": [
    {
     "name": "stdout",
     "output_type": "stream",
     "text": [
      "5\n",
      "    *\n",
      "   **\n",
      "  ***\n",
      " ****\n",
      "*****\n",
      " ****\n",
      "  ***\n",
      "   **\n",
      "    *\n"
     ]
    }
   ],
   "source": [
    "n = int(input())\n",
    "\n",
    "for a in range(1, n+1):\n",
    "    print(('*' * a).rjust(n))\n",
    "for b in range(n-1, 0, -1):\n",
    "    print(('*' * b).rjust(n))"
   ]
  },
  {
   "cell_type": "markdown",
   "metadata": {},
   "source": [
    "# 입출력 2446"
   ]
  },
  {
   "cell_type": "markdown",
   "metadata": {},
   "source": [
    "https://www.acmicpc.net/problem/2446"
   ]
  },
  {
   "cell_type": "code",
   "execution_count": 82,
   "metadata": {},
   "outputs": [
    {
     "name": "stdout",
     "output_type": "stream",
     "text": [
      "5\n",
      "*********\n",
      " *******\n",
      "  *****\n",
      "   ***\n",
      "    *\n",
      "   ***\n",
      "  *****\n",
      " *******\n",
      "*********\n"
     ]
    }
   ],
   "source": [
    "n = int(input())\n",
    "\n",
    "for a in range(n, 0, -1):\n",
    "    print(' ' * (n-a), '*' * (a*2-1), sep='')  \n",
    "for b in range(2, n+1):\n",
    "    print(' ' * (n-b), '*' * (b*2-1), sep='')"
   ]
  },
  {
   "cell_type": "markdown",
   "metadata": {},
   "source": [
    "# 입출력 10991"
   ]
  },
  {
   "cell_type": "markdown",
   "metadata": {},
   "source": [
    "https://www.acmicpc.net/problem/10991"
   ]
  },
  {
   "cell_type": "code",
   "execution_count": 87,
   "metadata": {},
   "outputs": [
    {
     "name": "stdout",
     "output_type": "stream",
     "text": [
      "3\n",
      "  *\n",
      " * *\n",
      "* * *\n"
     ]
    }
   ],
   "source": [
    "n = int(input())\n",
    "for a in range(1, n+1):\n",
    "    print(' ' * (n-a), end='')\n",
    "    for b in range(1, a):\n",
    "        print('* ', sep='', end='')\n",
    "    print('*')"
   ]
  },
  {
   "cell_type": "markdown",
   "metadata": {},
   "source": [
    "# 입출력 10992"
   ]
  },
  {
   "cell_type": "markdown",
   "metadata": {},
   "source": [
    "https://www.acmicpc.net/problem/10992"
   ]
  },
  {
   "cell_type": "code",
   "execution_count": 91,
   "metadata": {},
   "outputs": [
    {
     "name": "stdout",
     "output_type": "stream",
     "text": [
      "3\n",
      "  *\n",
      " * *\n",
      "*****\n"
     ]
    }
   ],
   "source": [
    "n = int(input())\n",
    "for a in range(1, n+1):\n",
    "    if a == 1 or a == n:\n",
    "        print(' ' * (n-a), '*' * (2*a-1), sep='')\n",
    "    else:\n",
    "        print(' ' * (n-a), '*', ' ' * ((a-1) * 2 -1), '*', sep='')"
   ]
  },
  {
   "cell_type": "markdown",
   "metadata": {},
   "source": [
    "# Stack 10828"
   ]
  },
  {
   "cell_type": "markdown",
   "metadata": {},
   "source": [
    "https://www.acmicpc.net/problem/10828"
   ]
  },
  {
   "cell_type": "markdown",
   "metadata": {},
   "source": [
    "push X: 정수 X를 스택에 넣는 연산이다.<br>\n",
    "pop: 스택에서 가장 위에 있는 정수를 빼고, 그 수를 출력한다. 만약 스택에 들어있는 정수가 없는 경우에는 -1을 출력한다.<br>\n",
    "size: 스택에 들어있는 정수의 개수를 출력한다.<br>\n",
    "empty: 스택이 비어있으면 1, 아니면 0을 출력한다.<br>\n",
    "top: 스택의 가장 위에 있는 정수를 출력한다. 만약 스택에 들어있는 정수가 없는 경우에는 -1을 출력한다.<br><br>\n",
    "입력<br>\n",
    "첫째 줄에 주어지는 명령의 수 N (1 ≤ N ≤ 10,000)이 주어진다. 둘째 줄부터 N개의 줄에는 명령이 하나씩 주어진다. 주어지는 정수는 1보다 크거나 같고, 100,000보다 작거나 같다. 문제에 나와있지 않은 명령이 주어지는 경우는 없다."
   ]
  },
  {
   "cell_type": "code",
   "execution_count": null,
   "metadata": {},
   "outputs": [],
   "source": [
    "ip = input()\n",
    "def command(stack, cmd):\n",
    "    cmd = "
   ]
  },
  {
   "cell_type": "code",
   "execution_count": null,
   "metadata": {},
   "outputs": [],
   "source": []
  },
  {
   "cell_type": "code",
   "execution_count": null,
   "metadata": {},
   "outputs": [],
   "source": []
  },
  {
   "cell_type": "markdown",
   "metadata": {},
   "source": [
    "# 요세푸스 11866"
   ]
  },
  {
   "cell_type": "markdown",
   "metadata": {},
   "source": [
    "https://www.acmicpc.net/problem/11866"
   ]
  },
  {
   "cell_type": "code",
   "execution_count": 92,
   "metadata": {},
   "outputs": [
    {
     "data": {
      "text/plain": [
       "'N = 7\\nK = 3\\n1 2 3 4 5 6 7  \\n2 3 4 5 6 7 1\\n4 5 6 7 1 2   - 맨 앞 제거 (3)\\n5 6 7 1 2 4\\n7 1 2 4 5   - 6 제거'"
      ]
     },
     "execution_count": 92,
     "metadata": {},
     "output_type": "execute_result"
    }
   ],
   "source": [
    "'''N = 7\n",
    "K = 3\n",
    "1 2 3 4 5 6 7  \n",
    "2 3 4 5 6 7 1\n",
    "4 5 6 7 1 2   - 맨 앞 제거 (3)\n",
    "5 6 7 1 2 4\n",
    "7 1 2 4 5   - 6 제거'''"
   ]
  },
  {
   "cell_type": "code",
   "execution_count": 108,
   "metadata": {},
   "outputs": [
    {
     "name": "stdout",
     "output_type": "stream",
     "text": [
      "7 3\n",
      "<3, 6, 2, 7, 5, 1, 4>\n"
     ]
    }
   ],
   "source": [
    "def queue_push(q, value):\n",
    "    q.append(value)\n",
    "def queue_pop(q):\n",
    "    front = q.pop(0)\n",
    "    return front\n",
    "\n",
    "N, k = map(int, input().split())\n",
    "queue = []\n",
    "ans = []\n",
    "\n",
    "for i in range(1, N+1):\n",
    "    queue_push(queue, i)\n",
    "\n",
    "while len(queue) != 0:   \n",
    "    for i in range(k-1):  \n",
    "        front = queue_pop(queue)\n",
    "        queue_push(queue, front)    # for문 반복하고 그 다음 문장인 ans.append 실행, 그 이후 남은 queue로 다시 for문 시작\n",
    "    ans.append(queue_pop(queue))\n",
    "\n",
    "print('<' + ', '.join(map(str, ans)) + '>', sep='')"
   ]
  },
  {
   "cell_type": "code",
   "execution_count": null,
   "metadata": {},
   "outputs": [],
   "source": []
  },
  {
   "cell_type": "markdown",
   "metadata": {},
   "source": [
    "# Bronze 4 - 10039"
   ]
  },
  {
   "cell_type": "code",
   "execution_count": 7,
   "metadata": {},
   "outputs": [],
   "source": [
    "from tqdm import tqdm"
   ]
  },
  {
   "cell_type": "code",
   "execution_count": 17,
   "metadata": {},
   "outputs": [
    {
     "name": "stdout",
     "output_type": "stream",
     "text": [
      "10\n",
      "65\n",
      "40\n",
      "90\n",
      "100\n",
      "67\n"
     ]
    }
   ],
   "source": [
    "def mean(value : list):\n",
    "    j = 0\n",
    "    for i in value:\n",
    "        j += i\n",
    "    result = j // len(value)\n",
    "    return result\n",
    "\n",
    "grade = []\n",
    "for i in range(5):\n",
    "    a = int(input())\n",
    "    if a < 40:\n",
    "        grade.append(40)\n",
    "    else:\n",
    "        grade.append(a)\n",
    "        \n",
    "print(mean(grade))  "
   ]
  },
  {
   "cell_type": "markdown",
   "metadata": {},
   "source": [
    "# Bronze 3 - 2965"
   ]
  },
  {
   "cell_type": "markdown",
   "metadata": {},
   "source": [
    "좌표 간 차이가 적은 쪽이 차이가 큰 쪽으로 이동하는 게 이동횟수를 늘릴 수 있는 방법"
   ]
  },
  {
   "cell_type": "markdown",
   "metadata": {},
   "source": [
    "### 1번째 코드"
   ]
  },
  {
   "cell_type": "code",
   "execution_count": 21,
   "metadata": {
    "scrolled": true
   },
   "outputs": [
    {
     "name": "stdout",
     "output_type": "stream",
     "text": [
      "3 5 9\n",
      "[5, 6, 9]\n",
      "[6, 7, 9]\n",
      "[7, 8, 9]\n",
      "3\n"
     ]
    }
   ],
   "source": [
    "# (1) 만약 B-A가 C-B보다 작으면, A가 B와 C사이로 이동 | 만약 C-B가 B-A보다 작으면, C가 A와 B사이로 이동\n",
    "# (2) B와 C의 외곽으로 이동해야 하므로, B+1 혹은 C-1로 이동\n",
    "# (3) B, B+1, C 중 차이가 작은 쪽의 외곽 좌표에 있는 캥거루가 차이 큰 좌표 쪽으로 이동\n",
    "# 이 과정을 계속 반복하다가 좌표 끼리의 차이가 같아지면 while문 종료\n",
    "\n",
    "'''고려사항: 두 간격이 같으면 둘 중 하나 선택해서 진행\n",
    "(1) 두 간격 다른 경우\n",
    "(2) 두 간격 같은 경우\n",
    "(3) 반복문 중지 조건 : 두 간격이 모두 1이면 종료\n",
    "(4) 세 숫자 모두 같아서는 안됨\n",
    "'''\n",
    "A, B, C = map(int, input().split())\n",
    "stack = [A, B, C]\n",
    "cnt = 0\n",
    "\n",
    "'''\n",
    "3 5 9\n",
    "5 6 9\n",
    "6 7 9\n",
    "7 8 9\n",
    "'''\n",
    "while 1:\n",
    "    left = stack[1]-stack[0]\n",
    "    right = stack[2]-stack[1]\n",
    "    if left != right:\n",
    "        if (left == 1) and (right == 1):\n",
    "                break\n",
    "        else:\n",
    "            cnt += 1\n",
    "            if left < right:\n",
    "                stack[0] = stack[1] + 1\n",
    "                stack.sort()\n",
    "                print(stack)\n",
    "            elif right < left:\n",
    "                stack[2] = stack[0] + 1\n",
    "                stack.sort()\n",
    "                print(stack)\n",
    "    else:   # 7 8 9\n",
    "        if (left == 1) and (right == 1):\n",
    "                break\n",
    "        else:\n",
    "            cnt += 1\n",
    "            stack[0] = stack[1] + 1\n",
    "            stack.sort()\n",
    "            print(stack)\n",
    "        \n",
    "print(cnt)"
   ]
  },
  {
   "cell_type": "code",
   "execution_count": 7,
   "metadata": {},
   "outputs": [],
   "source": [
    "# A, B, C = map(int, input().split())\n",
    "# stack = [A, B, C]\n",
    "# cnt = 0\n",
    "# left = stack[1]-stack[0]\n",
    "# right = stack[2]-stack[1]\n",
    "\n",
    "# while 1:\n",
    "#     if left and right == 1:\n",
    "#         print('break')\n",
    "#         break\n",
    "#     else:\n",
    "#         print('keep going')"
   ]
  },
  {
   "cell_type": "markdown",
   "metadata": {},
   "source": [
    "### 2번째 코드"
   ]
  },
  {
   "cell_type": "code",
   "execution_count": 20,
   "metadata": {},
   "outputs": [
    {
     "name": "stdout",
     "output_type": "stream",
     "text": [
      "3 5 9\n",
      "[5, 6, 9]\n",
      "[6, 7, 9]\n",
      "[7, 8, 9]\n",
      "3\n"
     ]
    }
   ],
   "source": [
    "A, B, C = map(int, input().split())\n",
    "stack = [A, B, C]\n",
    "cnt = 0\n",
    "\n",
    "while 1:\n",
    "    left = stack[1]-stack[0]\n",
    "    right = stack[2]-stack[1]\n",
    "    if left == 1 and right == 1:\n",
    "        break\n",
    "    if left < right:\n",
    "        cnt += 1\n",
    "        stack[0] = stack[1] + 1\n",
    "        stack.sort()\n",
    "        print(stack)\n",
    "    else:\n",
    "        cnt += 1\n",
    "        stack[2] = stack[0] + 1\n",
    "        stack.sort()\n",
    "        print(stack)\n",
    "        \n",
    "print(cnt)"
   ]
  },
  {
   "cell_type": "markdown",
   "metadata": {},
   "source": [
    "### 구글링해서 찾은 코드"
   ]
  },
  {
   "cell_type": "code",
   "execution_count": 6,
   "metadata": {},
   "outputs": [
    {
     "name": "stdout",
     "output_type": "stream",
     "text": [
      "3 5 9\n",
      "3\n"
     ]
    }
   ],
   "source": [
    "'''A와 B 사이와 B와 C 사이의 길이를 비교한 후 큰 쪽 길이를 반환\n",
    "즉, 한칸씩 뛰기만 하면 된다.'''\n",
    "A, B, C = map(int, input().split())\n",
    "print(max(B-A, C-B) - 1)"
   ]
  },
  {
   "cell_type": "markdown",
   "metadata": {},
   "source": [
    "# bronze5 카드게임 - 5522"
   ]
  },
  {
   "cell_type": "code",
   "execution_count": 29,
   "metadata": {},
   "outputs": [
    {
     "name": "stdout",
     "output_type": "stream",
     "text": [
      "1\n",
      "1\n",
      "1\n",
      "1\n",
      "1\n",
      "5\n"
     ]
    }
   ],
   "source": [
    "ans = 0\n",
    "for _ in range(5):\n",
    "    ans += int(input())\n",
    "print(ans)"
   ]
  },
  {
   "cell_type": "markdown",
   "metadata": {},
   "source": [
    "# bronze2 노래악보 - 1392"
   ]
  },
  {
   "cell_type": "code",
   "execution_count": 30,
   "metadata": {},
   "outputs": [
    {
     "name": "stdout",
     "output_type": "stream",
     "text": [
      "2 3\n"
     ]
    }
   ],
   "source": [
    "N, Q = map(int, input().split())\n"
   ]
  },
  {
   "cell_type": "markdown",
   "metadata": {},
   "source": [
    "# bronze4 두 수 비교하기 - 1330"
   ]
  },
  {
   "cell_type": "code",
   "execution_count": 34,
   "metadata": {},
   "outputs": [
    {
     "name": "stdout",
     "output_type": "stream",
     "text": [
      "1 2\n",
      "<\n"
     ]
    }
   ],
   "source": [
    "a, b = map(int, input().split())\n",
    "if a > b:\n",
    "    print('>')\n",
    "elif a < b:\n",
    "    print('<')\n",
    "elif a == b:\n",
    "    print('==')"
   ]
  },
  {
   "cell_type": "markdown",
   "metadata": {},
   "source": [
    "# bronze4 시험성적 - 9498"
   ]
  },
  {
   "cell_type": "code",
   "execution_count": 35,
   "metadata": {},
   "outputs": [
    {
     "name": "stdout",
     "output_type": "stream",
     "text": [
      "50\n",
      "F\n"
     ]
    }
   ],
   "source": [
    "a = int(input())\n",
    "\n",
    "if a >= 90 and a <= 100:\n",
    "    print('A')\n",
    "elif a >= 80 and a <= 89:\n",
    "    print('B')\n",
    "elif a >= 70 and a <= 79:\n",
    "    print('C')\n",
    "elif a >= 60 and a <= 69:\n",
    "    print('D')\n",
    "else:\n",
    "    print('F')"
   ]
  },
  {
   "cell_type": "markdown",
   "metadata": {},
   "source": [
    "# bronze3 2의 제곱인가? - 11966"
   ]
  },
  {
   "cell_type": "code",
   "execution_count": 33,
   "metadata": {},
   "outputs": [
    {
     "name": "stdout",
     "output_type": "stream",
     "text": [
      "6\n",
      "0\n"
     ]
    }
   ],
   "source": [
    "n = int(input())\n",
    "a = -1\n",
    "\n",
    "while 1:\n",
    "    a += 1\n",
    "    if n >= (2 ** a):\n",
    "        if n == (2 ** a):\n",
    "            print(1)\n",
    "            break\n",
    "    else:\n",
    "        print(0)\n",
    "        break"
   ]
  },
  {
   "cell_type": "code",
   "execution_count": null,
   "metadata": {},
   "outputs": [],
   "source": [
    "print(1 if int(input()) in [2 ** i for i in range(31)] else 0)"
   ]
  },
  {
   "cell_type": "markdown",
   "metadata": {},
   "source": [
    "# bronze4 나머지  - 10430"
   ]
  },
  {
   "cell_type": "code",
   "execution_count": 7,
   "metadata": {},
   "outputs": [
    {
     "name": "stdout",
     "output_type": "stream",
     "text": [
      "5 8 4\n",
      "1\n",
      "1\n",
      "0\n",
      "0\n"
     ]
    }
   ],
   "source": [
    "a, b, c = map(int,input().split())\n",
    "print((a+b)%c)\n",
    "print(((a%c)+(b%c))%c)\n",
    "print((a*b)%c)\n",
    "print(((a%c) * (b%c))%c)"
   ]
  },
  {
   "cell_type": "markdown",
   "metadata": {},
   "source": [
    "# 실버5 최대공약수와 최소공배수 - 2609"
   ]
  },
  {
   "cell_type": "markdown",
   "metadata": {},
   "source": [
    "**최대공약수** <br>\n",
    "1) 유클리드(Euclidean) 공식 이용 <br>\n",
    "\n",
    "  - 큰 수 A를 작은 수 B로 나누어 떨어지면, A, B의 최대공약수는 B<br>\n",
    "\n",
    "  - A를 B로 나누었을 때 나머지가 R이면, A, B의 최대공약수는 R과 B의 최대공약수와 같다.<br>\n",
    "\n",
    "    GCM(A,B) = GCM(B,R) / ex) GCM(15,12) = GCM(12,3)<br><br>\n",
    "\n",
    "\n",
    "\n",
    "  유클리드 공식 이용 알고리즘 순서<br>\n",
    "\n",
    "  a. 두 수 A, B 중 큰 수, 작은 수를 판별한다.<br>\n",
    "\n",
    "  b. 큰 수를 작은 수로 나누어 나머지를 구한다.<br>\n",
    "\n",
    "    - if 나머지가 0 : 작은 수가 최대공약수<br>\n",
    "\n",
    "    - if 나머지가 0이 아니면 : 나누기 반복\n",
    "    \n",
    "<br><br><br>\n",
    "**최소공배수** <br>\n",
    "A * B / 최대공약수"
   ]
  },
  {
   "cell_type": "code",
   "execution_count": 27,
   "metadata": {},
   "outputs": [
    {
     "data": {
      "text/plain": [
       "\"\\na, b = map(int, input().split())\\n\\nif a >= b:\\n    if (a % b) == 0:\\n        gcd = b\\n        lcm = a\\n    elif b == 1:\\n        gcd = 1\\n        lcm = a\\n    else:\\n        if (a % b) != 0:\\n            x = a % b\\n            y = a // x\\n            z = b // x\\n            gcd = x\\n            lcm = x*y*z\\nelse:  # b가 a보다 큰 경우\\n    a, b = b, a\\n    if (a % b) == 0:\\n        gcd = b\\n        lcm = a\\n    elif (a % b) != 0:\\n        x = a % b\\n        y = a // x\\n        z = b // x\\n        gcd = x\\n        lcm = x * y * z\\n    elif b == 1:\\n        gcd = 1\\n        lcm = a\\nprint(gcd, lcm, sep='\\n')  \\n\""
      ]
     },
     "execution_count": 27,
     "metadata": {},
     "output_type": "execute_result"
    }
   ],
   "source": [
    "# 내 코드 (실패)\n",
    "# gcd 최대공약수, lcm 최소공배수\n",
    "'''\n",
    "a, b = map(int, input().split())\n",
    "\n",
    "if a >= b:\n",
    "    if (a % b) == 0:\n",
    "        gcd = b\n",
    "        lcm = a\n",
    "    elif b == 1:\n",
    "        gcd = 1\n",
    "        lcm = a\n",
    "    else:\n",
    "        if (a % b) != 0:\n",
    "            x = a % b\n",
    "            y = a // x\n",
    "            z = b // x\n",
    "            gcd = x\n",
    "            lcm = x*y*z\n",
    "else:  # b가 a보다 큰 경우\n",
    "    a, b = b, a\n",
    "    if (a % b) == 0:\n",
    "        gcd = b\n",
    "        lcm = a\n",
    "    elif (a % b) != 0:\n",
    "        x = a % b\n",
    "        y = a // x\n",
    "        z = b // x\n",
    "        gcd = x\n",
    "        lcm = x * y * z\n",
    "    elif b == 1:\n",
    "        gcd = 1\n",
    "        lcm = a\n",
    "print(gcd, lcm, sep='\\n')  \n",
    "'''"
   ]
  },
  {
   "cell_type": "markdown",
   "metadata": {},
   "source": [
    "최대공약수 <br>\n",
    "1) 큰 수를 작은 수로 나누어 구한 나머지를 큰 수로 대체 <br>\n",
    "2) 큰 수를 작은 수로 계속 나누고, 나머지가 0이 될 때까지 반복 <br>\n",
    "3) 나누는 수가 최대공약수 <br><br>\n",
    "최소공배수<br>\n",
    "1) 큰 수 * 작은 수 / 최대공약수"
   ]
  },
  {
   "cell_type": "code",
   "execution_count": 26,
   "metadata": {},
   "outputs": [
    {
     "name": "stdout",
     "output_type": "stream",
     "text": [
      "11 7\n",
      "1\n",
      "77\n"
     ]
    }
   ],
   "source": [
    "# a = 큰 수, b = 작은 수\n",
    "A, B = map(int, input().split())\n",
    "a, b = A, B\n",
    "\n",
    "if B > A:\n",
    "    A, B = B, A\n",
    "    a, b = b, a\n",
    "\n",
    "while b != 0:    # b가 0이 아니면 while문 반복\n",
    "    a = a % b\n",
    "    if b > a:\n",
    "        a, b = b, a\n",
    "\n",
    "gcd = a\n",
    "lcm = int(A * B / gcd)\n",
    "print(gcd, lcm, sep='\\n')"
   ]
  },
  {
   "cell_type": "markdown",
   "metadata": {},
   "source": [
    "# 실버3 1, 2, 3 더하기 - 9095"
   ]
  },
  {
   "cell_type": "markdown",
   "metadata": {},
   "source": [
    "점화식<br>\n",
    "f(n) = f(n-1) + f(n-2) + f(n-3)  (n>3)"
   ]
  },
  {
   "cell_type": "markdown",
   "metadata": {},
   "source": [
    "f(1) = 1 <br>\n",
    "f(2) = 2 <br>\n",
    "f(3) = 4 <br>\n",
    "f(4) = 7 <br>\n",
    "f(5) = 13 <br>\n",
    "f(6) = 24"
   ]
  },
  {
   "cell_type": "code",
   "execution_count": 37,
   "metadata": {},
   "outputs": [
    {
     "name": "stdout",
     "output_type": "stream",
     "text": [
      "3\n",
      "4\n",
      "7\n",
      "10\n",
      "7\n",
      "44\n",
      "274\n"
     ]
    }
   ],
   "source": [
    "T = int(input())\n",
    "T_list = []\n",
    "dp = [1, 2, 4]\n",
    "\n",
    "for i in range(T):\n",
    "    T_list.append(int(input()))\n",
    "\n",
    "for i in range(3, max(T_list)):\n",
    "    dp.append(dp[i-1] + dp[i-2] + dp[i-3])\n",
    "    \n",
    "for i in T_list:\n",
    "    print(dp[i-1])"
   ]
  },
  {
   "cell_type": "markdown",
   "metadata": {},
   "source": [
    "# 브론즈2 일곱 난쟁이 - 2309"
   ]
  },
  {
   "cell_type": "markdown",
   "metadata": {},
   "source": [
    "브루트포스 : 모든 경우를 직접 다 해본다"
   ]
  },
  {
   "cell_type": "markdown",
   "metadata": {},
   "source": [
    "random 모듈 사용했을 경우의 코드(직접 짠 코드) <br>\n",
    "--> 그러나. random 모듈은 백준에서 사용할 수 없다."
   ]
  },
  {
   "cell_type": "code",
   "execution_count": 1,
   "metadata": {},
   "outputs": [
    {
     "name": "stdout",
     "output_type": "stream",
     "text": [
      "20\n",
      "7\n",
      "23\n",
      "19\n",
      "10\n",
      "15\n",
      "25\n",
      "8\n",
      "13\n",
      "[10, 7, 8, 20, 23, 13, 19]\n"
     ]
    }
   ],
   "source": [
    "import random\n",
    "\n",
    "li = []\n",
    "def save_height():\n",
    "    for _ in range(9):\n",
    "        height = int(input())\n",
    "        li.append(height)\n",
    "    return li\n",
    "\n",
    "save_height()\n",
    "\n",
    "while 1:\n",
    "    nanz = random.sample(li, 7)\n",
    "    if sum(nanz) == 100:\n",
    "        print(nanz)\n",
    "        break\n",
    "    else:\n",
    "        continue\n",
    "    "
   ]
  },
  {
   "cell_type": "code",
   "execution_count": 2,
   "metadata": {},
   "outputs": [
    {
     "name": "stdout",
     "output_type": "stream",
     "text": [
      "20\n",
      "7\n",
      "23\n",
      "19\n",
      "10\n",
      "15\n",
      "25\n",
      "8\n",
      "13\n",
      "7\n",
      "8\n",
      "10\n",
      "13\n",
      "19\n",
      "20\n",
      "23\n"
     ]
    }
   ],
   "source": [
    "li = []\n",
    "# a = 0\n",
    "# b = 0\n",
    "def save_height():\n",
    "    for _ in range(9):\n",
    "        height = int(input())\n",
    "        li.append(height)\n",
    "    return li\n",
    "\n",
    "height = save_height()\n",
    "for i in range(8):\n",
    "    for j in range(i + 1, 9):\n",
    "        if sum(height) - (height[i] + height[j]) == 100:\n",
    "            a = height[i]\n",
    "            b = height[j]\n",
    "            break\n",
    "\n",
    "height.remove(a)\n",
    "height.remove(b)\n",
    "height.sort()\n",
    "for i in height:\n",
    "    print(i)"
   ]
  },
  {
   "cell_type": "markdown",
   "metadata": {},
   "source": [
    "# 브론즈1 단어 뒤집기 - 9093"
   ]
  },
  {
   "cell_type": "code",
   "execution_count": 33,
   "metadata": {},
   "outputs": [
    {
     "name": "stdout",
     "output_type": "stream",
     "text": [
      "1\n",
      "i am happy\n",
      "i ma yppah "
     ]
    }
   ],
   "source": [
    "for _ in range(int(input())):\n",
    "    for i in input().split():\n",
    "        print(i[::-1], end=' ')"
   ]
  },
  {
   "cell_type": "markdown",
   "metadata": {},
   "source": [
    "# 실버5 집합 - 11723"
   ]
  },
  {
   "cell_type": "markdown",
   "metadata": {},
   "source": [
    "## class의 self 잘 알아두기 <br>\n",
    "https://wikidocs.net/28"
   ]
  },
  {
   "cell_type": "markdown",
   "metadata": {},
   "source": [
    "### 직접 짠 코드 (제대로 작동은 하지만 시간 초과)"
   ]
  },
  {
   "cell_type": "code",
   "execution_count": 93,
   "metadata": {},
   "outputs": [
    {
     "name": "stdout",
     "output_type": "stream",
     "text": [
      "26\n",
      "add 1\n",
      "add 2\n",
      "check 1\n",
      "1\n",
      "check 2\n",
      "1\n",
      "check 3\n",
      "0\n",
      "remove 2\n",
      "check 1\n",
      "1\n",
      "check 2\n",
      "0\n",
      "toggle 3\n",
      "check 1\n",
      "1\n",
      "check 2\n",
      "0\n",
      "check 3\n",
      "1\n",
      "check 4\n",
      "0\n",
      "all\n",
      "check 10\n",
      "1\n",
      "check 20\n",
      "1\n",
      "toggle 10\n",
      "remove 20\n",
      "check 10\n",
      "0\n",
      "check 20\n",
      "0\n",
      "empty\n",
      "check 1\n",
      "0\n",
      "toggle 1\n",
      "check 1\n",
      "1\n",
      "toggle 1\n",
      "check 1\n",
      "0\n"
     ]
    }
   ],
   "source": [
    "M = int(input())\n",
    "S = set()\n",
    "\n",
    "class cal:\n",
    "    def add(self, num):\n",
    "        self.num = num  # 주의!\n",
    "        global S\n",
    "        S.add(self.num)\n",
    "        \n",
    "    def remove(self, num):\n",
    "        self.num = num\n",
    "        global S\n",
    "        if self.num in S:\n",
    "            S.remove(self.num)\n",
    "        else:\n",
    "            S = S\n",
    "            \n",
    "    def check(self, num):\n",
    "        self.num = num\n",
    "        global S\n",
    "        if self.num in S:\n",
    "            print(1)\n",
    "        else:\n",
    "            print(0)\n",
    "            \n",
    "    def toggle(self, num):\n",
    "        self.num = num\n",
    "        global S\n",
    "        if self.num in S:\n",
    "            S.remove(self.num)\n",
    "        else:\n",
    "            S.add(self.num)\n",
    "    \n",
    "    def all_func(self):  # 제대로 작동 안하는 중\n",
    "        global S\n",
    "        S = set([x for x in range(1, 21)])\n",
    "            \n",
    "    def empty(self):  # 제대로 작동 안함\n",
    "        global S\n",
    "        S = set()\n",
    "\n",
    "cal = cal()\n",
    "        \n",
    "for _ in range(M):\n",
    "    tmp = input().strip().split()\n",
    "    if len(tmp) == 1:\n",
    "        if tmp[0] == \"all\":\n",
    "            cal.all_func()\n",
    "        elif tmp[0] == \"empty\":\n",
    "            cal.empty()\n",
    "    else:\n",
    "        func, n = tmp[0], tmp[1]\n",
    "        n = int(n)\n",
    "        if func == \"add\":\n",
    "            cal.add(n)\n",
    "        elif func == \"remove\":\n",
    "            cal.remove(n)\n",
    "        elif func == \"check\":\n",
    "            cal.check(n)\n",
    "        elif func == \"toggle\":\n",
    "            cal.toggle(n)"
   ]
  },
  {
   "cell_type": "markdown",
   "metadata": {},
   "source": [
    "### 아래 코드도 시간 초과 --> sys 활용해서 다시 제출"
   ]
  },
  {
   "cell_type": "code",
   "execution_count": 96,
   "metadata": {},
   "outputs": [
    {
     "name": "stdout",
     "output_type": "stream",
     "text": [
      "5\n",
      "add 1\n",
      "add 2\n",
      "add 3\n",
      "add 4\n",
      "all\n"
     ]
    }
   ],
   "source": [
    "M = int(input())\n",
    "S = set()\n",
    "\n",
    "for _ in range(M):\n",
    "    tmp = input().strip().split()\n",
    "    if len(tmp) == 1:\n",
    "        if tmp[0] == \"all\":\n",
    "            S = set([x for x in range(1, 21)])\n",
    "        elif tmp[0] == \"empty\":\n",
    "            S = set()\n",
    "    else:\n",
    "        func, n = tmp[0], tmp[1]\n",
    "        n = int(n)\n",
    "        if func == \"add\":\n",
    "            S.add(n)\n",
    "        elif func == \"remove\":\n",
    "            if n in S:\n",
    "                S.remove(n)\n",
    "            else: \n",
    "                S = S\n",
    "        elif func == \"check\":\n",
    "            print(1 if n in S else 0)\n",
    "        elif func == \"toggle\":\n",
    "            if n in S:\n",
    "                S.remove(n)\n",
    "            else: \n",
    "                S.add(n)"
   ]
  },
  {
   "cell_type": "code",
   "execution_count": 99,
   "metadata": {},
   "outputs": [],
   "source": [
    "# import sys\n",
    "# M = int(sys.stdin.readline())\n",
    "# S = set()\n",
    "\n",
    "# for _ in range(M):\n",
    "#     tmp = sys.stdin.readline().strip().split()\n",
    "#     if len(tmp) == 1:\n",
    "#         if tmp[0] == \"all\":\n",
    "#             S = set([x for x in range(1, 21)])\n",
    "#         elif tmp[0] == \"empty\":\n",
    "#             S = set()\n",
    "#     else:\n",
    "#         func, n = tmp[0], tmp[1]\n",
    "#         n = int(n)\n",
    "#         if func == \"add\":\n",
    "#             S.add(n)\n",
    "#         elif func == \"remove\":\n",
    "#             if n in S:\n",
    "#                 S.remove(n)\n",
    "#             else: \n",
    "#                 S = S\n",
    "#         elif func == \"check\":\n",
    "#             print(1 if n in S else 0)\n",
    "#         elif func == \"toggle\":\n",
    "#             if n in S:\n",
    "#                 S.remove(n)\n",
    "#             else: \n",
    "#                 S.add(n)"
   ]
  },
  {
   "cell_type": "markdown",
   "metadata": {},
   "source": [
    "# 실버5 3의 배수"
   ]
  },
  {
   "cell_type": "markdown",
   "metadata": {},
   "source": [
    "* sys.stdin.readline : https://velog.io/@yeseolee/Python-%ED%8C%8C%EC%9D%B4%EC%8D%AC-%EC%9E%85%EB%A0%A5-%EC%A0%95%EB%A6%ACsys.stdin.readline"
   ]
  },
  {
   "cell_type": "code",
   "execution_count": 31,
   "metadata": {},
   "outputs": [],
   "source": [
    "# import sys\n",
    "# X = list(map(int, sys.stdin.readline()))\n",
    "# # A, B = list(map(int, sys.stdin.readline().split()))\n",
    "# # print(A + B)"
   ]
  },
  {
   "cell_type": "code",
   "execution_count": 36,
   "metadata": {},
   "outputs": [],
   "source": [
    "X = input()\n",
    "# Y가 한 자리수가 될 때까지 몇 번?\n",
    "# Y는 3의 배수인가?\n",
    "li = \",\".join(list(X))\n",
    "\n"
   ]
  },
  {
   "cell_type": "code",
   "execution_count": 37,
   "metadata": {},
   "outputs": [
    {
     "data": {
      "text/plain": [
       "'1234567'"
      ]
     },
     "execution_count": 37,
     "metadata": {},
     "output_type": "execute_result"
    }
   ],
   "source": [
    "X"
   ]
  },
  {
   "cell_type": "code",
   "execution_count": 44,
   "metadata": {},
   "outputs": [
    {
     "data": {
      "text/plain": [
       "'1,2,3,4,5,6,7'"
      ]
     },
     "execution_count": 44,
     "metadata": {},
     "output_type": "execute_result"
    }
   ],
   "source": [
    "li = \",\".join(list(X))\n",
    "li"
   ]
  },
  {
   "cell_type": "code",
   "execution_count": 48,
   "metadata": {},
   "outputs": [
    {
     "data": {
      "text/plain": [
       "28"
      ]
     },
     "execution_count": 48,
     "metadata": {},
     "output_type": "execute_result"
    }
   ],
   "source": [
    "y = sum(list(map(int, li.split(','))))\n",
    "y"
   ]
  },
  {
   "cell_type": "code",
   "execution_count": 82,
   "metadata": {
    "scrolled": true
   },
   "outputs": [
    {
     "name": "stdout",
     "output_type": "stream",
     "text": [
      "3\n",
      "NO\n"
     ]
    }
   ],
   "source": [
    "X = input()\n",
    "n = 0\n",
    "Y = X\n",
    "\n",
    "while 1:\n",
    "    n += 1\n",
    "    s = ','.join(list(Y))\n",
    "    Y = str(sum(list(map(int, s.split(',')))))\n",
    "    \n",
    "    try:\n",
    "        if len(X) <= 1000000:\n",
    "            if len(Y) == 1:\n",
    "                if int(Y) % 3 == 0:\n",
    "                    if int(Y) == 0:\n",
    "                        print(n)\n",
    "                        print('NO')\n",
    "                    else:\n",
    "                        print(n)\n",
    "                        print('YES')\n",
    "                else:\n",
    "                    print(n)\n",
    "                    print('NO')\n",
    "                break\n",
    "            else:\n",
    "                continue\n",
    "    except:\n",
    "        break\n"
   ]
  },
  {
   "cell_type": "markdown",
   "metadata": {},
   "source": [
    "# 2021.11.21 다시 시작"
   ]
  },
  {
   "cell_type": "markdown",
   "metadata": {},
   "source": [
    "# 문자열 처리 10808(bronze 2)"
   ]
  },
  {
   "cell_type": "code",
   "execution_count": 46,
   "metadata": {},
   "outputs": [
    {
     "name": "stdout",
     "output_type": "stream",
     "text": [
      "abcde\n",
      "1 1 1 1 1 0 0 0 0 0 0 0 0 0 0 0 0 0 0 0 0 0 0 0 0 0 "
     ]
    }
   ],
   "source": [
    "import collections\n",
    "# 알파벳 소문자로 이루어진 단어 S가 주어진다. 각 알파벳이 단어에 몇 개가 포함되어 있는지 구하라\n",
    "\n",
    "def count_alphabet(li: list, s: str):\n",
    "    output = []\n",
    "    for i in li:\n",
    "        output.append(s.count(i))\n",
    "    # 리스트 내부 str으로 변환 (join 사용할거면 리스트 내부 str으로 변환)\n",
    "#     output = list(map(lambda x: str(x), output))\n",
    "    # 공백 추가\n",
    "#     output = \" \".join(output)\n",
    "    \n",
    "    for i in output:\n",
    "        print(i, end=' ')\n",
    "\n",
    "\n",
    "li = ['a','b','c','d','e','f','g','h','i','j','k','l','m','n','o', 'p', 'q', 'r','s','t','u','v','w','x','y','z']\n",
    "s = input()\n",
    "\n",
    "count_alphabet(li, s)"
   ]
  },
  {
   "cell_type": "markdown",
   "metadata": {},
   "source": [
    "# 문자열 처리 10809(bronze 2)"
   ]
  },
  {
   "cell_type": "code",
   "execution_count": 53,
   "metadata": {
    "scrolled": false
   },
   "outputs": [
    {
     "name": "stdout",
     "output_type": "stream",
     "text": [
      "baekjoon\n",
      "1 0 -1 -1 2 -1 -1 -1 -1 4 3 -1 -1 7 5 -1 -1 -1 -1 -1 -1 -1 -1 -1 -1 -1 "
     ]
    }
   ],
   "source": [
    "li = ['a','b','c','d','e','f','g','h','i','j','k','l','m','n','o', 'p', 'q', 'r','s','t','u','v','w','x','y','z']\n",
    "s = input()\n",
    "output = []\n",
    "\n",
    "for i in li:\n",
    "    print(s.find(i), end = \" \")"
   ]
  },
  {
   "cell_type": "markdown",
   "metadata": {},
   "source": [
    "# 문자열 처리 10820(bronze 2)"
   ]
  },
  {
   "cell_type": "code",
   "execution_count": 2,
   "metadata": {
    "scrolled": false
   },
   "outputs": [],
   "source": [
    "while 1:\n",
    "    try:\n",
    "        lower, upper, num, blank = 0, 0, 0, 0\n",
    "        \n",
    "        for i in input():\n",
    "            if i.islower():\n",
    "                lower += 1\n",
    "            elif i.isupper():\n",
    "                upper += 1\n",
    "            elif i.isdigit():\n",
    "                num += 1\n",
    "            else:\n",
    "                blank += 1\n",
    "        \n",
    "        print(lower, upper, num, blank)\n",
    "        \n",
    "    except EOFError:\n",
    "        break"
   ]
  },
  {
   "cell_type": "markdown",
   "metadata": {},
   "source": [
    "# 문자열 처리 2743(bronze 2)"
   ]
  },
  {
   "cell_type": "code",
   "execution_count": 4,
   "metadata": {},
   "outputs": [
    {
     "name": "stdout",
     "output_type": "stream",
     "text": [
      "ABCdef\n",
      "6\n"
     ]
    }
   ],
   "source": [
    "a = input()\n",
    "print(len(a))"
   ]
  },
  {
   "cell_type": "markdown",
   "metadata": {},
   "source": [
    "# 문자열 처리 11655(bronze 1)"
   ]
  },
  {
   "cell_type": "code",
   "execution_count": null,
   "metadata": {},
   "outputs": [],
   "source": [
    "ABCDEFGHIJ K  L  M  N  O PQRSTUVWXYZ\n",
    "0123456789 10 11 12 13"
   ]
  },
  {
   "cell_type": "code",
   "execution_count": 26,
   "metadata": {},
   "outputs": [
    {
     "name": "stdout",
     "output_type": "stream",
     "text": [
      "One is 1\n",
      "Bar vf 1\n"
     ]
    }
   ],
   "source": [
    "alpha = 'abcdefghijklmnopqrstuvwxyz'\n",
    "ALPHA = 'ABCDEFGHIJKLMNOPQRSTUVWXYZ'\n",
    "result = ''\n",
    "\n",
    "for i in input():\n",
    "    if i.islower():\n",
    "        if alpha.find(i) + 13 <= 25:\n",
    "            result += alpha[alpha.find(i) + 13]\n",
    "        else:\n",
    "            result += alpha[alpha.find(i) - 13]\n",
    "    elif i.isupper():\n",
    "        if ALPHA.find(i) + 13 <= 25:\n",
    "            result += ALPHA[ALPHA.find(i) + 13]\n",
    "        else:\n",
    "            result += ALPHA[ALPHA.find(i) - 13]\n",
    "    elif i.isdigit():\n",
    "        result += i\n",
    "    else:\n",
    "        result += i\n",
    "        \n",
    "print(result)"
   ]
  },
  {
   "cell_type": "markdown",
   "metadata": {},
   "source": [
    "# 문자열 처리 10824(bronze 3)"
   ]
  },
  {
   "cell_type": "code",
   "execution_count": 34,
   "metadata": {},
   "outputs": [
    {
     "name": "stdout",
     "output_type": "stream",
     "text": [
      "10 20 30 40\n",
      "4060\n"
     ]
    }
   ],
   "source": [
    "a, b, c, d = list(map(int, input().split()))\n",
    "ab = ''\n",
    "cd = ''\n",
    "\n",
    "if (a or b or c or d >= 1) and (a or b or c or d) <= 1000000:\n",
    "    ab += str(a)\n",
    "    ab += str(b)\n",
    "    cd += str(c)\n",
    "    cd += str(d)\n",
    "    abcd = int(ab) + int(cd)\n",
    "    print(abcd)"
   ]
  },
  {
   "cell_type": "markdown",
   "metadata": {},
   "source": [
    "# 문자열 처리 11656(silver 4)"
   ]
  },
  {
   "cell_type": "code",
   "execution_count": null,
   "metadata": {},
   "outputs": [],
   "source": []
  },
  {
   "cell_type": "code",
   "execution_count": null,
   "metadata": {},
   "outputs": [],
   "source": []
  },
  {
   "cell_type": "markdown",
   "metadata": {},
   "source": [
    "# 정렬 2752(bronze 4)"
   ]
  },
  {
   "cell_type": "code",
   "execution_count": 42,
   "metadata": {},
   "outputs": [
    {
     "name": "stdout",
     "output_type": "stream",
     "text": [
      "3 1 2\n",
      "1 2 3 "
     ]
    }
   ],
   "source": [
    "a, b, c = list(map(int, input().split()))\n",
    "li = sorted([a, b, c])\n",
    "for i in li:\n",
    "    print(i, end = ' ')"
   ]
  },
  {
   "cell_type": "markdown",
   "metadata": {},
   "source": [
    "# 정렬 5576(bronze 2)"
   ]
  },
  {
   "cell_type": "code",
   "execution_count": 53,
   "metadata": {},
   "outputs": [
    {
     "name": "stdout",
     "output_type": "stream",
     "text": [
      "23\n",
      "23\n",
      "20\n",
      "15\n",
      "15\n",
      "14\n",
      "13\n",
      "9\n",
      "7\n",
      "6\n",
      "25\n",
      "19\n",
      "17\n",
      "17\n",
      "16\n",
      "13\n",
      "12\n",
      "11\n",
      "9\n",
      "5\n",
      "66 61\n"
     ]
    }
   ],
   "source": [
    "W = []\n",
    "K = []\n",
    "\n",
    "for i in range(20):\n",
    "    if i <= 9:\n",
    "        W.append(int(input()))\n",
    "    else:\n",
    "        K.append(int(input()))\n",
    "        \n",
    "W.sort()\n",
    "K.sort()\n",
    "print(W[-1]+W[-2]+W[-3], K[-1]+K[-2]+K[-3])"
   ]
  },
  {
   "cell_type": "markdown",
   "metadata": {},
   "source": [
    "# 정렬 2750(bronze 1)"
   ]
  },
  {
   "cell_type": "code",
   "execution_count": 62,
   "metadata": {},
   "outputs": [
    {
     "name": "stdout",
     "output_type": "stream",
     "text": [
      "3\n",
      "2\n",
      "3\n",
      "1\n",
      "1\n",
      "2\n",
      "3\n"
     ]
    }
   ],
   "source": [
    "T = int(input())\n",
    "li = []\n",
    "\n",
    "for _ in range(T):\n",
    "    li.append(int(input()))\n",
    "    li.sort()\n",
    "    \n",
    "for i in li:\n",
    "    print(i)"
   ]
  },
  {
   "cell_type": "markdown",
   "metadata": {},
   "source": [
    "# 자료구조 - 스택 10828(silver 4)"
   ]
  },
  {
   "cell_type": "markdown",
   "metadata": {},
   "source": [
    "![nn](stack.png)"
   ]
  },
  {
   "cell_type": "code",
   "execution_count": 94,
   "metadata": {},
   "outputs": [
    {
     "name": "stdout",
     "output_type": "stream",
     "text": [
      "5\n",
      "push 2\n",
      "push 3\n",
      "empty\n",
      "0\n",
      "pop\n",
      "3\n",
      "top\n",
      "2\n"
     ]
    }
   ],
   "source": [
    "n = int(input())\n",
    "stack = []\n",
    "\n",
    "for _ in range(n):\n",
    "    comm = input()\n",
    "    \n",
    "    if comm.split(' ')[0] == 'push':\n",
    "        stack.append(int(comm.split(' ')[1]))\n",
    "    elif comm == 'pop':\n",
    "        if stack == []:\n",
    "            print(-1)\n",
    "        else:\n",
    "            print(stack.pop())\n",
    "    elif comm == 'size':\n",
    "        print(len(stack))\n",
    "    elif comm == 'empty':\n",
    "        if stack == []:\n",
    "            print(1)\n",
    "        else:\n",
    "            print(0)\n",
    "    elif comm == 'top':\n",
    "        if stack == []:\n",
    "            print(-1)\n",
    "        else:\n",
    "            print(stack[-1])"
   ]
  },
  {
   "cell_type": "markdown",
   "metadata": {},
   "source": [
    "# 자료구조 - 큐 10845(silver 4)"
   ]
  },
  {
   "cell_type": "markdown",
   "metadata": {},
   "source": [
    "![nn](queue.png)"
   ]
  },
  {
   "cell_type": "code",
   "execution_count": 95,
   "metadata": {},
   "outputs": [
    {
     "name": "stdout",
     "output_type": "stream",
     "text": [
      "15\n",
      "push 1\n",
      "push 2\n",
      "front\n",
      "1\n",
      "back\n",
      "2\n",
      "size\n",
      "2\n",
      "empty\n",
      "0\n",
      "pop\n",
      "1\n",
      "pop\n",
      "2\n",
      "pop\n",
      "-1\n",
      "size\n",
      "0\n",
      "empty\n",
      "1\n",
      "pop\n",
      "-1\n",
      "push 3\n",
      "empty\n",
      "0\n",
      "front\n",
      "3\n"
     ]
    }
   ],
   "source": [
    "n = int(input())\n",
    "queue = []\n",
    "\n",
    "for _ in range(n):\n",
    "    comm = input().split()\n",
    "    \n",
    "    if comm[0] == 'push':\n",
    "        queue.insert(0, comm[1])\n",
    "    elif comm[0] == 'pop':\n",
    "        if len(queue) == 0:\n",
    "            print(-1)\n",
    "        else:\n",
    "            print(queue.pop())\n",
    "    elif comm[0] == 'size':\n",
    "        print(len(queue))\n",
    "    elif comm[0] == 'empty':\n",
    "        if len(queue) == 0:\n",
    "            print(1)\n",
    "        else:\n",
    "            print(0)\n",
    "    elif comm[0] == 'front':\n",
    "        if len(queue) == 0:\n",
    "            print(-1)\n",
    "        else:\n",
    "            print(queue[-1])\n",
    "    elif comm[0] == 'back':\n",
    "        if len(queue) == 0:\n",
    "            print(-1)\n",
    "        else:\n",
    "            print(queue[0])"
   ]
  },
  {
   "cell_type": "markdown",
   "metadata": {},
   "source": [
    "# A/B 1008 "
   ]
  },
  {
   "cell_type": "code",
   "execution_count": 100,
   "metadata": {},
   "outputs": [
    {
     "name": "stdout",
     "output_type": "stream",
     "text": [
      "4 5\n"
     ]
    },
    {
     "data": {
      "text/plain": [
       "0.8"
      ]
     },
     "execution_count": 100,
     "metadata": {},
     "output_type": "execute_result"
    }
   ],
   "source": [
    "a, b = list(map(int, input().split()))\n",
    "a/b"
   ]
  },
  {
   "cell_type": "markdown",
   "metadata": {},
   "source": [
    "# 단어의 개수 1152 (bronze 2)"
   ]
  },
  {
   "cell_type": "code",
   "execution_count": 106,
   "metadata": {},
   "outputs": [
    {
     "name": "stdout",
     "output_type": "stream",
     "text": [
      " The first character is a blank\n",
      "6\n"
     ]
    }
   ],
   "source": [
    "s = input()\n",
    "print(len(s.split()))"
   ]
  },
  {
   "cell_type": "markdown",
   "metadata": {},
   "source": [
    "# 단어 공부 1157 (bronze 1)"
   ]
  },
  {
   "cell_type": "code",
   "execution_count": 193,
   "metadata": {},
   "outputs": [
    {
     "name": "stdout",
     "output_type": "stream",
     "text": [
      "z\n",
      "Z\n"
     ]
    }
   ],
   "source": [
    "# 내 코드(제대로 작동하지만 백준에 제출하면 시간초과)\n",
    "import collections\n",
    "\n",
    "s = input().upper()\n",
    "dict = collections.defaultdict(int)\n",
    "key = []\n",
    "value = []\n",
    "\n",
    "for i in s:\n",
    "    dict[i] = s.count(i)\n",
    "    \n",
    "for k, v in dict.items():\n",
    "    key.append(k)\n",
    "    value.append(v)\n",
    "    \n",
    "if len(value) != len(set(value)):\n",
    "    print('?')\n",
    "else:\n",
    "    dict = sorted(dict.items(), reverse=True)\n",
    "    print(dict[0][0])"
   ]
  },
  {
   "cell_type": "code",
   "execution_count": 215,
   "metadata": {},
   "outputs": [
    {
     "name": "stdout",
     "output_type": "stream",
     "text": [
      "zzzZ\n",
      "Z\n"
     ]
    }
   ],
   "source": [
    "words = input().upper()\n",
    "unique = list(set(words))\n",
    "cnt = []\n",
    "\n",
    "for x in unique:\n",
    "    cnt.append(words.count(x))\n",
    "if cnt.count(max(cnt)) > 1:\n",
    "    print(\"?\")\n",
    "else:\n",
    "    max_idx = cnt.index(max(cnt))\n",
    "    print(unique[max_idx])"
   ]
  },
  {
   "cell_type": "markdown",
   "metadata": {},
   "source": [
    "# 평균 1546 (bronze 1)"
   ]
  },
  {
   "cell_type": "code",
   "execution_count": 231,
   "metadata": {},
   "outputs": [
    {
     "name": "stdout",
     "output_type": "stream",
     "text": [
      "3\n",
      "10 20 30\n",
      "66.66666666666667\n"
     ]
    }
   ],
   "source": [
    "N = int(input())\n",
    "li = list(map(int, input().split()))\n",
    "M = max(li)\n",
    "lili = []\n",
    "for i in li:\n",
    "    lili.append(i/M*100)\n",
    "print(sum(lili)/len(lili))"
   ]
  },
  {
   "cell_type": "code",
   "execution_count": null,
   "metadata": {},
   "outputs": [],
   "source": []
  },
  {
   "cell_type": "code",
   "execution_count": null,
   "metadata": {},
   "outputs": [],
   "source": []
  },
  {
   "cell_type": "code",
   "execution_count": null,
   "metadata": {},
   "outputs": [],
   "source": []
  },
  {
   "cell_type": "code",
   "execution_count": null,
   "metadata": {},
   "outputs": [],
   "source": []
  },
  {
   "cell_type": "code",
   "execution_count": null,
   "metadata": {},
   "outputs": [],
   "source": []
  },
  {
   "cell_type": "code",
   "execution_count": null,
   "metadata": {},
   "outputs": [],
   "source": []
  }
 ],
 "metadata": {
  "interpreter": {
   "hash": "3d4b0f907c7a938ba7f071af18c861cb14796bc2bc63236be81e6b9643922a2d"
  },
  "kernelspec": {
   "display_name": "Python 3",
   "language": "python",
   "name": "python3"
  },
  "language_info": {
   "codemirror_mode": {
    "name": "ipython",
    "version": 3
   },
   "file_extension": ".py",
   "mimetype": "text/x-python",
   "name": "python",
   "nbconvert_exporter": "python",
   "pygments_lexer": "ipython3",
   "version": "3.7.3"
  },
  "toc": {
   "base_numbering": 1,
   "nav_menu": {},
   "number_sections": false,
   "sideBar": true,
   "skip_h1_title": false,
   "title_cell": "Table of Contents",
   "title_sidebar": "Contents",
   "toc_cell": false,
   "toc_position": {},
   "toc_section_display": true,
   "toc_window_display": false
  }
 },
 "nbformat": 4,
 "nbformat_minor": 2
}
